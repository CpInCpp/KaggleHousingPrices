{
 "cells": [
  {
   "cell_type": "code",
   "execution_count": 1,
   "metadata": {},
   "outputs": [],
   "source": [
    "# Use this notebook for feature selection.\n",
    "import pandas as pd\n",
    "import numpy as np\n",
    "import scipy as sp\n",
    "from scipy import stats\n",
    "from sklearn.linear_model import LinearRegression\n",
    "import statsmodels.api as sm\n",
    "from ipywidgets import interact, interact_manual\n",
    "%matplotlib inline\n",
    "import matplotlib.pyplot as plt\n",
    "import matplotlib as mp\n",
    "import seaborn as sns\n",
    "from IPython.display import HTML\n",
    "\n",
    "##### read in data #####\n",
    "train = pd.read_csv('../data/clean_train.csv', index_col=0)\n",
    "test = pd.read_csv('../data/clean_test.csv', index_col=0)\n",
    "\n",
    "##### initial modifications #####\n",
    "\n",
    "# set target\n",
    "target = 'SalePrice'\n",
    "\n",
    "# train without log of target\n",
    "train_original = train.copy()\n",
    "\n",
    "# take log of target variable\n",
    "train[target] = np.log(train[target])\n",
    "\n",
    "##### feature classification #####\n",
    "\n",
    "# separate data frames with numerical and categorical features\n",
    "numericals = train.select_dtypes(include=[np.number])\n",
    "categoricals = train.select_dtypes(exclude=[np.number])\n",
    "\n",
    "# categorical feature data frame including target (numerical) variable\n",
    "cat_target = pd.concat([train[['SalePrice']],categoricals], axis=1)\n",
    "\n",
    "# lists of numerical and categorical features\n",
    "num_list = numericals.drop('SalePrice', axis = 1).columns.tolist()\n",
    "cat_list = categoricals.columns.tolist()\n",
    "\n",
    "##### Global Variables #####\n",
    "s = 3 # number of std deviations to exclude\n",
    "fs = 15 # universal fontsize"
   ]
  },
  {
   "cell_type": "code",
   "execution_count": 64,
   "metadata": {},
   "outputs": [],
   "source": [
    "# get list of correlated numerical values from dataset given a threshold\n",
    "\n",
    "def get_corr_list(df, thresh = .5):\n",
    "\n",
    "\n",
    "    # get correlation list\n",
    "    corr_list = df.corr().unstack()\n",
    "\n",
    "    # ditch the values of 1.0\n",
    "    corr_list = corr_list[corr_list != 1]\n",
    "\n",
    "    # get list with threshold\n",
    "    corr_list = corr_list[(corr_list > thresh) | (corr_list < -thresh)]\n",
    "\n",
    "    # drop duplicates\n",
    "    return corr_list.drop_duplicates()\n"
   ]
  },
  {
   "cell_type": "code",
   "execution_count": 65,
   "metadata": {},
   "outputs": [
    {
     "data": {
      "text/plain": [
       "LotFrontage   LotArea         0.678814\n",
       "YearBuilt     YearRemodAdd    0.592855\n",
       "              GarageCars      0.537850\n",
       "              SalePrice       0.586570\n",
       "YearRemodAdd  SalePrice       0.565608\n",
       "BsmtFinSF1    TotalBsmtSF     0.522396\n",
       "              BsmtFullBath    0.649212\n",
       "TotalBsmtSF   X1stFlrSF       0.819530\n",
       "              SalePrice       0.612134\n",
       "X1stFlrSF     GrLivArea       0.566024\n",
       "              SalePrice       0.596981\n",
       "X2ndFlrSF     GrLivArea       0.687501\n",
       "              HalfBath        0.609707\n",
       "              BedroomAbvGr    0.502901\n",
       "              TotRmsAbvGrd    0.616423\n",
       "GrLivArea     FullBath        0.630012\n",
       "              BedroomAbvGr    0.521270\n",
       "              TotRmsAbvGrd    0.825489\n",
       "              SalePrice       0.700927\n",
       "FullBath      TotRmsAbvGrd    0.554784\n",
       "              SalePrice       0.594771\n",
       "BedroomAbvGr  TotRmsAbvGrd    0.676620\n",
       "TotRmsAbvGrd  SalePrice       0.534422\n",
       "GarageYrBlt   GarageCars     -0.566935\n",
       "              GarageArea     -0.530063\n",
       "GarageCars    GarageArea      0.882475\n",
       "              SalePrice       0.680625\n",
       "GarageArea    SalePrice       0.650888\n",
       "dtype: float64"
      ]
     },
     "execution_count": 65,
     "metadata": {},
     "output_type": "execute_result"
    }
   ],
   "source": [
    "get_corr_list(train)"
   ]
  },
  {
   "cell_type": "code",
   "execution_count": 7,
   "metadata": {},
   "outputs": [
    {
     "data": {
      "text/plain": [
       "34"
      ]
     },
     "execution_count": 7,
     "metadata": {},
     "output_type": "execute_result"
    }
   ],
   "source": [
    "len(train.corr().unstack()['LotFrontage'])"
   ]
  },
  {
   "cell_type": "code",
   "execution_count": null,
   "metadata": {},
   "outputs": [],
   "source": [
    "# which numerical variables will "
   ]
  }
 ],
 "metadata": {
  "kernelspec": {
   "display_name": "Python 3",
   "language": "python",
   "name": "python3"
  },
  "language_info": {
   "codemirror_mode": {
    "name": "ipython",
    "version": 3
   },
   "file_extension": ".py",
   "mimetype": "text/x-python",
   "name": "python",
   "nbconvert_exporter": "python",
   "pygments_lexer": "ipython3",
   "version": "3.7.3"
  }
 },
 "nbformat": 4,
 "nbformat_minor": 2
}
