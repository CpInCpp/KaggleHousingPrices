{
 "cells": [
  {
   "cell_type": "code",
   "execution_count": null,
   "metadata": {},
   "outputs": [],
   "source": []
  },
  {
   "cell_type": "code",
   "execution_count": 4,
   "metadata": {},
   "outputs": [
    {
     "data": {
      "text/html": [
       "<script>\n",
       "code_show=true; \n",
       "function code_toggle() {\n",
       " if (code_show){\n",
       " $('div.input').hide();\n",
       " } else {\n",
       " $('div.input').show();\n",
       " }\n",
       " code_show = !code_show\n",
       "} \n",
       "$( document ).ready(code_toggle);\n",
       "</script>\n",
       "The raw code for this IPython notebook is by default hidden for easier reading.\n",
       "To toggle on/off the raw code, click <a href=\"javascript:code_toggle()\">here</a>."
      ],
      "text/plain": [
       "<IPython.core.display.HTML object>"
      ]
     },
     "execution_count": 4,
     "metadata": {},
     "output_type": "execute_result"
    }
   ],
   "source": [
    "# this code will hide the coding cells..\n",
    "HTML('''<script>\n",
    "code_show=true; \n",
    "function code_toggle() {\n",
    " if (code_show){\n",
    " $('div.input').hide();\n",
    " } else {\n",
    " $('div.input').show();\n",
    " }\n",
    " code_show = !code_show\n",
    "} \n",
    "$( document ).ready(code_toggle);\n",
    "</script>\n",
    "The raw code for this IPython notebook is by default hidden for easier reading.\n",
    "To toggle on/off the raw code, click <a href=\"javascript:code_toggle()\">here</a>.''')"
   ]
  },
  {
   "cell_type": "code",
   "execution_count": 13,
   "metadata": {},
   "outputs": [],
   "source": [
    "# Use this notebook for feature selection.\n",
    "import pandas as pd\n",
    "import numpy as np\n",
    "import scipy as sp\n",
    "from scipy import stats\n",
    "from sklearn.linear_model import LinearRegression\n",
    "import statsmodels.api as sm\n",
    "from ipywidgets import interact, interact_manual\n",
    "%matplotlib inline\n",
    "import matplotlib.pyplot as plt\n",
    "import matplotlib as mp\n",
    "import seaborn as sns\n",
    "from IPython.display import HTML\n",
    "\n",
    "##### read in data #####\n",
    "train = pd.read_csv('clean_data/train_fe.csv', index_col=0)\n",
    "test = pd.read_csv('clean_data/train_fe.csv', index_col=0)\n",
    "\n",
    "##### initial modifications #####\n",
    "\n",
    "# set target\n",
    "target = 'SalePrice'\n",
    "\n",
    "# train without log of target\n",
    "train_original = train.copy()\n",
    "\n",
    "# take log of target variable\n",
    "train[target] = np.log(train[target])\n",
    "\n",
    "##### feature classification #####\n",
    "\n",
    "# separate data frames with numerical and categorical features\n",
    "numericals = train.select_dtypes(include=[np.number])\n",
    "categoricals = train.select_dtypes(exclude=[np.number])\n",
    "\n",
    "# categorical feature data frame including target (numerical) variable\n",
    "cat_target = pd.concat([train[['SalePrice']],categoricals], axis=1)\n",
    "\n",
    "# lists of numerical and categorical features\n",
    "num_list = numericals.drop('SalePrice', axis = 1).columns.tolist()\n",
    "cat_list = categoricals.columns.tolist()\n",
    "\n",
    "##### Global Variables #####\n",
    "s = 3 # number of std deviations to exclude\n",
    "fs = 15 # universal fontsize\n",
    "\n",
    "\n",
    "# functions\n",
    "def masking(df, feature, outliers=True, zeros=True):\n",
    "    # returns modeified dataset\n",
    "    \n",
    "    # df          :  pandas dataframe\n",
    "    # feature     :  string indicating feature\n",
    "    # outliers    :  boolean to toggle presence of outliers\n",
    "    # zeros       :  boolean to toggle presence of zero-values\n",
    "    idx_not_zero = df[feature][df[feature] != 0].index\n",
    "    if zeros == False:\n",
    "        df = df.loc[idx_not_zero]\n",
    "    if outliers == False:\n",
    "        mask_outliers = (np.abs(stats.zscore(df[feature])) > s)\n",
    "        df = df[~mask_outliers]\n",
    "    \n",
    "    return df\n",
    "\n",
    "\n",
    "\n",
    "\n",
    "def get_corr_list(df, target=[], thresh = .5):\n",
    "    # returns list of correlated numerical values \n",
    "    # from dataset given a threshold\n",
    "    \n",
    "    # df      :  pandas dataframe\n",
    "    # thresh  :  threshold absolute value for correlations\n",
    "\n",
    "    # get correlation list and drop target\n",
    "    corr_list = df.drop(target, axis=1).corr().unstack()\n",
    "\n",
    "    # ditch the values of 1.0\n",
    "    corr_list = corr_list[corr_list != 1]\n",
    "\n",
    "    # get list with threshold\n",
    "    corr_list = corr_list[(corr_list > thresh) | (corr_list < -thresh)]\n",
    "\n",
    "    # drop duplicates\n",
    "    return corr_list.drop_duplicates().sort_values(ascending=False)\n"
   ]
  },
  {
   "cell_type": "markdown",
   "metadata": {},
   "source": [
    "Correlation With Target Variable"
   ]
  },
  {
   "cell_type": "code",
   "execution_count": 17,
   "metadata": {
    "scrolled": false
   },
   "outputs": [
    {
     "data": {
      "application/vnd.jupyter.widget-view+json": {
       "model_id": "6ace14791c1b42db9f63dcc62dce2b42",
       "version_major": 2,
       "version_minor": 0
      },
      "text/plain": [
       "interactive(children=(Dropdown(description='feature', options=('MSSubClass', 'OverallQual', 'YearBuilt', 'Year…"
      ]
     },
     "metadata": {},
     "output_type": "display_data"
    }
   ],
   "source": [
    "# Correlation with SalePrice\n",
    "\n",
    "@interact\n",
    "def corr_vis(feature=num_list, IncludeOutliers=True, IncludeZeroValues=True):\n",
    "\n",
    "    dataset = masking(df = train, feature=feature, outliers=IncludeOutliers, zeros=IncludeZeroValues)\n",
    "    target = 'SalePrice'\n",
    "    dfy = dataset[target]\n",
    "    dfx = dataset[feature]\n",
    "\n",
    "    f, (ax1, ax2) = plt.subplots(1, 2, sharey=False, figsize=(20,7.5))\n",
    "    plt.rc('xtick', labelsize=fs) \n",
    "    plt.rc('ytick', labelsize=fs) \n",
    "    \n",
    "    ax1.scatter(x=dfx, y=dfy)\n",
    "    ax1.set_title('Log(SalePrice) vs {}'.format(feature), fontsize = fs)\n",
    "    ax1.set_xlabel(feature, fontsize = fs)\n",
    "    ax1.set_ylabel('Log({})'.format(target), fontsize = fs)\n",
    "\n",
    "    ax2.hist(x=dfx)\n",
    "    ax2.set_title('Distribution of {}'.format(feature), fontsize = fs)\n",
    "    ax2.set_xlabel(feature, fontsize = fs)\n",
    "    ax2.set_ylabel('Count', fontsize = fs)\n",
    "\n",
    "    \n",
    "    # print small table\n",
    "    tbl = dataset[[feature]].describe().round(2).T\n",
    "    feature_corr = dataset.corr().unstack().round(4)\n",
    "    tbl['Corr with {}'.format(target)] = feature_corr[feature][target].round(4)\n",
    "    print(tbl)"
   ]
  },
  {
   "cell_type": "code",
   "execution_count": 7,
   "metadata": {},
   "outputs": [],
   "source": [
    "# list of features that require a boolean support column\n",
    "need_toggle = ['YearRemodAdd', 'MasVnrArea', 'BsmtFinSF1', 'BsmtFinSF2', 'GarageArea', 'WoodDeckSF', 'OpenPorchSF', 'ScreenPorch']\n",
    "\n",
    "# list of features to drop after engineering\n",
    "fe_drop =['PoolArea', 'X3SsnPorch', 'GrLivArea', 'FirePlaces', 'HalfBath', 'BsmtHalfBath','BsmtFullBath', 'LowQualFinSF', 'BsmtUnfSF','EnclosedPorch','KitchenAbvGr','BedroomAbvGr', 'FullBath', 'HalfBath', 'BsmtFinType2', 'TotalBsmtSF', 'X1stFlrSF', 'X2ndFlrSF', 'TotRmsAbvGrd', 'LotArea', 'LotFrontage']\n",
    "\n",
    "# check out FirePlaces correlation"
   ]
  },
  {
   "cell_type": "code",
   "execution_count": 8,
   "metadata": {},
   "outputs": [],
   "source": [
    "# Notes\n",
    "# FullBath is strictly increasing, and can probably be treated as ordinal categorical\n",
    "# X3SsnPorch's 0 values greatly span past the maximum SalePrice.  It makes me think this feature isn't necessary.\n",
    "# MoSold: most sales happen in the summer, but there isn't much affect on the SalePrice\n",
    "# GarageCars would be strictly increasing were it not for category 4 (4-car-garage)\n",
    "# "
   ]
  },
  {
   "cell_type": "markdown",
   "metadata": {},
   "source": [
    "Correlation Plots"
   ]
  },
  {
   "cell_type": "code",
   "execution_count": 9,
   "metadata": {
    "scrolled": false
   },
   "outputs": [
    {
     "data": {
      "application/vnd.jupyter.widget-view+json": {
       "model_id": "74ad713f968f44a1b53e20eac172aac2",
       "version_major": 2,
       "version_minor": 0
      },
      "text/plain": [
       "interactive(children=(Dropdown(description='feature_y', options=('MSSubClass', 'LotFrontage', 'LotArea', 'Over…"
      ]
     },
     "metadata": {},
     "output_type": "display_data"
    }
   ],
   "source": [
    "# Correlation plots\n",
    "\n",
    "setlist = ['train', 'test']\n",
    "\n",
    "@interact\n",
    "def corr_vis(feature_y=num_list, feature_x = num_list, IncludeOutliers=True, IncludeZeroValues=True, DatasetSelection=setlist):\n",
    "    # figure sizing parameters\n",
    "    m = 12\n",
    "    n = 5\n",
    "    \n",
    "    # conditionals to switch between datasets\n",
    "    if DatasetSelection == 'train':\n",
    "        dataselection = train\n",
    "    else:\n",
    "        dataselection = test\n",
    "    feature = feature_x\n",
    "    target = feature_y\n",
    "    \n",
    "    # anchor dataset prior to plotting\n",
    "    dataset = masking(df = dataselection, feature=feature, outliers=IncludeOutliers, zeros=IncludeZeroValues)\n",
    "    \n",
    "    # anchor plotting parameters\n",
    "    dfy = dataset[target]\n",
    "    dfx = dataset[feature]\n",
    "    \n",
    "    f, axarr = plt.subplots(1,2, sharey=False,sharex=False, figsize=(m,n))\n",
    "   \n",
    "    axarr[0].scatter(x=dfx, y=dfy)\n",
    "    axarr[0].set_title('{} vs {}'.format(target,feature), fontsize = fs)\n",
    "    axarr[0].set_xlabel(feature, fontsize = fs)\n",
    "    axarr[0].set_ylabel(target, fontsize = fs)\n",
    "\n",
    "    axarr[1].hist(x=dfx)\n",
    "    axarr[1].set_title('Distribution of {} {}ing Set'.format(feature, DatasetSelection), fontsize = fs)\n",
    "    axarr[1].set_xlabel(feature, fontsize = fs)\n",
    "    axarr[1].set_ylabel('Count', fontsize = fs)\n",
    "    \n",
    "    plt.tight_layout()\n",
    "    \n",
    "    # print small table\n",
    "    tbl = dataset[[feature]].describe().round(2).T\n",
    "    feature_corr = dataset.corr().unstack().round(4)\n",
    "    tbl['Corr with {}'.format(target)] = feature_corr[feature][target].round(4)\n",
    "    print(tbl)"
   ]
  },
  {
   "cell_type": "code",
   "execution_count": 10,
   "metadata": {},
   "outputs": [],
   "source": [
    "get_corr_list(train, target = target)\n",
    "num_drop = ['GarageCars']\n",
    "# TotalSpaceSF = TotalBsmtSF + X1stFlrSF + X2ndFlrSF\n",
    "# LotFA = np.sqrt(LotArea) + LotFrontage\n",
    "# TotalBath = FullBath + HalfBath\n",
    "# RmsPerLivSpc = TotRmsAbvGrd/(X1stFlrSF + X2ndFlrSF)\n",
    "# FPperSF = FirePlaces/TotalSpaceSF\n",
    "\n"
   ]
  },
  {
   "cell_type": "markdown",
   "metadata": {},
   "source": [
    "Effect of Chosen Categorical Variable on Median SalePrice"
   ]
  },
  {
   "cell_type": "code",
   "execution_count": 16,
   "metadata": {},
   "outputs": [
    {
     "data": {
      "application/vnd.jupyter.widget-view+json": {
       "model_id": "6cf8a46005e6442d8957645bf10ec567",
       "version_major": 2,
       "version_minor": 0
      },
      "text/plain": [
       "interactive(children=(Dropdown(description='feature', options=('MSZoning', 'Street', 'Alley', 'LotShape', 'Lan…"
      ]
     },
     "metadata": {},
     "output_type": "display_data"
    }
   ],
   "source": [
    "# Effect of chosen categorical variable on Median SalePrice\n",
    "# Darker colors indicate higher frequency of category\n",
    "cat_list = categoricals.columns.tolist()\n",
    "@interact\n",
    "def pivots(feature=cat_list, Aggregate = ['Mean', 'Median']):\n",
    "    # figure sizing parameters\n",
    "    m = 20\n",
    "    n = 7.5\n",
    "    \n",
    "    if Aggregate == 'Median':\n",
    "        Agg = np.median\n",
    "    else:\n",
    "        Agg = np.mean\n",
    "    \n",
    "    \n",
    "    \n",
    "    \n",
    "    dfx = train_original\n",
    "    data_normalizer = mp.colors.Normalize()\n",
    "    color_map = mp.colors.LinearSegmentedColormap(\n",
    "        \"my_map\",\n",
    "        {\n",
    "        \"red\": [(0, 1.0, 1.0),\n",
    "                (1.0, .5, .5)],\n",
    "        \"green\": [(0, 0.5, 0.5),\n",
    "                  (1.0, 0, 0)],\n",
    "        \"blue\": [(0, 0.50, 0.5),\n",
    "                 (1.0, 0, 0)]\n",
    "        }\n",
    "    )\n",
    "   \n",
    "    data_train = dfx.groupby(feature)[feature].count()\n",
    "    \n",
    "    colors=color_map(data_normalizer((data_train.values)))\n",
    "     \n",
    "    fs = 15\n",
    "    \n",
    "    \n",
    "    f, (ax1, ax2) = plt.subplots(1, 2, sharey=False, figsize=(m,n))\n",
    "    \n",
    "    plt.rc('xtick', labelsize=fs) \n",
    "    plt.rc('ytick', labelsize=fs) \n",
    "    \n",
    "    condition_pivot_train = dfx.pivot_table(index=feature, values='SalePrice', aggfunc=Agg).reset_index()\n",
    "    sns.barplot(x=feature,y='SalePrice', palette = colors, data=condition_pivot_train, ax=ax1)\n",
    "    ax1.set_title('{} SalePrice vs {}'.format(Aggregate, feature), fontsize = fs)\n",
    "    ax1.set_xlabel('{} Category'.format(feature), fontsize = fs)\n",
    "    ax1.set_ylabel('{} SalePrice'.format(Aggregate), fontsize = fs)\n",
    "\n",
    "    ax2.bar(x=data_train.index, height=data_train)\n",
    "    ax2.set_title('Distribution of {} Categories'.format(feature), fontsize = fs)\n",
    "    ax2.set_xlabel('{} Category'.format(feature), fontsize = fs)\n",
    "    ax2.set_ylabel('Count', fontsize = fs)\n",
    "    "
   ]
  },
  {
   "cell_type": "code",
   "execution_count": 12,
   "metadata": {},
   "outputs": [],
   "source": [
    "### AAAHHHHH WHAT DO I DO WITH THESE FEATURES!!??!1\n",
    "cat_ordinal = ['BsmtQual', ]\n",
    "cat_drop = ['BsmtCond', 'RoofStyle', 'Alley', 'LandContour', 'Utilities', 'LandSlope', 'RoofMatl', 'BsmtFinType2', 'Functional', 'MiscFeature']\n",
    "cat_drop_maybe = ['Condition1', 'Condition2', 'BldgType', 'ExterCond', 'Fence', 'SaleCondition']\n",
    "# bin LotConfig to be CulDSac or not\n",
    "# bin Exterior1st and Exterior2nd to be VinylSd or not\n",
    "# bin Foundation to be PConc or not\n",
    "# bin BsmtFinType1 to be GLQ or not\n",
    "# bin Electrical to be SBrkr or not\n",
    "\n",
    "\n"
   ]
  },
  {
   "cell_type": "code",
   "execution_count": null,
   "metadata": {},
   "outputs": [],
   "source": [
    "get_corr_list(train, target = target)"
   ]
  },
  {
   "cell_type": "code",
   "execution_count": null,
   "metadata": {},
   "outputs": [],
   "source": []
  }
 ],
 "metadata": {
  "kernelspec": {
   "display_name": "Python 3",
   "language": "python",
   "name": "python3"
  },
  "language_info": {
   "codemirror_mode": {
    "name": "ipython",
    "version": 3
   },
   "file_extension": ".py",
   "mimetype": "text/x-python",
   "name": "python",
   "nbconvert_exporter": "python",
   "pygments_lexer": "ipython3",
   "version": "3.7.3"
  }
 },
 "nbformat": 4,
 "nbformat_minor": 2
}
