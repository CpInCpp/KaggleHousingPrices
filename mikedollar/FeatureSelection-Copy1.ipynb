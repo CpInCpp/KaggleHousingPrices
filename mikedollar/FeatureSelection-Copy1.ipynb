{
 "cells": [
  {
   "cell_type": "code",
   "execution_count": 4,
   "metadata": {},
   "outputs": [],
   "source": [
    "# Use this notebook for feature selection.\n",
    "# First, look at correlation with target variable.  Remove outliers."
   ]
  },
  {
   "cell_type": "code",
   "execution_count": 5,
   "metadata": {},
   "outputs": [
    {
     "data": {
      "text/html": [
       "<script>\n",
       "code_show=true; \n",
       "function code_toggle() {\n",
       " if (code_show){\n",
       " $('div.input').hide();\n",
       " } else {\n",
       " $('div.input').show();\n",
       " }\n",
       " code_show = !code_show\n",
       "} \n",
       "$( document ).ready(code_toggle);\n",
       "</script>\n",
       "The raw code for this IPython notebook is by default hidden for easier reading.\n",
       "To toggle on/off the raw code, click <a href=\"javascript:code_toggle()\">here</a>."
      ],
      "text/plain": [
       "<IPython.core.display.HTML object>"
      ]
     },
     "execution_count": 5,
     "metadata": {},
     "output_type": "execute_result"
    }
   ],
   "source": [
    "# this code will hide the coding cells..\n",
    "HTML('''<script>\n",
    "code_show=true; \n",
    "function code_toggle() {\n",
    " if (code_show){\n",
    " $('div.input').hide();\n",
    " } else {\n",
    " $('div.input').show();\n",
    " }\n",
    " code_show = !code_show\n",
    "} \n",
    "$( document ).ready(code_toggle);\n",
    "</script>\n",
    "The raw code for this IPython notebook is by default hidden for easier reading.\n",
    "To toggle on/off the raw code, click <a href=\"javascript:code_toggle()\">here</a>.''')"
   ]
  },
  {
   "cell_type": "code",
   "execution_count": 6,
   "metadata": {},
   "outputs": [],
   "source": [
    "import pandas as pd\n",
    "import numpy as np\n",
    "import scipy as sp\n",
    "from scipy import stats\n",
    "from sklearn.linear_model import LinearRegression\n",
    "import statsmodels.api as sm\n",
    "from ipywidgets import interact, interact_manual\n",
    "%matplotlib inline\n",
    "import matplotlib.pyplot as plt\n",
    "import matplotlib as mp\n",
    "import seaborn as sns\n",
    "from IPython.display import HTML"
   ]
  },
  {
   "cell_type": "code",
   "execution_count": 171,
   "metadata": {},
   "outputs": [],
   "source": [
    "# read in data\n",
    "train = pd.read_csv('../data/clean_train.csv', index_col=0)\n",
    "test = pd.read_csv('../data/clean_test.csv', index_col=0)\n",
    "\n",
    "##### initial modifications #####\n",
    "\n",
    "\n",
    "\n",
    "# set target\n",
    "target = 'SalePrice'\n",
    "\n",
    "# take log of target variable\n",
    "train[target] = np.log(train[target])\n",
    "\n",
    "\n",
    "##### feature classification #####\n",
    "\n",
    "# separate data frames with numerical and categorical features\n",
    "numericals = train.select_dtypes(include=[np.number])\n",
    "categoricals = train.select_dtypes(exclude=[np.number])\n",
    "\n",
    "# categorical feature data frame including target (numerical) variable\n",
    "cat_target = pd.concat([train[['SalePrice']],categoricals], axis=1)\n",
    "\n",
    "# lists of numerical and categorical features\n",
    "num_list = numericals.drop('SalePrice', axis = 1).columns.tolist()\n",
    "cat_list = categoricals.columns.tolist()\n",
    "\n",
    "\n",
    "### Categorical Variable Classification\n",
    "nominals = []\n",
    "ordinals = []\n",
    "\n"
   ]
  },
  {
   "cell_type": "code",
   "execution_count": 163,
   "metadata": {},
   "outputs": [],
   "source": [
    "def masking(df, feature, outliers=True, zeroes=True):\n",
    "    s = 3\n",
    "    \n",
    "    idx_not_zero = df[feature][df[feature] != 0].index\n",
    "    if zeroes == False:\n",
    "        df = df.loc[idx_not_zero]\n",
    "    if outliers == False:\n",
    "        mask_outliers = (np.abs(stats.zscore(df[feature])) > s)\n",
    "        df = df[~mask_outliers]\n",
    "    \n",
    "    return df\n",
    "\n",
    "\n"
   ]
  },
  {
   "cell_type": "code",
   "execution_count": 164,
   "metadata": {},
   "outputs": [
    {
     "data": {
      "application/vnd.jupyter.widget-view+json": {
       "model_id": "b5b03f92e37442fe8b27a25cb8a50125",
       "version_major": 2,
       "version_minor": 0
      },
      "text/plain": [
       "interactive(children=(Dropdown(description='feature', options=('LotFrontage', 'LotArea', 'YearBuilt', 'YearRem…"
      ]
     },
     "metadata": {},
     "output_type": "display_data"
    }
   ],
   "source": [
    "# Correlation with SalePrice\n",
    "s = 3\n",
    "fs = 15\n",
    "\n",
    "\n",
    "@interact\n",
    "def corr_vis(feature=num_list, IncludeOutliers=True, IncludeZeroValues=True):\n",
    "\n",
    "    dataset = masking(df = train, feature=feature, outliers=IncludeOutliers, zeroes=IncludeZeroValues)\n",
    "    target = 'SalePrice'\n",
    "    dfy = dataset[target]\n",
    "    dfx = dataset[feature]\n",
    "\n",
    "    f, (ax1, ax2) = plt.subplots(1, 2, sharey=False, figsize=(20,7.5))\n",
    "    plt.rc('xtick', labelsize=fs) \n",
    "    plt.rc('ytick', labelsize=fs) \n",
    "    \n",
    "    ax1.scatter(x=dfx, y=dfy)\n",
    "    ax1.set_title('SalePrice vs {}'.format(feature), fontsize = fs)\n",
    "    ax1.set_xlabel(feature, fontsize = fs)\n",
    "    ax1.set_ylabel('SalePrice', fontsize = fs)\n",
    "\n",
    "    ax2.hist(x=dfx)\n",
    "    ax2.set_title('Distribution of {}'.format(feature), fontsize = fs)\n",
    "    ax2.set_xlabel(feature, fontsize = fs)\n",
    "    ax2.set_ylabel('Count', fontsize = fs)\n",
    "\n",
    "    \n",
    "    "
   ]
  },
  {
   "cell_type": "code",
   "execution_count": 165,
   "metadata": {},
   "outputs": [],
   "source": [
    "# Notes\n",
    "# FullBath is strictly increasing, and can probably be treated as ordinal categorical\n",
    "# X3SsnPorch's 0 values greatly span past the maximum SalePrice.  It makes me think this feature isn't necessary.\n",
    "# MoSold: most sales happen in the summer, but there isn't much affect on the SalePrice\n",
    "# GarageCars would be strictly increasing were it not for category 4 (4-car-garage)\n",
    "# "
   ]
  },
  {
   "cell_type": "code",
   "execution_count": 168,
   "metadata": {
    "scrolled": false
   },
   "outputs": [
    {
     "data": {
      "application/vnd.jupyter.widget-view+json": {
       "model_id": "d1322655c7364e91b9fffeb968adbc88",
       "version_major": 2,
       "version_minor": 0
      },
      "text/plain": [
       "interactive(children=(Dropdown(description='feature_y', options=('LotFrontage', 'LotArea', 'YearBuilt', 'YearR…"
      ]
     },
     "metadata": {},
     "output_type": "display_data"
    }
   ],
   "source": [
    "# Correlation plots\n",
    "# Subplots are laid out in a 2 x 2 grid, with training data set on top, and test data set on bottom.\n",
    "s = 3\n",
    "fs = 15\n",
    "m = 12\n",
    "n = 5\n",
    "\n",
    "setlist = ['train', 'test']\n",
    "\n",
    "@interact\n",
    "def corr_vis(feature_y=num_list, feature_x = num_list, IncludeOutliers=True, IncludeZeroValues=True, DatasetSelection=setlist):\n",
    "    if DatasetSelection == 'train':\n",
    "        dataselection = train\n",
    "    else:\n",
    "        dataselection = test\n",
    "    feature = feature_x\n",
    "    target = feature_y\n",
    "    \n",
    "    \n",
    "    dataset = masking(df = dataselection, feature=feature, outliers=IncludeOutliers, zeroes=IncludeZeroValues)\n",
    "    \n",
    "    \n",
    "    dfy = dataset[target]\n",
    "    dfx = dataset[feature]\n",
    "    \n",
    "    f, axarr = plt.subplots(1,2, sharey=False,sharex=False, figsize=(m,n))\n",
    "   \n",
    "    axarr[0].scatter(x=dfx, y=dfy)\n",
    "    axarr[0].set_title('{} vs {}'.format(target,feature), fontsize = fs)\n",
    "    axarr[0].set_xlabel(feature, fontsize = fs)\n",
    "    axarr[0].set_ylabel(target, fontsize = fs)\n",
    "\n",
    "    axarr[1].hist(x=dfx)\n",
    "    axarr[1].set_title('Distribution of {} {}ing Set'.format(feature, DatasetSelection), fontsize = fs)\n",
    "    axarr[1].set_xlabel(feature, fontsize = fs)\n",
    "    axarr[1].set_ylabel('Count', fontsize = fs)\n",
    "    \n",
    "    plt.tight_layout()\n",
    "    \n",
    "    tbl = dataset[[feature]].describe().round(2).T\n",
    "    feature_corr = dataset.corr().unstack().round(4)\n",
    "    tbl['Corr with {}'.format(target)] = feature_corr[feature][target].round(4)\n",
    "    print(tbl)"
   ]
  },
  {
   "cell_type": "code",
   "execution_count": 167,
   "metadata": {},
   "outputs": [
    {
     "data": {
      "application/vnd.jupyter.widget-view+json": {
       "model_id": "ee09bd9bea4f4203bb98fef5d7160a9c",
       "version_major": 2,
       "version_minor": 0
      },
      "text/plain": [
       "interactive(children=(Dropdown(description='feature', options=('MSSubClass', 'MSZoning', 'Street', 'Alley', 'L…"
      ]
     },
     "metadata": {},
     "output_type": "display_data"
    }
   ],
   "source": [
    "# Effect of chosen categorical variable on Median SalePrice\n",
    "# Darker colors indicate higher frequency of category\n",
    "cat_list = categoricals.columns.tolist()\n",
    "@interact\n",
    "def pivots(feature=cat_list):\n",
    "    \n",
    "    data_normalizer = mp.colors.Normalize()\n",
    "    color_map = mp.colors.LinearSegmentedColormap(\n",
    "        \"my_map\",\n",
    "        {\n",
    "        \"red\": [(0, 1.0, 1.0),\n",
    "                (1.0, .5, .5)],\n",
    "        \"green\": [(0, 0.5, 0.5),\n",
    "                  (1.0, 0, 0)],\n",
    "        \"blue\": [(0, 0.50, 0.5),\n",
    "                 (1.0, 0, 0)]\n",
    "        }\n",
    "    )\n",
    "   \n",
    "    data_train = train.groupby(feature)[feature].count()\n",
    "    \n",
    "    colors=color_map(data_normalizer((data_train.values)))\n",
    "     \n",
    "    fs = 15\n",
    "    \n",
    "    \n",
    "    f, (ax1, ax2) = plt.subplots(1, 2, sharey=False, figsize=(20,7.5))\n",
    "    \n",
    "    plt.rc('xtick', labelsize=fs) \n",
    "    plt.rc('ytick', labelsize=fs) \n",
    "    \n",
    "    condition_pivot_train = train.pivot_table(index=feature, values='SalePrice', aggfunc=np.median).reset_index()\n",
    "    sns.barplot(x=feature,y='SalePrice', palette = colors, data=condition_pivot_train, ax=ax1)\n",
    "    ax1.set_title('Median SalePrice vs {}'.format(feature), fontsize = fs)\n",
    "    ax1.set_xlabel(feature, fontsize = fs)\n",
    "    ax1.set_ylabel('Median SalePrice', fontsize = fs)\n",
    "\n",
    "    ax2.bar(x=data_train.index, height=data_train)\n",
    "    ax2.set_title('Distribution of {}'.format(feature), fontsize = fs)\n",
    "    ax2.set_xlabel(feature, fontsize = fs)\n",
    "    ax2.set_ylabel('Count', fontsize = fs)\n"
   ]
  },
  {
   "cell_type": "code",
   "execution_count": null,
   "metadata": {},
   "outputs": [],
   "source": []
  }
 ],
 "metadata": {
  "kernelspec": {
   "display_name": "Python 3",
   "language": "python",
   "name": "python3"
  },
  "language_info": {
   "codemirror_mode": {
    "name": "ipython",
    "version": 3
   },
   "file_extension": ".py",
   "mimetype": "text/x-python",
   "name": "python",
   "nbconvert_exporter": "python",
   "pygments_lexer": "ipython3",
   "version": "3.7.3"
  }
 },
 "nbformat": 4,
 "nbformat_minor": 2
}
