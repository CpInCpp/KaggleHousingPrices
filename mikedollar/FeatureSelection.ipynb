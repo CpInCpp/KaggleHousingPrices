{
 "cells": [
  {
   "cell_type": "code",
   "execution_count": 1,
   "metadata": {},
   "outputs": [],
   "source": [
    "# Use this notebook for feature selection.\n",
    "# First, look at correlation with target variable.  Remove outliers.  Select "
   ]
  },
  {
   "cell_type": "code",
   "execution_count": 463,
   "metadata": {},
   "outputs": [],
   "source": [
    "import pandas as pd\n",
    "import numpy as np\n",
    "import scipy as sp\n",
    "from scipy import stats\n",
    "from sklearn.linear_model import LinearRegression\n",
    "import statsmodels.api as sm\n",
    "from ipywidgets import interact, interact_manual\n",
    "%matplotlib inline\n",
    "import matplotlib.pyplot as plt"
   ]
  },
  {
   "cell_type": "code",
   "execution_count": 470,
   "metadata": {},
   "outputs": [],
   "source": [
    "# read in data\n",
    "train = pd.read_csv('../data/clean_train.csv', index_col=0)\n",
    "test = pd.read_csv('../data/clean_test.csv', index_col=0)\n"
   ]
  },
  {
   "cell_type": "code",
   "execution_count": 471,
   "metadata": {},
   "outputs": [],
   "source": [
    "# initial modifications\n",
    "# set target\n",
    "target = train['SalePrice']\n",
    "\n",
    "# change MSSubClass to string\n",
    "train['MSSubClass'] = train['MSSubClass'].astype(str)\n",
    "\n",
    "\n",
    "\n",
    "\n",
    "# remove 'SalePrice' as it is the target variable.\n",
    "#train.drop('SalePrice', axis = 1, inplace = True)"
   ]
  },
  {
   "cell_type": "code",
   "execution_count": 522,
   "metadata": {},
   "outputs": [
    {
     "data": {
      "text/plain": [
       "dtype('int64')"
      ]
     },
     "execution_count": 522,
     "metadata": {},
     "output_type": "execute_result"
    }
   ],
   "source": [
    "train['GarageYrBlt'].dtype"
   ]
  },
  {
   "cell_type": "code",
   "execution_count": 474,
   "metadata": {},
   "outputs": [],
   "source": [
    "# feature classification\n",
    "\n",
    "# separate data frames with numerical and categorical features\n",
    "numericals = train.select_dtypes(include=[np.number])\n",
    "categoricals = train.select_dtypes(exclude=[np.number])\n",
    "\n",
    "# lists of numerical and categorical features\n",
    "num_list = numericals.columns.tolist()\n",
    "cat_list = categoricals.columns.tolist()\n",
    "\n",
    "### Categorical Variable Classification\n",
    "nominals = []\n",
    "ordinals = []\n"
   ]
  },
  {
   "cell_type": "code",
   "execution_count": 481,
   "metadata": {},
   "outputs": [],
   "source": [
    "# numerical correlations with target variable\n",
    "\n",
    "num_corr = numericals.corr()['SalePrice']\n"
   ]
  },
  {
   "cell_type": "code",
   "execution_count": 514,
   "metadata": {},
   "outputs": [
    {
     "data": {
      "application/vnd.jupyter.widget-view+json": {
       "model_id": "58a4d0580d4b4f3883bafa952e098438",
       "version_major": 2,
       "version_minor": 0
      },
      "text/plain": [
       "interactive(children=(Dropdown(description='feature', options=('GrLivArea', 'GarageCars', 'GarageArea', 'Total…"
      ]
     },
     "metadata": {},
     "output_type": "display_data"
    }
   ],
   "source": [
    "# positive correlation plots\n",
    "s = 3\n",
    "fs = 15\n",
    "\n",
    "x_list = num_corr[num_corr > 0].sort_values(ascending = False).index.tolist()\n",
    "del x_list[0]\n",
    "@interact\n",
    "def corr_vis(feature=x_list, outliers=True):\n",
    "    mask = (np.abs(stats.zscore(train[feature])) > s)\n",
    "    if outliers:\n",
    "        y = target\n",
    "        x = train[feature]\n",
    "    else:\n",
    "        y = target[~mask]\n",
    "        x = train[feature][~mask]\n",
    "    \n",
    "    f, (ax1, ax2) = plt.subplots(1, 2, sharey=False, figsize=(20,7.5))\n",
    "    plt.rc('xtick', labelsize=fs) \n",
    "    plt.rc('ytick', labelsize=fs) \n",
    "    \n",
    "    ax1.scatter(x=x, y=y)\n",
    "    ax1.set_title('SalePrice vs {}'.format(feature), fontsize = fs)\n",
    "    ax1.set_xlabel(feature, fontsize = fs)\n",
    "    ax1.set_ylabel('SalePrice', fontsize = fs)\n",
    "\n",
    "    ax2.hist(x=x)\n",
    "    ax2.set_title('Distribution of {}'.format(feature), fontsize = fs)\n",
    "    ax2.set_xlabel(feature, fontsize = fs)\n",
    "    ax2.set_ylabel('Count', fontsize = fs)\n",
    "\n",
    "    \n",
    "    "
   ]
  },
  {
   "cell_type": "code",
   "execution_count": null,
   "metadata": {},
   "outputs": [],
   "source": [
    "# FullBath is strictly increasing, and can probably be treated as ordinal categorical\n",
    "# X3SsnPorch's 0 values greatly span past the maximum SalePrice.  It makes me think this feature isn't necessary.\n",
    "# MoSold: most sales happen in the summer, but there isn't much affect on the SalePrice\n",
    "# GarageCars would be strictly increasing were it not for category 4 (4-car-garage)\n",
    "# "
   ]
  },
  {
   "cell_type": "code",
   "execution_count": 220,
   "metadata": {},
   "outputs": [
    {
     "data": {
      "text/plain": [
       "KitchenAbvGr    -0.135907\n",
       "EnclosedPorch   -0.128578\n",
       "OverallCond     -0.077856\n",
       "LowQualFinSF    -0.025606\n",
       "MiscVal         -0.021190\n",
       "BsmtHalfBath    -0.016844\n",
       "BsmtFinSF2      -0.011378\n",
       "Name: SalePrice, dtype: float64"
      ]
     },
     "execution_count": 220,
     "metadata": {},
     "output_type": "execute_result"
    }
   ],
   "source": [
    "# negative correlations\n",
    "quant_corr[quant_corr < 0].sort_values()"
   ]
  },
  {
   "cell_type": "code",
   "execution_count": 515,
   "metadata": {},
   "outputs": [],
   "source": [
    "# negative correlation plots\n",
    "# s = 3\n",
    "# fs = 15\n",
    "\n",
    "# x_list = quant_corr[quant_corr < 0].sort_values().index.tolist()\n",
    "# del x_list[0]\n",
    "# @interact\n",
    "# def corr_vis(feature=x_list, outliers=True):\n",
    "#     mask = (np.abs(stats.zscore(train[feature])) > s)\n",
    "#     if outliers:\n",
    "#         y = target\n",
    "#         x = train[feature]\n",
    "#     else:\n",
    "#         y = target[~mask]\n",
    "#         x = train[feature][~mask]\n",
    "    \n",
    "#     plt.scatter(x = x, y = y)\n",
    "#     plt.title('SalePrice vs {}'.format(feature), fontsize = fs)\n",
    "#     plt.xlabel(feature, fontsize = fs)\n",
    "#     plt.ylabel('SalePrice', fontsize = fs)\n",
    "#     plt.xticks(fontsize = fs)\n",
    "#     plt.yticks(fontsize = fs)"
   ]
  },
  {
   "cell_type": "code",
   "execution_count": null,
   "metadata": {},
   "outputs": [],
   "source": [
    "exclusion_list = ['BsmtHalfBath', 'MiscVal', 'LowQualFinSF', 'OverallCond', 'KitchenAbvGr']"
   ]
  },
  {
   "cell_type": "code",
   "execution_count": 528,
   "metadata": {},
   "outputs": [],
   "source": [
    "# dummify all categorical variables then concat with SalePrice and look at linear relationship with target\n",
    "\n",
    "cat_dum = pd.get_dummies(categoricals, drop_first=True)\n",
    "cat_target = pd.concat([cat_dum,target], axis=1)"
   ]
  },
  {
   "cell_type": "code",
   "execution_count": 530,
   "metadata": {},
   "outputs": [],
   "source": [
    "# all correlations with SalePrice\n",
    "cat_target_corr = cat_target.corr()['SalePrice']\n"
   ]
  },
  {
   "cell_type": "code",
   "execution_count": 532,
   "metadata": {},
   "outputs": [
    {
     "data": {
      "application/vnd.jupyter.widget-view+json": {
       "model_id": "61fc9c397dcd45e69a8850878472de4d",
       "version_major": 2,
       "version_minor": 0
      },
      "text/plain": [
       "interactive(children=(Dropdown(description='feature', options=('MSSubClass_20', 'MSSubClass_50', 'MSSubClass_6…"
      ]
     },
     "metadata": {},
     "output_type": "display_data"
    }
   ],
   "source": [
    "# positive categorical correlation plots\n",
    "s = 3\n",
    "fs = 15\n",
    "\n",
    "x_list = cat_target_corr[cat_target_corr > 0].index.tolist()\n",
    "del x_list[0]\n",
    "@interact\n",
    "def corr_vis(feature=x_list, outliers=True):\n",
    "    mask = (np.abs(stats.zscore(train_dum[feature])) > s)\n",
    "    if outliers:\n",
    "        y = target\n",
    "        x = train_dum[feature]\n",
    "    else:\n",
    "        y = target[~mask]\n",
    "        x = train_dum[feature][~mask]\n",
    "    \n",
    "    plt.scatter(x = x, y = y)\n",
    "    plt.title('SalePrice vs {}'.format(feature), fontsize = fs)\n",
    "    plt.xlabel(feature, fontsize = fs)\n",
    "    plt.ylabel('SalePrice', fontsize = fs)\n",
    "    plt.xticks(fontsize = fs)\n",
    "    plt.yticks(fontsize = fs)\n",
    "    "
   ]
  },
  {
   "cell_type": "code",
   "execution_count": null,
   "metadata": {},
   "outputs": [],
   "source": [
    "# How important is GarageYrBlt?\n",
    "train['GarageYrBlt']\n",
    "x = sm.add_constant(train)\n",
    "# Notice that the dependent variable (y) comes before the independent variables (x)\n",
    "# Use df.columns.values to get all the column names\n",
    "model = sm.OLS(trainY, x)\n",
    "results = model.fit()\n",
    "print(results.summary())"
   ]
  },
  {
   "cell_type": "code",
   "execution_count": 252,
   "metadata": {},
   "outputs": [],
   "source": [
    "idx_years = train.GarageYrBlt[train.GarageYrBlt != 'None'].index\n",
    "X_garage_years = pd.DataFrame(train.loc[idx_years])\n",
    "X_garage_years['GarageYrBlt'] = X_garage_years['GarageYrBlt'].astype(int)\n",
    "Y = train.loc[idx_years]['SalePrice']\n"
   ]
  },
  {
   "cell_type": "code",
   "execution_count": 261,
   "metadata": {
    "scrolled": false
   },
   "outputs": [
    {
     "data": {
      "application/vnd.jupyter.widget-view+json": {
       "model_id": "8adfb39bd5874010b9f70a4e3f5c9d6a",
       "version_major": 2,
       "version_minor": 0
      },
      "text/plain": [
       "interactive(children=(Dropdown(description='feature', options=('GarageYrBlt',), value='GarageYrBlt'), Checkbox…"
      ]
     },
     "metadata": {},
     "output_type": "display_data"
    }
   ],
   "source": [
    "\n",
    "s = 3\n",
    "fs = 15\n",
    "target = X_garage_years['SalePrice']\n",
    "x_list = ['GarageYrBlt']\n",
    "\n",
    "@interact\n",
    "def corr_vis(feature=x_list, outliers=True):\n",
    "    mask = (np.abs(stats.zscore(X_garage_years[feature])) > s)\n",
    "    if outliers:\n",
    "        y = target\n",
    "        x = X_garage_years[feature]\n",
    "    else:\n",
    "        y = target[~mask]\n",
    "        x = X_garage_years[feature][~mask]\n",
    "    \n",
    "    plt.scatter(x = x, y = y)\n",
    "    plt.title('SalePrice vs {}'.format(feature), fontsize = fs)\n",
    "    plt.xlabel(feature, fontsize = fs)\n",
    "    plt.ylabel('SalePrice', fontsize = fs)\n",
    "    plt.xticks(fontsize = fs)\n",
    "    plt.yticks(fontsize = fs)"
   ]
  },
  {
   "cell_type": "code",
   "execution_count": 393,
   "metadata": {},
   "outputs": [
    {
     "data": {
      "application/vnd.jupyter.widget-view+json": {
       "model_id": "8192db5dec784712ade53817b31c6c8f",
       "version_major": 2,
       "version_minor": 0
      },
      "text/plain": [
       "interactive(children=(Dropdown(description='feature', options=('MSSubClass', 'MSZoning', 'Street', 'Alley', 'L…"
      ]
     },
     "metadata": {},
     "output_type": "display_data"
    }
   ],
   "source": [
    "# pivot table to decide what to do with heating values\n",
    "# Further work: include frequency into visualization.  Color bars based on frequency.\n",
    "cat_list = categoricals.columns.tolist()\n",
    "@interact\n",
    "def pivots(feature=cat_list):\n",
    "    condition_pivot = train.pivot_table(index=feature, values='SalePrice', aggfunc=np.median)\n",
    "    condition_pivot.plot(kind='bar', color='blue', figsize = (15,5))\n",
    "    plt.xlabel(feature)\n",
    "    plt.ylabel('Median Sale Price')\n",
    "    plt.xticks(rotation=0)\n",
    "    plt.show()"
   ]
  },
  {
   "cell_type": "code",
   "execution_count": 543,
   "metadata": {
    "scrolled": false
   },
   "outputs": [
    {
     "data": {
      "application/vnd.jupyter.widget-view+json": {
       "model_id": "b25a4e9858ff4aafa476a40217196bf9",
       "version_major": 2,
       "version_minor": 0
      },
      "text/plain": [
       "interactive(children=(Dropdown(description='feature', options=('MSSubClass', 'MSZoning', 'Street', 'Alley', 'L…"
      ]
     },
     "metadata": {},
     "output_type": "display_data"
    }
   ],
   "source": [
    "cat_list = categoricals.columns.tolist()\n",
    "@interact\n",
    "def pivots(feature=cat_list):\n",
    "    color_map = mp.colors.LinearSegmentedColormap(\n",
    "        \"my_map\",\n",
    "        {\n",
    "            \"red\": [(0, 0.0, 0),\n",
    "                    (1.0, 0.0, 0)],\n",
    "            \"green\": [(0, 0, 1.0),\n",
    "                      (0.25,0,0.25),\n",
    "                      (0.5,0,0.5),\n",
    "                      (0.75,0,0.75),\n",
    "                      (1.0, 0, 0)],\n",
    "            \"blue\": [(0, 0.0, 0.0),\n",
    "                     (1.0, 0, 0)]\n",
    "        }\n",
    ")\n",
    "     \n",
    "    \n",
    "    data1 = train.groupby(feature)[feature].count()\n",
    "    colors=color_map(data_normalizer((data1.values)))\n",
    "    \n",
    "    fs = 15\n",
    "    m = 15\n",
    "    n = 5\n",
    "    plt.figure(figsize=(m,n))\n",
    "    condition_pivot = train.pivot_table(index=feature, values='SalePrice', aggfunc=np.median).reset_index()\n",
    "    g=sns.barplot(x=feature,y='SalePrice', palette = colors, data=condition_pivot)\n",
    "    plt.xlabel(feature, fontsize = fs)\n",
    "    plt.ylabel('Median Sale Price', fontsize = fs)\n",
    "    plt.xticks(rotation=0)\n",
    "    \n",
    "    plt.show()"
   ]
  },
  {
   "cell_type": "code",
   "execution_count": 547,
   "metadata": {},
   "outputs": [
    {
     "data": {
      "application/vnd.jupyter.widget-view+json": {
       "model_id": "7bf39e907e214a1781e589983423c7af",
       "version_major": 2,
       "version_minor": 0
      },
      "text/plain": [
       "interactive(children=(Dropdown(description='feature', options=('MSSubClass', 'MSZoning', 'Street', 'Alley', 'L…"
      ]
     },
     "metadata": {},
     "output_type": "display_data"
    },
    {
     "data": {
      "image/png": "[encoded data removed]",
      "text/plain": [
       "<Figure size 1440x540 with 2 Axes>"
      ]
     },
     "metadata": {
      "needs_background": "light"
     },
     "output_type": "display_data"
    }
   ],
   "source": [
    "\n",
    "plt.rc('xtick', labelsize=fs) \n",
    "plt.rc('ytick', labelsize=fs) \n",
    "cat_list = categoricals.columns.tolist()\n",
    "@interact\n",
    "def pivots(feature=cat_list):\n",
    "    color_map = mp.colors.LinearSegmentedColormap(\n",
    "        \"my_map\",\n",
    "        {\n",
    "            \"red\": [(0, 0.0, 0),\n",
    "                    (1.0, 0.0, 0)],\n",
    "            \"green\": [(0, 0, 1.0),\n",
    "                      (0.25,0,0.25),\n",
    "                      (0.5,0,0.5),\n",
    "                      (0.75,0,0.75),\n",
    "                      (1.0, 0, 0)],\n",
    "            \"blue\": [(0, 0.0, 0.0),\n",
    "                     (1.0, 0, 0)]\n",
    "        }\n",
    ")\n",
    "     \n",
    "#     fs = 15\n",
    "#     m = 15\n",
    "#     n = 5\n",
    "    f, (ax1, ax2) = plt.subplots(1, 2, sharey=False, figsize=(20,7.5))\n",
    "    \n",
    "    plt.rc('xtick', labelsize=fs) \n",
    "    plt.rc('ytick', labelsize=fs) \n",
    "    \n",
    "    sns.barplot(x=feature,y='SalePrice', palette = colors, data=condition_pivot, ax=ax1)\n",
    "    ax1.set_title('SalePrice vs {}'.format(feature), fontsize = fs)\n",
    "    ax1.set_xlabel(feature, fontsize = fs)\n",
    "    ax1.set_ylabel('SalePrice', fontsize = fs)\n",
    "\n",
    "    ax2.hist(x=x)\n",
    "    ax2.set_title('Distribution of {}'.format(feature), fontsize = fs)\n",
    "    ax2.set_xlabel(feature, fontsize = fs)\n",
    "    ax2.set_ylabel('Count', fontsize = fs)\n",
    "    data1 = train.groupby(feature)[feature].count()\n",
    "    colors=color_map(data_normalizer((data1.values)))\n",
    "\n",
    "    \n",
    "    \n",
    "    \n",
    "#     plt.figure(figsize=(m,n))\n",
    "#     condition_pivot = train.pivot_table(index=feature, values='SalePrice', aggfunc=np.median).reset_index()\n",
    "#     g=\n",
    "#     plt.xlabel(feature, fontsize = fs)\n",
    "#     plt.ylabel('Median Sale Price', fontsize = fs)\n",
    "#     plt.xticks(rotation=0)\n",
    "    \n",
    "    plt.show()"
   ]
  }
 ],
 "metadata": {
  "kernelspec": {
   "display_name": "Python 3",
   "language": "python",
   "name": "python3"
  },
  "language_info": {
   "codemirror_mode": {
    "name": "ipython",
    "version": 3
   },
   "file_extension": ".py",
   "mimetype": "text/x-python",
   "name": "python",
   "nbconvert_exporter": "python",
   "pygments_lexer": "ipython3",
   "version": "3.7.3"
  }
 },
 "nbformat": 4,
 "nbformat_minor": 2
}
