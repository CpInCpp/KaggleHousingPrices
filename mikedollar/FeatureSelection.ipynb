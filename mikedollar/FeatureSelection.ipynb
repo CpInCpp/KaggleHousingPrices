{
 "cells": [
  {
   "cell_type": "code",
   "execution_count": 1,
   "metadata": {},
   "outputs": [],
   "source": [
    "# Use this notebook for feature selection.\n",
    "# First, look at collinearity amongst columns.  Set a threshold, and collect column names."
   ]
  },
  {
   "cell_type": "code",
   "execution_count": 2,
   "metadata": {},
   "outputs": [],
   "source": [
    "import pandas as pd\n",
    "import numpy as np\n",
    "import scipy as sp\n",
    "from sklearn.linear_model import LinearRegression\n",
    "%matplotlib inline\n",
    "import matplotlib.pyplot as plt"
   ]
  },
  {
   "cell_type": "code",
   "execution_count": 30,
   "metadata": {},
   "outputs": [],
   "source": [
    "# read in data\n",
    "train = pd.read_csv('clean_data/train_clean.csv')\n",
    "\n",
    "\n",
    "# remove 'SalePrice' as it is the target variable.\n",
    "train.drop('SalePrice', axis = 1, inplace = True)"
   ]
  },
  {
   "cell_type": "code",
   "execution_count": 45,
   "metadata": {},
   "outputs": [
    {
     "data": {
      "text/plain": [
       "dtype('O')"
      ]
     },
     "execution_count": 45,
     "metadata": {},
     "output_type": "execute_result"
    }
   ],
   "source": [
    "train['BsmtFinType1'].dtype"
   ]
  },
  {
   "cell_type": "code",
   "execution_count": 48,
   "metadata": {},
   "outputs": [
    {
     "data": {
      "text/plain": [
       "GarageCars    GarageArea      0.882475\n",
       "GarageArea    GarageCars      0.882475\n",
       "GrLivArea     TotRmsAbvGrd    0.825489\n",
       "TotRmsAbvGrd  GrLivArea       0.825489\n",
       "TotalBsmtSF   X1stFlrSF       0.819530\n",
       "X1stFlrSF     TotalBsmtSF     0.819530\n",
       "X2ndFlrSF     GrLivArea       0.687501\n",
       "GrLivArea     X2ndFlrSF       0.687501\n",
       "BedroomAbvGr  TotRmsAbvGrd    0.676620\n",
       "TotRmsAbvGrd  BedroomAbvGr    0.676620\n",
       "BsmtFinSF1    BsmtFullBath    0.649212\n",
       "BsmtFullBath  BsmtFinSF1      0.649212\n",
       "GrLivArea     FullBath        0.630012\n",
       "FullBath      GrLivArea       0.630012\n",
       "X2ndFlrSF     TotRmsAbvGrd    0.616423\n",
       "TotRmsAbvGrd  X2ndFlrSF       0.616423\n",
       "X2ndFlrSF     HalfBath        0.609707\n",
       "HalfBath      X2ndFlrSF       0.609707\n",
       "OverallQual   GarageCars      0.600671\n",
       "GarageCars    OverallQual     0.600671\n",
       "OverallQual   GrLivArea       0.593007\n",
       "GrLivArea     OverallQual     0.593007\n",
       "YearBuilt     YearRemodAdd    0.592855\n",
       "YearRemodAdd  YearBuilt       0.592855\n",
       "OverallQual   YearBuilt       0.572323\n",
       "YearBuilt     OverallQual     0.572323\n",
       "X1stFlrSF     GrLivArea       0.566024\n",
       "GrLivArea     X1stFlrSF       0.566024\n",
       "OverallQual   GarageArea      0.562022\n",
       "GarageArea    OverallQual     0.562022\n",
       "FullBath      TotRmsAbvGrd    0.554784\n",
       "TotRmsAbvGrd  FullBath        0.554784\n",
       "OverallQual   YearRemodAdd    0.550684\n",
       "YearRemodAdd  OverallQual     0.550684\n",
       "OverallQual   FullBath        0.550600\n",
       "FullBath      OverallQual     0.550600\n",
       "YearBuilt     GarageCars      0.537850\n",
       "GarageCars    YearBuilt       0.537850\n",
       "OverallQual   TotalBsmtSF     0.537808\n",
       "TotalBsmtSF   OverallQual     0.537808\n",
       "BsmtFinSF1    TotalBsmtSF     0.522396\n",
       "TotalBsmtSF   BsmtFinSF1      0.522396\n",
       "GrLivArea     BedroomAbvGr    0.521270\n",
       "BedroomAbvGr  GrLivArea       0.521270\n",
       "X2ndFlrSF     BedroomAbvGr    0.502901\n",
       "BedroomAbvGr  X2ndFlrSF       0.502901\n",
       "BsmtFinSF1    BsmtUnfSF       0.495251\n",
       "BsmtUnfSF     BsmtFinSF1      0.495251\n",
       "X1stFlrSF     GarageArea      0.489782\n",
       "GarageArea    X1stFlrSF       0.489782\n",
       "dtype: float64"
      ]
     },
     "execution_count": 48,
     "metadata": {},
     "output_type": "execute_result"
    }
   ],
   "source": [
    "threshold = .7\n",
    "m = 15\n",
    "n = 15\n",
    "train.corr().abs().unstack()[train.corr().abs().unstack() < 1].nlargest(50)"
   ]
  }
 ],
 "metadata": {
  "kernelspec": {
   "display_name": "Python 3",
   "language": "python",
   "name": "python3"
  },
  "language_info": {
   "codemirror_mode": {
    "name": "ipython",
    "version": 3
   },
   "file_extension": ".py",
   "mimetype": "text/x-python",
   "name": "python",
   "nbconvert_exporter": "python",
   "pygments_lexer": "ipython3",
   "version": "3.7.3"
  }
 },
 "nbformat": 4,
 "nbformat_minor": 2
}
