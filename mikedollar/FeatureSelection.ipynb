{
 "cells": [
  {
   "cell_type": "code",
   "execution_count": 1,
   "metadata": {},
   "outputs": [],
   "source": [
    "# Use this notebook for feature selection.\n",
    "# First, look at correlation with target variable.  Remove outliers."
   ]
  },
  {
   "cell_type": "code",
   "execution_count": 21,
   "metadata": {},
   "outputs": [],
   "source": [
    "import pandas as pd\n",
    "import numpy as np\n",
    "import scipy as sp\n",
    "from scipy import stats\n",
    "from sklearn.linear_model import LinearRegression\n",
    "import statsmodels.api as sm\n",
    "from ipywidgets import interact, interact_manual\n",
    "%matplotlib inline\n",
    "import matplotlib.pyplot as plt\n",
    "import matplotlib as mp\n",
    "import seaborn as sns"
   ]
  },
  {
   "cell_type": "code",
   "execution_count": 19,
   "metadata": {},
   "outputs": [],
   "source": [
    "# read in data\n",
    "train = pd.read_csv('../data/clean_train.csv', index_col=0)\n",
    "test = pd.read_csv('../data/clean_test.csv', index_col=0)\n",
    "\n",
    "# initial modifications\n",
    "# set target\n",
    "target = np.log(train['SalePrice'])\n",
    "\n",
    "##### feature classification #####\n",
    "\n",
    "# separate data frames with numerical and categorical features\n",
    "numericals = train.select_dtypes(include=[np.number])\n",
    "categoricals = train.select_dtypes(exclude=[np.number])\n",
    "\n",
    "# categorical feature data frame including target (numerical) variable\n",
    "cat_target = pd.concat([train[['SalePrice']],categoricals], axis=1)\n",
    "\n",
    "# lists of numerical and categorical features\n",
    "num_list = numericals.drop('SalePrice', axis = 1).columns.tolist()\n",
    "cat_list = categoricals.columns.tolist()\n",
    "\n",
    "\n",
    "### Categorical Variable Classification\n",
    "nominals = []\n",
    "ordinals = []\n",
    "\n"
   ]
  },
  {
   "cell_type": "code",
   "execution_count": 44,
   "metadata": {},
   "outputs": [
    {
     "data": {
      "application/vnd.jupyter.widget-view+json": {
       "model_id": "fe2f0d3405514bdba15449d9ee7691d1",
       "version_major": 2,
       "version_minor": 0
      },
      "text/plain": [
       "interactive(children=(Dropdown(description='feature', options=('MSSubClass', 'LotFrontage', 'LotArea', 'Overal…"
      ]
     },
     "metadata": {},
     "output_type": "display_data"
    }
   ],
   "source": [
    "# Correlation with SalePrice\n",
    "s = 3\n",
    "fs = 15\n",
    "\n",
    "\n",
    "@interact\n",
    "def corr_vis(feature=num_list, outliers=True):\n",
    "    mask = (np.abs(stats.zscore(train[feature])) > s)\n",
    "    if outliers:\n",
    "        y = target\n",
    "        x = train[feature]\n",
    "    else:\n",
    "        y = target[~mask]\n",
    "        x = train[feature][~mask]\n",
    "    \n",
    "    f, (ax1, ax2) = plt.subplots(1, 2, sharey=False, figsize=(20,7.5))\n",
    "    plt.rc('xtick', labelsize=fs) \n",
    "    plt.rc('ytick', labelsize=fs) \n",
    "    \n",
    "    ax1.scatter(x=x, y=y)\n",
    "    ax1.set_title('SalePrice vs {}'.format(feature), fontsize = fs)\n",
    "    ax1.set_xlabel(feature, fontsize = fs)\n",
    "    ax1.set_ylabel('SalePrice', fontsize = fs)\n",
    "\n",
    "    ax2.hist(x=x)\n",
    "    ax2.set_title('Distribution of {}'.format(feature), fontsize = fs)\n",
    "    ax2.set_xlabel(feature, fontsize = fs)\n",
    "    ax2.set_ylabel('Count', fontsize = fs)\n",
    "\n",
    "    \n",
    "    "
   ]
  },
  {
   "cell_type": "code",
   "execution_count": 9,
   "metadata": {},
   "outputs": [],
   "source": [
    "# Notes\n",
    "# FullBath is strictly increasing, and can probably be treated as ordinal categorical\n",
    "# X3SsnPorch's 0 values greatly span past the maximum SalePrice.  It makes me think this feature isn't necessary.\n",
    "# MoSold: most sales happen in the summer, but there isn't much affect on the SalePrice\n",
    "# GarageCars would be strictly increasing were it not for category 4 (4-car-garage)\n",
    "# "
   ]
  },
  {
   "cell_type": "code",
   "execution_count": 242,
   "metadata": {
    "scrolled": false
   },
   "outputs": [
    {
     "data": {
      "application/vnd.jupyter.widget-view+json": {
       "model_id": "659c60720ef44a3cbcb49a4bba331f47",
       "version_major": 2,
       "version_minor": 0
      },
      "text/plain": [
       "interactive(children=(Dropdown(description='feature_y', options=('LotFrontage', 'LotArea', 'YearBuilt', 'YearR…"
      ]
     },
     "metadata": {},
     "output_type": "display_data"
    }
   ],
   "source": [
    "# Correlation plots\n",
    "# Subplots are laid out in a 2 x 2 grid, with training data set on top, and test data set on bottom.\n",
    "s = 3\n",
    "fs = 15\n",
    "m = 10\n",
    "n = 7.5\n",
    "\n",
    "\n",
    "@interact\n",
    "def corr_vis(feature_y=num_list, feature_x = num_list, outliers=True):\n",
    "    mask_train = (np.abs(stats.zscore(train[feature_x])) > s)\n",
    "    mask_test = (np.abs(stats.zscore(test[feature_x])) > s)\n",
    "    \n",
    "    if outliers:\n",
    "        y = train[feature_y]\n",
    "        x = train[feature_x]\n",
    "        ytest = test[feature_y]\n",
    "        xtest = test[feature_x]\n",
    "    else:\n",
    "        y = train[feature_y][~mask_train]\n",
    "        x = train[feature_x][~mask_train]\n",
    "        ytest = test[feature_y][~mask_test]\n",
    "        xtest = test[feature_x][~mask_test]\n",
    "    \n",
    "    f, axarr = plt.subplots(2,2, sharey=False,sharex=False, figsize=(m,n))\n",
    "   \n",
    "    \n",
    "    plt.title('{} vs {}'.format(feature_y,feature_x), fontsize = fs)\n",
    "    \n",
    "    axarr[0,0].scatter(x=x, y=y)\n",
    "    axarr[0,0].set_xlabel(feature_x, fontsize = fs)\n",
    "    axarr[0,0].set_ylabel(feature_y, fontsize = fs)\n",
    "\n",
    "    axarr[0,1].hist(x=x)\n",
    "    axarr[0,1].set_title('Distribution of {} TRAINING SET'.format(feature_x), fontsize = fs)\n",
    "    axarr[0,1].set_xlabel(feature_x, fontsize = fs)\n",
    "    axarr[0,1].set_ylabel('Count', fontsize = fs)\n",
    "    \n",
    "    \n",
    "    axarr[1,0].scatter(x=xtest, y=ytest)\n",
    "    axarr[1,0].set_xlabel(feature_x, fontsize = fs)\n",
    "    axarr[1,0].set_ylabel(feature_y, fontsize = fs)\n",
    "    \n",
    "    \n",
    "    axarr[1,1].hist(x=xtest)\n",
    "    axarr[1,1].set_title('Distribution of {} TEST SET'.format(feature_y), fontsize = fs)\n",
    "    axarr[1,1].set_xlabel(feature_y, fontsize = fs)\n",
    "    axarr[1,1].set_ylabel('Count', fontsize = fs)\n",
    "    \n",
    "    plt.tight_layout()\n",
    "    \n",
    "    tbl = train[[feature_x]].describe().round(2).T\n",
    "    feature_corr = train.corr().unstack().round(4)\n",
    "    tbl['Corr with {}'.format(feature_y)] = feature_corr[feature_x][feature_y].round(4)\n",
    "    print(tbl)"
   ]
  },
  {
   "cell_type": "code",
   "execution_count": 43,
   "metadata": {},
   "outputs": [
    {
     "data": {
      "application/vnd.jupyter.widget-view+json": {
       "model_id": "c9e88ded52dc47b79180b01e42fa37bc",
       "version_major": 2,
       "version_minor": 0
      },
      "text/plain": [
       "interactive(children=(Dropdown(description='feature', options=('MSZoning', 'Street', 'Alley', 'LotShape', 'Lan…"
      ]
     },
     "metadata": {},
     "output_type": "display_data"
    }
   ],
   "source": [
    "# Effect of chosen categorical variable on Median SalePrice\n",
    "# Darker colors indicate higher frequency of category\n",
    "cat_list = categoricals.columns.tolist()\n",
    "@interact\n",
    "def pivots(feature=cat_list):\n",
    "    \n",
    "    data_normalizer = mp.colors.Normalize()\n",
    "    color_map = mp.colors.LinearSegmentedColormap(\n",
    "        \"my_map\",\n",
    "        {\n",
    "        \"red\": [(0, 1.0, 1.0),\n",
    "                (1.0, .5, .5)],\n",
    "        \"green\": [(0, 0.5, 0.5),\n",
    "                  (1.0, 0, 0)],\n",
    "        \"blue\": [(0, 0.50, 0.5),\n",
    "                 (1.0, 0, 0)]\n",
    "        }\n",
    "    )\n",
    "   \n",
    "    data_train = train.groupby(feature)[feature].count()\n",
    "    \n",
    "    colors=color_map(data_normalizer((data_train.values)))\n",
    "     \n",
    "    fs = 15\n",
    "    \n",
    "    \n",
    "    f, (ax1, ax2) = plt.subplots(1, 2, sharey=False, figsize=(20,7.5))\n",
    "    \n",
    "    plt.rc('xtick', labelsize=fs) \n",
    "    plt.rc('ytick', labelsize=fs)\n",
    "    plt.xticks(rotation=70)\n",
    "    \n",
    "    condition_pivot_train = train.pivot_table(index=feature, values='SalePrice', aggfunc=np.median).reset_index().sort_values('SalePrice')\n",
    "    #condition_pivot_train.SalePrice = np.log(condition_pivot_train.SalePrice)\n",
    "    sns.barplot(x=feature,y='SalePrice', palette = colors, data=condition_pivot_train, ax=ax1)\n",
    "    ax1.set_title('Median SalePrice vs {}'.format(feature), fontsize = fs)\n",
    "    ax1.set_xlabel(feature, fontsize = fs)\n",
    "    ax1.set_ylabel('Median SalePrice', fontsize = fs)\n",
    "    #ax1.set_xticklabels(labels = train['feature'].unique(), rotation=70)\n",
    "\n",
    "    ax2.bar(x=condition_pivot_train[feature], height=data_train)\n",
    "    ax2.set_title('Distribution of {}'.format(feature), fontsize = fs)\n",
    "    ax2.set_xlabel(feature, fontsize = fs)\n",
    "    ax2.set_ylabel('Count', fontsize = fs)\n"
   ]
  },
  {
   "cell_type": "code",
   "execution_count": 42,
   "metadata": {},
   "outputs": [
    {
     "data": {
      "text/plain": [
       "array(['WD', 'New', 'COD', 'ConLD', 'ConLI', 'CWD', 'ConLw', 'Con', 'Oth'],\n",
       "      dtype=object)"
      ]
     },
     "execution_count": 42,
     "metadata": {},
     "output_type": "execute_result"
    }
   ],
   "source": [
    "train.SaleType.unique()"
   ]
  }
 ],
 "metadata": {
  "kernelspec": {
   "display_name": "Python 3",
   "language": "python",
   "name": "python3"
  },
  "language_info": {
   "codemirror_mode": {
    "name": "ipython",
    "version": 3
   },
   "file_extension": ".py",
   "mimetype": "text/x-python",
   "name": "python",
   "nbconvert_exporter": "python",
   "pygments_lexer": "ipython3",
   "version": "3.7.3"
  }
 },
 "nbformat": 4,
 "nbformat_minor": 2
}
