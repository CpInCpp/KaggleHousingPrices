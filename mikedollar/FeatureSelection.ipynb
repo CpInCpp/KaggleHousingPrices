{
 "cells": [
  {
   "cell_type": "code",
   "execution_count": 1,
   "metadata": {},
   "outputs": [],
   "source": [
    "# Use this notebook for feature selection.\n",
    "# First, look at correlation with target variable.  Remove outliers."
   ]
  },
  {
   "cell_type": "code",
   "execution_count": 16,
   "metadata": {},
   "outputs": [],
   "source": [
    "import pandas as pd\n",
    "import numpy as np\n",
    "import scipy as sp\n",
    "from scipy import stats\n",
    "from sklearn.linear_model import LinearRegression\n",
    "import statsmodels.api as sm\n",
    "from ipywidgets import interact, interact_manual\n",
    "%matplotlib inline\n",
    "import matplotlib.pyplot as plt\n",
    "import matplotlib as mp\n",
    "import seaborn as sns"
   ]
  },
  {
   "cell_type": "code",
   "execution_count": 162,
   "metadata": {},
   "outputs": [],
   "source": [
    "# read in data\n",
    "train = pd.read_csv('../data/clean_train.csv', index_col=0)\n",
    "test = pd.read_csv('../data/clean_test.csv', index_col=0)\n"
   ]
  },
  {
   "cell_type": "code",
   "execution_count": 163,
   "metadata": {},
   "outputs": [],
   "source": [
    "# initial modifications\n",
    "# set target\n",
    "target = train['SalePrice']\n"
   ]
  },
  {
   "cell_type": "code",
   "execution_count": 167,
   "metadata": {},
   "outputs": [],
   "source": [
    "# feature classification\n",
    "\n",
    "# separate data frames with numerical and categorical features\n",
    "numericals = train.select_dtypes(include=[np.number])\n",
    "categoricals = train.select_dtypes(exclude=[np.number])\n",
    "\n",
    "# categorical feature data frame including target (numerical) variable\n",
    "cat_target = pd.concat([train[['SalePrice']],categoricals], axis=1)\n",
    "\n",
    "# lists of numerical and categorical features\n",
    "num_list = numericals.drop('SalePrice', axis = 1).columns.tolist()\n",
    "cat_list = categoricals.columns.tolist()\n",
    "\n",
    "\n",
    "### Categorical Variable Classification\n",
    "nominals = []\n",
    "ordinals = []\n"
   ]
  },
  {
   "cell_type": "code",
   "execution_count": 7,
   "metadata": {},
   "outputs": [],
   "source": [
    "# numerical correlations with target variable\n",
    "\n",
    "num_corr = numericals.corr()['SalePrice']\n"
   ]
  },
  {
   "cell_type": "code",
   "execution_count": 170,
   "metadata": {},
   "outputs": [
    {
     "data": {
      "application/vnd.jupyter.widget-view+json": {
       "model_id": "5744ff4b3e7d495ab70ca3cf588178ab",
       "version_major": 2,
       "version_minor": 0
      },
      "text/plain": [
       "interactive(children=(Dropdown(description='feature', options=('LotFrontage', 'LotArea', 'YearBuilt', 'YearRem…"
      ]
     },
     "metadata": {},
     "output_type": "display_data"
    }
   ],
   "source": [
    "# Correlation with SalePrice\n",
    "s = 3\n",
    "fs = 15\n",
    "\n",
    "\n",
    "@interact\n",
    "def corr_vis(feature=num_list, outliers=True):\n",
    "    mask = (np.abs(stats.zscore(train[feature])) > s)\n",
    "    if outliers:\n",
    "        y = target\n",
    "        x = train[feature]\n",
    "    else:\n",
    "        y = target[~mask]\n",
    "        x = train[feature][~mask]\n",
    "    \n",
    "    f, (ax1, ax2) = plt.subplots(1, 2, sharey=False, figsize=(20,7.5))\n",
    "    plt.rc('xtick', labelsize=fs) \n",
    "    plt.rc('ytick', labelsize=fs) \n",
    "    \n",
    "    ax1.scatter(x=x, y=y)\n",
    "    ax1.set_title('SalePrice vs {}'.format(feature), fontsize = fs)\n",
    "    ax1.set_xlabel(feature, fontsize = fs)\n",
    "    ax1.set_ylabel('SalePrice', fontsize = fs)\n",
    "\n",
    "    ax2.hist(x=x)\n",
    "    ax2.set_title('Distribution of {}'.format(feature), fontsize = fs)\n",
    "    ax2.set_xlabel(feature, fontsize = fs)\n",
    "    ax2.set_ylabel('Count', fontsize = fs)\n",
    "\n",
    "    \n",
    "    "
   ]
  },
  {
   "cell_type": "code",
   "execution_count": 9,
   "metadata": {},
   "outputs": [],
   "source": [
    "# FullBath is strictly increasing, and can probably be treated as ordinal categorical\n",
    "# X3SsnPorch's 0 values greatly span past the maximum SalePrice.  It makes me think this feature isn't necessary.\n",
    "# MoSold: most sales happen in the summer, but there isn't much affect on the SalePrice\n",
    "# GarageCars would be strictly increasing were it not for category 4 (4-car-garage)\n",
    "# "
   ]
  },
  {
   "cell_type": "code",
   "execution_count": 172,
   "metadata": {},
   "outputs": [
    {
     "data": {
      "text/plain": [
       "Id\n",
       "838      21.000000\n",
       "435      21.000000\n",
       "1008     21.000000\n",
       "650      21.000000\n",
       "656      21.000000\n",
       "364      21.000000\n",
       "1379     21.000000\n",
       "431      21.000000\n",
       "236      21.000000\n",
       "916      21.000000\n",
       "233      21.000000\n",
       "76       21.000000\n",
       "228      21.000000\n",
       "226      21.000000\n",
       "490      21.000000\n",
       "1292     21.000000\n",
       "1220     21.000000\n",
       "501      21.000000\n",
       "1039     21.000000\n",
       "1450     21.000000\n",
       "1040     21.000000\n",
       "1030     21.000000\n",
       "615      21.000000\n",
       "759      24.000000\n",
       "963      24.000000\n",
       "505      24.000000\n",
       "196      24.000000\n",
       "57       24.000000\n",
       "1105     24.000000\n",
       "194      24.000000\n",
       "           ...    \n",
       "1191    129.227039\n",
       "530     129.766699\n",
       "524     130.000000\n",
       "430     130.000000\n",
       "967     130.000000\n",
       "1152    134.000000\n",
       "160     134.000000\n",
       "447     137.000000\n",
       "1174    138.000000\n",
       "1288    139.854396\n",
       "278     140.000000\n",
       "172     141.000000\n",
       "808     144.000000\n",
       "910     149.000000\n",
       "314     150.000000\n",
       "1212    152.000000\n",
       "1338    153.000000\n",
       "1183    160.000000\n",
       "1108    168.000000\n",
       "232     174.000000\n",
       "198     174.000000\n",
       "1128    182.000000\n",
       "385     183.572139\n",
       "458     183.888038\n",
       "1397    194.346916\n",
       "935     313.000000\n",
       "1299    313.000000\n",
       "707     346.897013\n",
       "250     462.334282\n",
       "336     477.234168\n",
       "Name: LotFrontage, Length: 1460, dtype: float64"
      ]
     },
     "execution_count": 172,
     "metadata": {},
     "output_type": "execute_result"
    }
   ],
   "source": [
    "# Correlation with SalePrice\n",
    "s = 3\n",
    "fs = 15\n",
    "m = 7.5\n",
    "n = 7.5\n",
    "\n",
    "\n",
    "@interact\n",
    "def corr_vis(feature_y=num_list, feature_x = num_list, outliers=True):\n",
    "    mask_train = (np.abs(stats.zscore(train[feature_x])) > s)\n",
    "    mask_test = (np.abs(stats.zscore(test[feature_x])) > s)\n",
    "    \n",
    "    if outliers:\n",
    "        y = train[feature_y]\n",
    "        x = train[feature_x]\n",
    "        ytest = test[feature_y]\n",
    "        xtest = test[feature_x]\n",
    "    else:\n",
    "        y = train[feature_y][~mask_train]\n",
    "        x = train[feature_x][~mask_train]\n",
    "        ytest = test[feature_y][~mask_test]\n",
    "        xtest = test[feature_x][~mask_test]\n",
    "    \n",
    "    f, axarr = plt.subplots(2,2, sharey=False,sharex=False, figsize=(m,n))\n",
    "   \n",
    "    \n",
    "#     plt.rc('xtick', labelsize=fs) \n",
    "#     plt.rc('ytick', labelsize=fs) \n",
    "    \n",
    "    plt.title('{} vs {}'.format(feature_y,feature_x), fontsize = fs)\n",
    "    \n",
    "    axarr[0,0].scatter(x=x, y=y)\n",
    "    axarr[0,0].set_xlabel(feature_x, fontsize = fs)\n",
    "    axarr[0,0].set_ylabel(feature_y, fontsize = fs)\n",
    "\n",
    "    axarr[0,1].hist(x=x)\n",
    "    axarr[0,1].set_title('Distribution of {}'.format(feature_x), fontsize = fs)\n",
    "    axarr[0,1].set_xlabel(feature_x, fontsize = fs)\n",
    "    axarr[0,1].set_ylabel('Count', fontsize = fs)\n",
    "    \n",
    "    \n",
    "    axarr[1,0].scatter(x=xtest, y=ytest)\n",
    "    axarr[1,0].set_xlabel(feature_x, fontsize = fs)\n",
    "    axarr[1,0].set_ylabel(feature_y, fontsize = fs)\n",
    "    \n",
    "    \n",
    "    axarr[1,1].hist(x=xtest)\n",
    "    axarr[1,1].set_title('Distribution of {}'.format(feature_y), fontsize = fs)\n",
    "    axarr[1,1].set_xlabel(feature_y, fontsize = fs)\n",
    "    axarr[1,1].set_ylabel('Count', fontsize = fs)\n",
    "    \n",
    "    plt.tight_layout()\n"
   ]
  },
  {
   "cell_type": "code",
   "execution_count": 186,
   "metadata": {
    "scrolled": false
   },
   "outputs": [
    {
     "data": {
      "application/vnd.jupyter.widget-view+json": {
       "model_id": "f2d0e7ae8bc24cb8bd326f54decd5fb0",
       "version_major": 2,
       "version_minor": 0
      },
      "text/plain": [
       "interactive(children=(Dropdown(description='feature_y', options=('LotFrontage', 'LotArea', 'YearBuilt', 'YearR…"
      ]
     },
     "metadata": {},
     "output_type": "display_data"
    }
   ],
   "source": [
    "# Correlation plots\n",
    "s = 3\n",
    "fs = 15\n",
    "m = 10\n",
    "n = 7.5\n",
    "\n",
    "\n",
    "@interact\n",
    "def corr_vis(feature_y=num_list, feature_x = num_list, outliers=True):\n",
    "    mask_train = (np.abs(stats.zscore(train[feature_x])) > s)\n",
    "    mask_test = (np.abs(stats.zscore(test[feature_x])) > s)\n",
    "    \n",
    "    if outliers:\n",
    "        y = train[feature_y]\n",
    "        x = train[feature_x]\n",
    "        ytest = test[feature_y]\n",
    "        xtest = test[feature_x]\n",
    "    else:\n",
    "        y = train[feature_y][~mask_train]\n",
    "        x = train[feature_x][~mask_train]\n",
    "        ytest = test[feature_y][~mask_test]\n",
    "        xtest = test[feature_x][~mask_test]\n",
    "    \n",
    "    f, axarr = plt.subplots(2,2, sharey=False,sharex=False, figsize=(m,n))\n",
    "   \n",
    "    \n",
    "#     plt.rc('xtick', labelsize=fs) \n",
    "#     plt.rc('ytick', labelsize=fs) \n",
    "    \n",
    "    plt.title('{} vs {}'.format(feature_y,feature_x), fontsize = fs)\n",
    "    \n",
    "    axarr[0,0].scatter(x=x, y=y)\n",
    "    axarr[0,0].set_xlabel(feature_x, fontsize = fs)\n",
    "    axarr[0,0].set_ylabel(feature_y, fontsize = fs)\n",
    "\n",
    "    axarr[0,1].hist(x=x)\n",
    "    axarr[0,1].set_title('Distribution of {}'.format(feature_x), fontsize = fs)\n",
    "    axarr[0,1].set_xlabel(feature_x, fontsize = fs)\n",
    "    axarr[0,1].set_ylabel('Count', fontsize = fs)\n",
    "    \n",
    "    \n",
    "    axarr[1,0].scatter(x=xtest, y=ytest)\n",
    "    axarr[1,0].set_xlabel(feature_x, fontsize = fs)\n",
    "    axarr[1,0].set_ylabel(feature_y, fontsize = fs)\n",
    "    \n",
    "    \n",
    "    axarr[1,1].hist(x=xtest)\n",
    "    axarr[1,1].set_title('Distribution of {}'.format(feature_y), fontsize = fs)\n",
    "    axarr[1,1].set_xlabel(feature_y, fontsize = fs)\n",
    "    axarr[1,1].set_ylabel('Count', fontsize = fs)\n",
    "    \n",
    "    plt.tight_layout()\n",
    "\n",
    "    "
   ]
  },
  {
   "cell_type": "code",
   "execution_count": null,
   "metadata": {},
   "outputs": [],
   "source": [
    "exclusion_list = ['BsmtHalfBath', 'MiscVal', 'LowQualFinSF', 'OverallCond', 'KitchenAbvGr']"
   ]
  },
  {
   "cell_type": "code",
   "execution_count": 530,
   "metadata": {},
   "outputs": [],
   "source": [
    "# all correlations with SalePrice\n",
    "cat_target_corr = cat_target.corr()['SalePrice']\n"
   ]
  },
  {
   "cell_type": "code",
   "execution_count": 111,
   "metadata": {},
   "outputs": [
    {
     "data": {
      "application/vnd.jupyter.widget-view+json": {
       "model_id": "354211804b964fa4b6ebb15f97030976",
       "version_major": 2,
       "version_minor": 0
      },
      "text/plain": [
       "interactive(children=(Dropdown(description='feature', options=('MSSubClass', 'MSZoning', 'Street', 'Alley', 'L…"
      ]
     },
     "metadata": {},
     "output_type": "display_data"
    }
   ],
   "source": [
    "# Effect of chosen categorical variable on Median SalePrice\n",
    "cat_list = categoricals.columns.tolist()\n",
    "@interact\n",
    "def pivots(feature=cat_list):\n",
    "    \n",
    "    data_normalizer = mp.colors.Normalize()\n",
    "    color_map = mp.colors.LinearSegmentedColormap(\n",
    "        \"my_map\",\n",
    "        {\n",
    "        \"red\": [(0, 1.0, 1.0),\n",
    "                (1.0, .5, .5)],\n",
    "        \"green\": [(0, 0.5, 0.5),\n",
    "                  (1.0, 0, 0)],\n",
    "        \"blue\": [(0, 0.50, 0.5),\n",
    "                 (1.0, 0, 0)]\n",
    "        }\n",
    "    )\n",
    "   \n",
    "    data_train = train.groupby(feature)[feature].count()\n",
    "    \n",
    "    colors=color_map(data_normalizer((data_train.values)))\n",
    "     \n",
    "    fs = 15\n",
    "    \n",
    "    \n",
    "    f, (ax1, ax2) = plt.subplots(1, 2, sharey=False, figsize=(20,7.5))\n",
    "    \n",
    "    plt.rc('xtick', labelsize=fs) \n",
    "    plt.rc('ytick', labelsize=fs) \n",
    "    \n",
    "    condition_pivot_train = train.pivot_table(index=feature, values='SalePrice', aggfunc=np.median).reset_index()\n",
    "    sns.barplot(x=feature,y='SalePrice', palette = colors, data=condition_pivot_train, ax=ax1)\n",
    "    ax1.set_title('Median SalePrice vs {}'.format(feature), fontsize = fs)\n",
    "    ax1.set_xlabel(feature, fontsize = fs)\n",
    "    ax1.set_ylabel('Median SalePrice', fontsize = fs)\n",
    "\n",
    "    ax2.bar(x=data_train.index, height=data_train)\n",
    "    ax2.set_title('Distribution of {}'.format(feature), fontsize = fs)\n",
    "    ax2.set_xlabel(feature, fontsize = fs)\n",
    "    ax2.set_ylabel('Count', fontsize = fs)\n"
   ]
  }
 ],
 "metadata": {
  "kernelspec": {
   "display_name": "Python 3",
   "language": "python",
   "name": "python3"
  },
  "language_info": {
   "codemirror_mode": {
    "name": "ipython",
    "version": 3
   },
   "file_extension": ".py",
   "mimetype": "text/x-python",
   "name": "python",
   "nbconvert_exporter": "python",
   "pygments_lexer": "ipython3",
   "version": "3.7.3"
  }
 },
 "nbformat": 4,
 "nbformat_minor": 2
}
