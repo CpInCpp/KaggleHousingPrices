{
 "cells": [
  {
   "cell_type": "code",
   "execution_count": null,
   "metadata": {},
   "outputs": [],
   "source": [
    "# handy code snippets"
   ]
  },
  {
   "cell_type": "code",
   "execution_count": null,
   "metadata": {},
   "outputs": [],
   "source": [
    "# creates a table to describe categorical variables\n",
    "categoricals = train.select_dtypes(exclude=[np.number])\n",
    "categoricals.describe()"
   ]
  },
  {
   "cell_type": "code",
   "execution_count": null,
   "metadata": {},
   "outputs": [],
   "source": [
    "# mask outliers\n",
    "import numpy as np\n",
    "from scipy import stats\n",
    "s = 3\n",
    "mask_outliers = (np.abs(stats.zscore(df.column_name)) > s)"
   ]
  },
  {
   "cell_type": "code",
   "execution_count": null,
   "metadata": {},
   "outputs": [],
   "source": [
    "# pivot table\n",
    "condition_pivot = train.pivot_table(index='SaleCondition', values='SalePrice', aggfunc=np.median)\n",
    "condition_pivot.plot(kind='bar', color='blue')\n",
    "plt.xlabel('Sale Condition')\n",
    "plt.ylabel('Median Sale Price')\n",
    "plt.xticks(rotation=0)\n",
    "plt.show()"
   ]
  },
  {
   "cell_type": "code",
   "execution_count": null,
   "metadata": {},
   "outputs": [],
   "source": [
    "#### Functions\n",
    "# get list of correlated numerical values from dataset given a threshold\n",
    "\n",
    "def get_corr_list(df, thresh = .5):\n",
    "\n",
    "\n",
    "    # get correlation list\n",
    "    corr_list = df.corr().unstack()\n",
    "\n",
    "    # ditch the values of 1.0\n",
    "    corr_list = corr_list[corr_list != 1]\n",
    "\n",
    "    # get list with threshold\n",
    "    corr_list = corr_list[(corr_list > thresh) | (corr_list < -thresh)]\n",
    "\n",
    "    # drop duplicates\n",
    "    return corr_list.drop_duplicates()\n",
    "\n"
   ]
  }
 ],
 "metadata": {
  "kernelspec": {
   "display_name": "Python 3",
   "language": "python",
   "name": "python3"
  },
  "language_info": {
   "codemirror_mode": {
    "name": "ipython",
    "version": 3
   },
   "file_extension": ".py",
   "mimetype": "text/x-python",
   "name": "python",
   "nbconvert_exporter": "python",
   "pygments_lexer": "ipython3",
   "version": "3.7.3"
  }
 },
 "nbformat": 4,
 "nbformat_minor": 2
}
