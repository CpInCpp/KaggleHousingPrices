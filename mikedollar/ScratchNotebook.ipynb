{
 "cells": [
  {
   "cell_type": "code",
   "execution_count": null,
   "metadata": {},
   "outputs": [],
   "source": [
    "cat_list = categoricals.columns.tolist()\n",
    "@interact\n",
    "def pivots(feature=cat_list):\n",
    "    \n",
    "    color_map = mp.colors.LinearSegmentedColormap(\n",
    "        \"my_map\",\n",
    "        {\n",
    "            \"red\": [(0, 0.0, 0),\n",
    "                    (1.0, 0.0, 0)],\n",
    "            \"green\": [(0, 0, 1.0),\n",
    "                      (0.25,0,0.25),\n",
    "                      (0.5,0,0.5),\n",
    "                      (0.75,0,0.75),\n",
    "                      (1.0, 0, 0)],\n",
    "            \"blue\": [(0, 0.0, 0.0),\n",
    "                     (1.0, 0, 0)]\n",
    "        }\n",
    "    )\n",
    "     \n",
    "    data_normalizer = mp.colors.Normalize()\n",
    "    data1 = train.groupby(feature)[feature].count()\n",
    "    colors=color_map(data_normalizer((data1.values)))\n",
    "    \n",
    "    fs = 15\n",
    "    m = 15\n",
    "    n = 5\n",
    "    plt.figure(figsize=(m,n))\n",
    "    condition_pivot = train.pivot_table(index=feature, values='SalePrice', aggfunc=np.median).reset_index()\n",
    "    g=sns.barplot(x=feature,y='SalePrice', palette = colors, data=condition_pivot)\n",
    "    plt.xlabel(feature, fontsize = fs)\n",
    "    plt.ylabel('Median Sale Price', fontsize = fs)\n",
    "    plt.xticks(rotation=0)\n",
    "    \n",
    "    plt.show()"
   ]
  },
  {
   "cell_type": "code",
   "execution_count": null,
   "metadata": {},
   "outputs": [],
   "source": [
    "# Categorical variables plotted with median sale price\n",
    "cat_list = categoricals.columns.tolist()\n",
    "@interact\n",
    "def pivots(feature=cat_list):\n",
    "    condition_pivot = train.pivot_table(index=feature, values='SalePrice', aggfunc=np.median)\n",
    "    condition_pivot.plot(kind='bar', color='blue', figsize = (15,5))\n",
    "    plt.xlabel(feature)\n",
    "    plt.ylabel('Median Sale Price')\n",
    "    plt.xticks(rotation=0)\n",
    "    plt.show()"
   ]
  }
 ],
 "metadata": {
  "kernelspec": {
   "display_name": "Python 3",
   "language": "python",
   "name": "python3"
  },
  "language_info": {
   "codemirror_mode": {
    "name": "ipython",
    "version": 3
   },
   "file_extension": ".py",
   "mimetype": "text/x-python",
   "name": "python",
   "nbconvert_exporter": "python",
   "pygments_lexer": "ipython3",
   "version": "3.7.3"
  }
 },
 "nbformat": 4,
 "nbformat_minor": 2
}
