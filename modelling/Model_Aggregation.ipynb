{
 "cells": [
  {
   "cell_type": "code",
   "execution_count": null,
   "metadata": {},
   "outputs": [],
   "source": [
    "import matplotlib.pyplot as plt\n",
    "plt.style.use('ggplot')\n",
    "import pandas as pd\n",
    "import numpy as np\n",
    "from sklearn import datasets\n",
    "from sklearn.linear_model import LinearRegression, LassoCV, Lasso, RidgeCV, ElasticNetCV\n",
    "from sklearn.kernel_ridge import KernelRidge\n",
    "from sklearn.ensemble import RandomForestRegressor\n",
    "from sklearn.model_selection import train_test_split, cross_val_score, RandomizedSearchCV\n",
    "from sklearn.feature_selection import SelectFromModel\n",
    "from sklearn.metrics import accuracy_score, mean_squared_error\n",
    "from modelling_functions_new import *"
   ]
  },
  {
   "cell_type": "markdown",
   "metadata": {},
   "source": [
    "## Processing for Models"
   ]
  },
  {
   "cell_type": "code",
   "execution_count": null,
   "metadata": {},
   "outputs": [],
   "source": [
    "#### Read Data files\n",
    "dict_dictonary = {}\n",
    "housing, housing_features, feat_labels = read_and_clean(filepath = \"../data/clean_train.csv\")\n",
    "htest_id, htest_features, htest_labels = read_and_clean(filepath = \"../data/clean_test.csv\", test = True)\n",
    "training = housing_features\n",
    "testing = htest_features\n",
    "\n",
    "#### Process and Generate Train Test Splits\n",
    "test_col = testing.columns\n",
    "train_col = training.columns\n",
    "\n",
    "missing = [x for x in train_col if x not in test_col]\n",
    "needed = [x for x in test_col if x not in train_col]\n",
    "\n",
    "training = training.drop(missing, axis=1)\n",
    "testing = testing.drop(needed, axis=1)\n",
    "\n",
    "X_train, X_test, Y_train, Y_test = train_test_split(training, housing.saleprice, test_size = 0.2, random_state=42)"
   ]
  },
  {
   "cell_type": "code",
   "execution_count": null,
   "metadata": {},
   "outputs": [],
   "source": [
    "# Train each linear model on the train test splits\n",
    "from sklearn import linear_model as lm\n",
    "import sklearn.model_selection as ms\n",
    "from sklearn.feature_selection import SelectFromModel\n",
    "import warnings\n",
    "warnings.simplefilter('ignore')\n",
    "\n",
    "## Split Training / Testing Data\n",
    "X_train, X_test, Y_train, Y_test = train_test_split(training, housing.saleprice, test_size = 0.2, random_state=42)\n",
    "\n",
    "## Build the Model Set\n",
    "alpha_steps = (1e-5,1e-2,200)\n",
    "steps = np.linspace(1,0.8,11)\n",
    "lasso = lm.Lasso()\n",
    "ridge = lm.Ridge()\n",
    "elasticnets = [lm.ElasticNet(l1_ratio = i) for i in steps[1:]]\n",
    "names = ['Lasso'] + [str(round(i,2)) for i in steps[1:]]\n",
    "modelList = pd.Series([lasso] + elasticnets, index = names)\n",
    "\n",
    "## Hyperparameter Tuning\n",
    "print('Tuning Hyperparameters...')\n",
    "param_grid = {'max_iter': [10,100,1000],\n",
    "            'alpha':np.linspace(1e-5,9e-5,10)}\n",
    "grid = ms.GridSearchCV(modelList.Lasso,param_grid,scoring='r2',cv=10)\n",
    "grid.fit(X_train, Y_train)\n",
    "best_alpha = grid.best_params_['alpha']\n",
    "best_iter = grid.best_params_['max_iter']\n",
    "print('Best Alpha Found: {}\\n'.format(best_alpha))\n",
    "modelList.apply(lambda x: x.set_params(alpha = best_alpha, max_iter = best_iter))\n",
    "\n",
    "\n",
    "## Feature Selection\n",
    "print(\"Running Lasso Regression for Feature Selection...\")\n",
    "modelList.Lasso.fit(X_train, Y_train)\n",
    "drop_col = list(training.columns[np.where(modelList.Lasso.coef_ == 0)[0]])\n",
    "print(\"Dropping {} columns\\n\".format(len(drop_col)))\n",
    "X_train = X_train.drop(drop_col, axis = 1)\n",
    "X_test = X_test.drop(drop_col, axis = 1)\n",
    "\n",
    "\n",
    "## Running on train set\n",
    "print('Training Models ...')\n",
    "modelList.apply(lambda x: x.fit(X_train, Y_train))\n",
    "train_errors, test_errors = [], []\n",
    "train_errors.append(modelList.apply(lambda x: x.score(X_train, Y_train)))\n",
    "test_errors.append(modelList.apply(lambda x: x.score(X_test, Y_test)))\n",
    "scores_df = pd.DataFrame({\"Train Score\":modelList.apply(lambda x: x.score(X_train, Y_train)),\n",
    "                         \"Test Score\": modelList.apply(lambda x: x.score(X_test, Y_test)),\n",
    "                         \"Kaggle Metric\": modelList.apply(lambda x: rmsle(Y_test.values, x.predict(X_test)))\n",
    "                        })\n",
    "\n",
    "plot_model_accuracy(scores_df)\n",
    "np.argmin(scores_df['Kaggle Metric'])\n",
    "print('Best Model: ', np.argmin(scores_df['Kaggle Metric']))\n",
    "print('Kaggle Score: ', round(min(scores_df['Kaggle Metric']),4))\n",
    "\n",
    "## \n",
    "print('')\n",
    "modelList[np.argmin(scores_df['Kaggle Metric'])].fit(training, housing.saleprice)\n",
    "pred = np.exp(modelList[np.argmin(scores_df['Kaggle Metric'])].predict(testing))\n",
    "#Submission(htest_id, pred)"
   ]
  },
  {
   "cell_type": "markdown",
   "metadata": {},
   "source": [
    "## RandomForestRegressor"
   ]
  },
  {
   "cell_type": "code",
   "execution_count": null,
   "metadata": {},
   "outputs": [],
   "source": [
    "n_estimators = [int(x) for x in np.linspace(start = 200, stop = 10000, num = 10)]\n",
    "# Number of features to consider at every split\n",
    "max_features = ['auto', 'sqrt']\n",
    "# Maximum number of levels in tree\n",
    "max_depth = [int(x) for x in np.linspace(10, 200, num = 11)]\n",
    "max_depth.append(None)\n",
    "# Minimum number of samples required to split a node\n",
    "min_samples_split = [15, 20, 30, 40]\n",
    "# Minimum number of samples required at each leaf node\n",
    "min_samples_leaf = [16, 32, 64]\n",
    "# Method of selecting samples for training each tree\n",
    "bootstrap = [True, False]\n",
    "# Create the random grid\n",
    "random_grid = {'n_estimators': n_estimators,\n",
    "               'max_features': max_features,\n",
    "               'max_depth': max_depth,\n",
    "               'min_samples_split': min_samples_split,\n",
    "               'min_samples_leaf': min_samples_leaf,\n",
    "               'bootstrap': bootstrap}\n",
    "\n",
    "print(random_grid)"
   ]
  },
  {
   "cell_type": "code",
   "execution_count": null,
   "metadata": {
    "scrolled": true
   },
   "outputs": [],
   "source": [
    "# Use the random grid to search for best hyperparameters\n",
    "# First create the base model to tune\n",
    "rf = RandomForestRegressor()\n",
    "# Random search of parameters, using 3 fold cross validation, \n",
    "# search across 100 different combinations, and use all available cores\n",
    "rf_random = RandomizedSearchCV(estimator = rf, param_distributions = random_grid, n_iter = 100, cv = 3, verbose=2, random_state=0, n_jobs = -1)\n",
    "# Fit the random search model\n",
    "rf_random.fit(htrain, ptrain)"
   ]
  },
  {
   "cell_type": "code",
   "execution_count": null,
   "metadata": {},
   "outputs": [],
   "source": [
    "rf_random.best_params_"
   ]
  },
  {
   "cell_type": "code",
   "execution_count": null,
   "metadata": {},
   "outputs": [],
   "source": [
    "#rf_random.fit(htrain, ptrain)\n",
    "\n",
    "print(rf_random.score(htrain, ptrain))\n",
    "pred_rf_random = rf_random.predict(htest)\n",
    "mean_squared_error(pred_rf_random, ptest)"
   ]
  },
  {
   "cell_type": "code",
   "execution_count": null,
   "metadata": {},
   "outputs": [],
   "source": [
    "clf = RandomForestRegressor(n_estimators=10000, \n",
    "                            random_state=9, \n",
    "                            n_jobs=-1, \n",
    "                            min_samples_split = 40, \n",
    "                            min_samples_leaf = 1, \n",
    "                            max_features = 'sqrt', \n",
    "                            max_depth = 162,\n",
    "                            bootstrap = True)\n",
    "#sfm = SelectFromModel(clf, threshold = 0.01)\n",
    "#sfm.fit(htrain, ptrain)\n",
    "# ## Not Finished\n",
    "# # Measure Feature Importance\n",
    "#feature_selected = []\n",
    "#for feature_list_index in sfm.get_support(indices=True):\n",
    "#     feature_selected.append(feat_labels[feature_list_index])\n",
    "#proxy = feature_selected\n",
    "#trimmed = ['x1stflrsf', 'x2ndflrsf', 'garagecars', 'overallcond', 'saleprice', 'Unnamed: 0', 'bsmtfinsf1']\n",
    "#testing = testing[proxy]\n",
    "#housing_features = housing_features[trimmed_features]\n",
    "#print(feature_selected)"
   ]
  },
  {
   "cell_type": "code",
   "execution_count": null,
   "metadata": {},
   "outputs": [],
   "source": [
    "clf.fit(htrain, ptrain)\n",
    "\n",
    "clf.score(htest, ptest)"
   ]
  },
  {
   "cell_type": "code",
   "execution_count": null,
   "metadata": {},
   "outputs": [],
   "source": [
    "pred_clf = clf.predict(htest)\n",
    "mean_squared_error(pred_clf, ptest)"
   ]
  },
  {
   "cell_type": "markdown",
   "metadata": {},
   "source": [
    "## ElasticNet"
   ]
  },
  {
   "cell_type": "code",
   "execution_count": null,
   "metadata": {},
   "outputs": [],
   "source": [
    "regr = ElasticNetCV(l1_ratio = [.1, .2, .3, .4, .5, .6, .7, .8, .9, .99, 1], \n",
    "                    cv = 5, \n",
    "                    n_jobs = -1,\n",
    "                    normalize = True,\n",
    "                    verbose = 0)"
   ]
  },
  {
   "cell_type": "code",
   "execution_count": null,
   "metadata": {},
   "outputs": [],
   "source": [
    "regr.fit(X_train, Y_train)"
   ]
  },
  {
   "cell_type": "code",
   "execution_count": null,
   "metadata": {},
   "outputs": [],
   "source": [
    "regr.score(X_test, Y_test)\n",
    "pred_regr = regr.predict(X_test)\n",
    "mean_squared_error(pred_regr, Y_test)"
   ]
  },
  {
   "cell_type": "code",
   "execution_count": null,
   "metadata": {},
   "outputs": [],
   "source": [
    "regr.l1_ratio_"
   ]
  },
  {
   "cell_type": "code",
   "execution_count": null,
   "metadata": {
    "scrolled": true
   },
   "outputs": [],
   "source": []
  },
  {
   "cell_type": "markdown",
   "metadata": {},
   "source": [
    "### Ridge"
   ]
  },
  {
   "cell_type": "code",
   "execution_count": null,
   "metadata": {},
   "outputs": [],
   "source": [
    "ridge = RidgeCV(normalize = True, cv = 5)\n",
    "\n",
    "ridge.fit(htrain, ptrain)"
   ]
  },
  {
   "cell_type": "code",
   "execution_count": null,
   "metadata": {},
   "outputs": [],
   "source": [
    "print(ridge.score(htest, ptest))\n",
    "pred_ridge = ridge.predict(htest)\n",
    "mean_squared_error(pred_ridge, ptest)"
   ]
  },
  {
   "cell_type": "code",
   "execution_count": null,
   "metadata": {},
   "outputs": [],
   "source": [
    "t = pd.read_csv('submission_13703.csv')"
   ]
  },
  {
   "cell_type": "code",
   "execution_count": null,
   "metadata": {},
   "outputs": [],
   "source": [
    "lm = LinearRegression(normalize = True)\n",
    "lm.fit(htrain, ptrain)\n",
    "print(lm.score(htest, ptest))\n",
    "pred_linear = lm.predict(htest)\n",
    "mean_squared_error(pred_linear, ptest)"
   ]
  },
  {
   "cell_type": "code",
   "execution_count": null,
   "metadata": {},
   "outputs": [],
   "source": [
    "a = 0.1\n",
    "b = 0.3\n",
    "c = 0.5\n",
    "d = 0.1\n",
    "\n",
    "pred_ridge_sub = ridge.predict(testing)\n",
    "pred_lasso_sub = lasso.predict(testing)\n",
    "pred_linear_sub = lm.predict(testing)\n",
    "pred_regr_sub = regr.predict(testing)\n",
    "#pred_rf_random_sub = rf_random.predict(testing)\n",
    "\n",
    "pred_sum = np.exp(a*(pred_ridge_sub) + b*(pred_lasso_sub) + c*(pred_regr_sub) + d*(pred_linear_sub))\n",
    "\n",
    "Submission(htest_id, pred_sum, \"stacked_submission.csv\")"
   ]
  },
  {
   "cell_type": "code",
   "execution_count": null,
   "metadata": {
    "scrolled": true
   },
   "outputs": [],
   "source": [
    "ridge.predict(testing)"
   ]
  },
  {
   "cell_type": "code",
   "execution_count": null,
   "metadata": {},
   "outputs": [],
   "source": [
    "pred_sum.shape"
   ]
  },
  {
   "cell_type": "code",
   "execution_count": null,
   "metadata": {},
   "outputs": [],
   "source": [
    "a = 0.1\n",
    "b = 0.3\n",
    "c = 0.5\n",
    "d = 0.1\n",
    "\n",
    "\n",
    "\n",
    "pred_sum = a*(pred_ridge) + b*(pred_lasso) + c*(pred_regr) + d*(pred_linear)\n",
    "mean_squared_error(pred_sum, ptest)"
   ]
  },
  {
   "cell_type": "code",
   "execution_count": null,
   "metadata": {},
   "outputs": [],
   "source": [
    "pred_sum = (pred_ridge + pred_lasso + pred_regr + pred_linear)/4\n",
    "mean_squared_error(pred_sum, ptest)"
   ]
  },
  {
   "cell_type": "code",
   "execution_count": null,
   "metadata": {},
   "outputs": [],
   "source": [
    "mean_squared_error(pred_sum, ptest)"
   ]
  },
  {
   "cell_type": "markdown",
   "metadata": {},
   "source": [
    "## Kernal Ridge"
   ]
  },
  {
   "cell_type": "code",
   "execution_count": null,
   "metadata": {},
   "outputs": [],
   "source": [
    "from sklearn.kernel_ridge import KernelRidge\n",
    "\n",
    "ker = KernelRidge(alpha = 40)\n",
    "ker.fit(htrain, ptrain)"
   ]
  },
  {
   "cell_type": "code",
   "execution_count": null,
   "metadata": {},
   "outputs": [],
   "source": [
    "print(ker.score(htest, ptest))\n",
    "pred_ker = ker.predict(htest)\n",
    "mean_squared_error(pred_ker, ptest)"
   ]
  },
  {
   "cell_type": "markdown",
   "metadata": {},
   "source": [
    "## Linear Model"
   ]
  },
  {
   "cell_type": "code",
   "execution_count": null,
   "metadata": {},
   "outputs": [],
   "source": [
    "lm = LinearRegression(normalize = True, n_jobs = -1)"
   ]
  },
  {
   "cell_type": "code",
   "execution_count": null,
   "metadata": {},
   "outputs": [],
   "source": [
    "training = housing_features.drop(housing_features.columns[drop_col], axis=1)\n",
    "testing = htest_features.drop(housing_features.columns[drop_col], axis=1)"
   ]
  },
  {
   "cell_type": "code",
   "execution_count": null,
   "metadata": {},
   "outputs": [],
   "source": [
    "print(training.shape)\n",
    "print(testing.shape)"
   ]
  },
  {
   "cell_type": "code",
   "execution_count": null,
   "metadata": {},
   "outputs": [],
   "source": [
    "htrain, htest, ptrain, ptest = train_test_split(training, housing.saleprice, test_size = 0.33, random_state = 0)"
   ]
  },
  {
   "cell_type": "code",
   "execution_count": null,
   "metadata": {},
   "outputs": [],
   "source": []
  },
  {
   "cell_type": "code",
   "execution_count": null,
   "metadata": {},
   "outputs": [],
   "source": [
    "lm.fit(htrain, ptrain)\n",
    "\n",
    "lm.score(htest, ptest)"
   ]
  },
  {
   "cell_type": "code",
   "execution_count": null,
   "metadata": {},
   "outputs": [],
   "source": [
    "lm.sample_"
   ]
  },
  {
   "cell_type": "code",
   "execution_count": null,
   "metadata": {},
   "outputs": [],
   "source": [
    "pred = lm.predict(htest)\n",
    "mean_squared_error(pred, ptest)"
   ]
  },
  {
   "cell_type": "code",
   "execution_count": null,
   "metadata": {},
   "outputs": [],
   "source": [
    "pred = np.exp(lm.predict(testing))\n",
    "print(pred[1:3])\n",
    "Submission(htest_id, pred)"
   ]
  }
 ],
 "metadata": {
  "kernelspec": {
   "display_name": "Python 3",
   "language": "python",
   "name": "python3"
  },
  "language_info": {
   "codemirror_mode": {
    "name": "ipython",
    "version": 3
   },
   "file_extension": ".py",
   "mimetype": "text/x-python",
   "name": "python",
   "nbconvert_exporter": "python",
   "pygments_lexer": "ipython3",
   "version": "3.7.3"
  }
 },
 "nbformat": 4,
 "nbformat_minor": 2
}
