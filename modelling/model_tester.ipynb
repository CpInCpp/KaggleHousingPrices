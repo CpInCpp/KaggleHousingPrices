{
 "cells": [
  {
   "cell_type": "code",
   "execution_count": 1,
   "metadata": {},
   "outputs": [],
   "source": [
    "from modelling_functions import *"
   ]
  },
  {
   "cell_type": "code",
   "execution_count": 2,
   "metadata": {},
   "outputs": [
    {
     "name": "stderr",
     "output_type": "stream",
     "text": [
      "C:\\Users\\Charlie\\AppData\\Local\\Continuum\\anaconda3\\lib\\site-packages\\ipykernel_launcher.py:9: UserWarning: Pandas doesn't allow columns to be created via a new attribute name - see https://pandas.pydata.org/pandas-docs/stable/indexing.html#attribute-access\n",
      "  if __name__ == '__main__':\n"
     ]
    }
   ],
   "source": [
    "#### Read Data files\n",
    "housing = pd.read_csv('../data/clean_train.csv').drop('Id', axis=1)\n",
    "### Identifies columns by type obj\n",
    "needs_numeric = housing.loc[:, housing.dtypes == \"object\"]\n",
    "colname = list(needs_numeric.columns)\n",
    "### Process Datafiles for Modelling\n",
    "dict_dictonary = {}\n",
    "for col in colname:\n",
    "    housing.col, id_dictonary = to_numeric(housing, col, 'SalePrice')\n",
    "    dict_dictonary.update({col : id_dictonary})\n",
    "housing.columns = housing.columns.str.lower()\n",
    "housing_features = housing.drop(['saleprice'], axis=1)\n",
    "feat_labels = housing_features.columns\n",
    "\n",
    "\n",
    "housing.saleprice = np.log(housing.saleprice)"
   ]
  },
  {
   "cell_type": "code",
   "execution_count": 4,
   "metadata": {},
   "outputs": [
    {
     "name": "stdout",
     "output_type": "stream",
     "text": [
      "\n",
      "Model:  <class 'sklearn.linear_model.base.LinearRegression'>\n",
      "Features:  ['mssubclass', 'lotarea', 'neighborhood']\n",
      "MSE:  0.11285167668358313\n",
      "CVS:  0.3972711784036987\n"
     ]
    }
   ],
   "source": [
    "### Modelling\n",
    "run_linear_model(housing, ['mssubclass','lotarea','neighborhood'], housing.saleprice, 0.20, LinearRegression)"
   ]
  },
  {
   "cell_type": "code",
   "execution_count": null,
   "metadata": {},
   "outputs": [],
   "source": [
    "train_test_split(housing.loc[:,housing_features.columns],prices,test_size=0.33,random_state=42)"
   ]
  }
 ],
 "metadata": {
  "kernelspec": {
   "display_name": "Python 3",
   "language": "python",
   "name": "python3"
  },
  "language_info": {
   "codemirror_mode": {
    "name": "ipython",
    "version": 3
   },
   "file_extension": ".py",
   "mimetype": "text/x-python",
   "name": "python",
   "nbconvert_exporter": "python",
   "pygments_lexer": "ipython3",
   "version": "3.7.3"
  }
 },
 "nbformat": 4,
 "nbformat_minor": 2
}
