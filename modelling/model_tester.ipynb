{
 "cells": [
  {
   "cell_type": "code",
   "execution_count": 1,
   "metadata": {},
   "outputs": [],
   "source": [
    "from modelling_functions import *"
   ]
  },
  {
   "cell_type": "code",
   "execution_count": 2,
   "metadata": {},
   "outputs": [
    {
     "name": "stderr",
     "output_type": "stream",
     "text": [
      "C:\\Users\\Olympus\\Project\\machina_ex_kaggle\\modelling\\modelling_functions.py:107: UserWarning: Pandas doesn't allow columns to be created via a new attribute name - see https://pandas.pydata.org/pandas-docs/stable/indexing.html#attribute-access\n",
      "  housing.col, id_dictonary = to_numeric(housing, col, 'SalePrice')\n"
     ]
    }
   ],
   "source": [
    "housing, housing_features, feat_labels, dict_dictonary = read_and_clean(filepath = \"../data/clean_train.csv\")"
   ]
  },
  {
   "cell_type": "code",
   "execution_count": 3,
   "metadata": {},
   "outputs": [
    {
     "name": "stderr",
     "output_type": "stream",
     "text": [
      "C:\\Users\\Olympus\\Project\\machina_ex_kaggle\\modelling\\modelling_functions.py:91: UserWarning: Pandas doesn't allow columns to be created via a new attribute name - see https://pandas.pydata.org/pandas-docs/stable/indexing.html#attribute-access\n",
      "  housing.col, id_dictonary = to_numeric_test(housing, col, dictonary)\n"
     ]
    }
   ],
   "source": [
    "htest_id, htest_features, htest_labels, htest_dictonary = read_and_clean(filepath = \"../data/clean_test.csv\", test = True, dictonary = dict_dictonary)"
   ]
  },
  {
   "cell_type": "code",
   "execution_count": 4,
   "metadata": {},
   "outputs": [],
   "source": [
    "# htest_features.columns"
   ]
  },
  {
   "cell_type": "code",
   "execution_count": 5,
   "metadata": {},
   "outputs": [],
   "source": [
    "### Modelling\n",
    "_, _ = run_linear_model(housing, ['mssubclass','lotarea','neighborhood'], housing.saleprice, 0.20, LinearRegression)"
   ]
  },
  {
   "cell_type": "code",
   "execution_count": 104,
   "metadata": {},
   "outputs": [
    {
     "name": "stderr",
     "output_type": "stream",
     "text": [
      "C:\\Users\\Charlie\\AppData\\Local\\Continuum\\anaconda3\\lib\\site-packages\\ipykernel_launcher.py:25: UserWarning: With alpha=0, this algorithm does not converge well. You are advised to use the LinearRegression estimator\n",
      "C:\\Users\\Charlie\\AppData\\Local\\Continuum\\anaconda3\\lib\\site-packages\\sklearn\\linear_model\\coordinate_descent.py:478: UserWarning: Coordinate descent with no regularization may lead to unexpected results and is discouraged.\n",
      "  positive)\n",
      "C:\\Users\\Charlie\\AppData\\Local\\Continuum\\anaconda3\\lib\\site-packages\\sklearn\\linear_model\\coordinate_descent.py:492: ConvergenceWarning: Objective did not converge. You might want to increase the number of iterations. Fitting data with very small alpha may cause precision problems.\n",
      "  ConvergenceWarning)\n"
     ]
    },
    {
     "data": {
      "image/png": "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\n",
      "text/plain": [
       "<Figure size 432x288 with 1 Axes>"
      ]
     },
     "metadata": {
      "needs_background": "light"
     },
     "output_type": "display_data"
    },
    {
     "data": {
      "text/plain": [
       "sklearn.linear_model.coordinate_descent.Lasso"
      ]
     },
     "execution_count": 104,
     "metadata": {},
     "output_type": "execute_result"
   },

   ],
   "source": [
    "fTrain, fTest, pTrain, pTest = train_test_split(housing.loc[:,['totalbsmtsf','x1stflrsf','grlivarea','fullbath']],\n",
    "                                                housing.saleprice, test_size = 0.4, random_state = 42)\n",
    "\n",
    "from sklearn.linear_model import Ridge, Lasso\n",
    "def optimize_penalty(model=Lasso, min_=0,max_=10, step=0.01, plot=True):\n",
    "    \"\"\"\n",
    "    Finds the best setting for the penalty term in Regularized Regression\n",
    "    Keyword Args: \n",
    "    model     -- Which model to to run (default = Lasso)\n",
    "    min_      -- min value to test (default = 0)\n",
    "    max_      -- max value to test (default = 10)\n",
    "    step      -- step size (default = 0.01)\n",
    "    \n",
    "    Returns:\n",
    "    coefs_    -- list of model coefficients\n",
    "    alphas-   -- list of alpha sizes\n",
    "    R2_       -- list of R^2 scores\n",
    "    \"\"\"\n",
    "    coefs_ = []\n",
    "    term_ = []\n",
    "    R2_ = []\n",
    "    md = model()\n",
    "    for t in np.arange(0,20,0.01):\n",
    "        md.set_params(alpha=t)\n",
    "        md.fit(fTrain, pTrain)\n",
    "        coefs_.append(md.coef_)\n",
    "        term_.append(t)\n",
    "        R2_.append(md.score(fTest, pTest))\n",
    "    \n",
    "    if (plot == True):\n",
    "        plt.plot(term_,R2_,c='b',label=r'$R^2$')\n",
    "        plt.title(r'$R^2$ v Regularization Penalty')\n",
    "        plt.xlabel('Penalty Term')\n",
    "        plt.ylabel(r'$R^2$')\n",
    "        plt.legend(loc=0)\n",
    "        plt.show()\n",
    "    \n",
    "    \n",
    "    return coefs_, term_, R2_\n",
    "        \n",
    "coefs, alphas, scores = optimize_penalty(model=Lasso,plot=True)\n"
   ]
  },
  {
   "cell_type": "code",
   "execution_count": 31,
   "metadata": {},
   "outputs": [],
   "source": [
    "housing_features = housing_features.iloc[:,selected_coefs]"
   ]
  },
  {
   "cell_type": "code",
   "execution_count": 9,
   "metadata": {},
   "outputs": [
    {
     "data": {
      "text/html": [
       "<div>\n",
       "<style scoped>\n",
       "    .dataframe tbody tr th:only-of-type {\n",
       "        vertical-align: middle;\n",
       "    }\n",
       "\n",
       "    .dataframe tbody tr th {\n",
       "        vertical-align: top;\n",
       "    }\n",
       "\n",
       "    .dataframe thead th {\n",
       "        text-align: right;\n",
       "    }\n",
       "</style>\n",
       "<table border=\"1\" class=\"dataframe\">\n",
       "  <thead>\n",
       "    <tr style=\"text-align: right;\">\n",
       "      <th></th>\n",
       "      <th>lotarea</th>\n",
       "      <th>yearbuilt</th>\n",
       "      <th>yearremodadd</th>\n",
       "      <th>masvnrarea</th>\n",
       "      <th>bsmtfinsf1</th>\n",
       "      <th>totalbsmtsf</th>\n",
       "      <th>x2ndflrsf</th>\n",
       "      <th>grlivarea</th>\n",
       "      <th>garageyrblt</th>\n",
       "      <th>garagearea</th>\n",
       "      <th>wooddecksf</th>\n",
       "      <th>miscval</th>\n",
       "    </tr>\n",
       "  </thead>\n",
       "  <tbody>\n",
       "    <tr>\n",
       "      <th>0</th>\n",
       "      <td>8450</td>\n",
       "      <td>2003</td>\n",
       "      <td>2003</td>\n",
       "      <td>196.0</td>\n",
       "      <td>706</td>\n",
       "      <td>856</td>\n",
       "      <td>854</td>\n",
       "      <td>1710</td>\n",
       "      <td>2003</td>\n",
       "      <td>548</td>\n",
       "      <td>0</td>\n",
       "      <td>0</td>\n",
       "    </tr>\n",
       "    <tr>\n",
       "      <th>1</th>\n",
       "      <td>9600</td>\n",
       "      <td>1976</td>\n",
       "      <td>1976</td>\n",
       "      <td>0.0</td>\n",
       "      <td>978</td>\n",
       "      <td>1262</td>\n",
       "      <td>0</td>\n",
       "      <td>1262</td>\n",
       "      <td>1976</td>\n",
       "      <td>460</td>\n",
       "      <td>298</td>\n",
       "      <td>0</td>\n",
       "    </tr>\n",
       "    <tr>\n",
       "      <th>2</th>\n",
       "      <td>11250</td>\n",
       "      <td>2001</td>\n",
       "      <td>2002</td>\n",
       "      <td>162.0</td>\n",
       "      <td>486</td>\n",
       "      <td>920</td>\n",
       "      <td>866</td>\n",
       "      <td>1786</td>\n",
       "      <td>2001</td>\n",
       "      <td>608</td>\n",
       "      <td>0</td>\n",
       "      <td>0</td>\n",
       "    </tr>\n",
       "    <tr>\n",
       "      <th>3</th>\n",
       "      <td>9550</td>\n",
       "      <td>1915</td>\n",
       "      <td>1970</td>\n",
       "      <td>0.0</td>\n",
       "      <td>216</td>\n",
       "      <td>756</td>\n",
       "      <td>756</td>\n",
       "      <td>1717</td>\n",
       "      <td>1998</td>\n",
       "      <td>642</td>\n",
       "      <td>0</td>\n",
       "      <td>0</td>\n",
       "    </tr>\n",
       "    <tr>\n",
       "      <th>4</th>\n",
       "      <td>14260</td>\n",
       "      <td>2000</td>\n",
       "      <td>2000</td>\n",
       "      <td>350.0</td>\n",
       "      <td>655</td>\n",
       "      <td>1145</td>\n",
       "      <td>1053</td>\n",
       "      <td>2198</td>\n",
       "      <td>2000</td>\n",
       "      <td>836</td>\n",
       "      <td>192</td>\n",
       "      <td>0</td>\n",
       "    </tr>\n",
       "  </tbody>\n",
       "</table>\n",
       "</div>"
      ],
      "text/plain": [
       "   lotarea  yearbuilt  yearremodadd  masvnrarea  bsmtfinsf1  totalbsmtsf  \\\n",
       "0     8450       2003          2003       196.0         706          856   \n",
       "1     9600       1976          1976         0.0         978         1262   \n",
       "2    11250       2001          2002       162.0         486          920   \n",
       "3     9550       1915          1970         0.0         216          756   \n",
       "4    14260       2000          2000       350.0         655         1145   \n",
       "\n",
       "   x2ndflrsf  grlivarea  garageyrblt  garagearea  wooddecksf  miscval  \n",
       "0        854       1710         2003         548           0        0  \n",
       "1          0       1262         1976         460         298        0  \n",
       "2        866       1786         2001         608           0        0  \n",
       "3        756       1717         1998         642           0        0  \n",
       "4       1053       2198         2000         836         192        0  "
      ]
     },
     "execution_count": 9,
     "metadata": {},
     "output_type": "execute_result"
    }
   ],
   "source": [
    "housing_features.head()"
   ]
  },
  {
   "cell_type": "code",
   "execution_count": 35,
   "metadata": {},
   "outputs": [
    {
     "data": {
      "text/plain": [
       "Index(['lotarea', 'yearbuilt', 'yearremodadd', 'masvnrarea', 'bsmtfinsf1',\n",
       "       'totalbsmtsf', 'x1stflrsf', 'x2ndflrsf', 'grlivarea', 'garageyrblt',\n",
       "       'garagearea', 'wooddecksf', 'openporchsf', 'poolarea', 'miscval'],\n",
       "      dtype='object')"
      ]
     },
     "execution_count": 35,
     "metadata": {},
     "output_type": "execute_result"
    }
   ],
   "source": [
    "housing_features.columns"
   ]
  },
  {
   "cell_type": "code",
   "execution_count": 50,
   "metadata": {},
   "outputs": [],
   "source": [
    "trim = ['bsmtfinsf1', 'x1stflrsf', 'x2ndflrsf']\n",
    "trimmed_cols = [x for x in housing_features.columns if x not in trim]"
   ]
  },
  {
   "cell_type": "code",
   "execution_count": 51,
   "metadata": {},
   "outputs": [],
   "source": [
    "housing_features = housing_features.loc[:,trimmed_cols]"
   ]
  },
  {
   "cell_type": "code",
   "execution_count": 52,
   "metadata": {},
   "outputs": [],
   "source": [
    "lm, _ = run_linear_model(housing_features, housing_features.columns, housing.saleprice, 0.20, LinearRegression)"
   ]
  },
  {
   "cell_type": "code",
   "execution_count": 53,
   "metadata": {},
   "outputs": [],
   "source": [
    "results = np.exp(lm.predict(htest_features.loc[:,trimmed_cols]))"
   ]
  },
  {
   "cell_type": "code",
   "execution_count": 54,
   "metadata": {},
   "outputs": [],
   "source": [
    "Submission(htest_id, results)"
   ]
  }
 ],
 "metadata": {
  "kernelspec": {
   "display_name": "Python 3",
   "language": "python",
   "name": "python3"
  },
  "language_info": {
   "codemirror_mode": {
    "name": "ipython",
    "version": 3
   },
   "file_extension": ".py",
   "mimetype": "text/x-python",
   "name": "python",
   "nbconvert_exporter": "python",
   "pygments_lexer": "ipython3",
   "version": "3.7.3"
  }
 },
 "nbformat": 4,
 "nbformat_minor": 2
}
