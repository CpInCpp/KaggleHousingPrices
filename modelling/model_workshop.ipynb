{
 "cells": [
  {
   "cell_type": "code",
   "execution_count": 1,
   "metadata": {},
   "outputs": [],
   "source": [
    "import matplotlib.pyplot as plt\n",
    "plt.style.use('ggplot')\n",
    "import pandas as pd\n",
    "import numpy as np\n",
    "#from xgboost import XGBClassifier\n",
    "from sklearn.linear_model import LinearRegression, LassoCV, Lasso, Ridge\n",
    "from sklearn.ensemble import RandomForestRegressor\n",
    "from sklearn import datasets\n",
    "from sklearn.model_selection import train_test_split, cross_val_score, RandomizedSearchCV\n",
    "from sklearn.feature_selection import SelectFromModel\n",
    "from sklearn.metrics import accuracy_score, mean_squared_error\n",
    "from modelling_functions import *"
   ]
  },
  {
   "cell_type": "markdown",
   "metadata": {},
   "source": [
    "## Processing for Models"
   ]
  },
  {
   "cell_type": "code",
   "execution_count": 2,
   "metadata": {},
   "outputs": [
    {
     "name": "stdout",
     "output_type": "stream",
     "text": [
      "['MSZoning', 'Street', 'Alley', 'LotShape', 'LandContour', 'Utilities', 'LotConfig', 'LandSlope', 'Neighborhood', 'Condition1', 'Condition2', 'BldgType', 'OverallCond', 'RoofStyle', 'RoofMatl', 'Exterior1st', 'MasVnrType', 'ExterQual', 'ExterCond', 'Foundation', 'BsmtQual', 'BsmtCond', 'BsmtExposure', 'BsmtFinType1', 'BsmtFinType2', 'Heating', 'HeatingQC', 'CentralAir', 'Electrical', 'KitchenQual', 'Functional', 'FireplaceQu', 'GarageType', 'PavedDrive', 'Fence', 'MiscFeature', 'SaleType', 'SaleCondition']\n"
     ]
    },
    {
     "name": "stderr",
     "output_type": "stream",
     "text": [
      "C:\\Users\\Olympus\\Project\\machina_ex_kaggle\\modelling\\modelling_functions.py:110: UserWarning: Pandas doesn't allow columns to be created via a new attribute name - see https://pandas.pydata.org/pandas-docs/stable/indexing.html#attribute-access\n",
      "  housing.col, id_dictonary = to_numeric(housing, col, 'SalePrice')\n"
     ]
    }
   ],
   "source": [
    "#### Read Data files\n",
    "dict_dictonary = {}\n",
    "housing, housing_features, feat_labels, dict_dictonary = read_and_clean(filepath = \"../data/train_selected_features.csv\")"
   ]
  },
  {
   "cell_type": "code",
   "execution_count": 3,
   "metadata": {},
   "outputs": [
    {
     "name": "stdout",
     "output_type": "stream",
     "text": [
      "MSZoning **************************************************\n",
      "['C (all)', 'Othr', 'RL', 'FV']\n",
      "['Othr', 'RL', 'FV', 'C (all)']\n",
      "[]\n",
      "{'C (all)': 0, 'Othr': 1, 'RL': 2, 'FV': 3}\n",
      "['Othr' 'RL' 'FV' 'C (all)']\n",
      "Street **************************************************\n",
      "['Grvl', 'Pave']\n",
      "['Pave', 'Grvl']\n",
      "[]\n",
      "{'Grvl': 0, 'Pave': 1}\n",
      "['Pave' 'Grvl']\n",
      "Alley **************************************************\n",
      "['Grvl', 'None']\n",
      "['None', 'Grvl']\n",
      "[]\n",
      "{'Grvl': 0, 'None': 1}\n",
      "['None' 'Grvl']\n",
      "LotShape **************************************************\n",
      "['Reg', 'IRG']\n",
      "['Reg', 'IRG']\n",
      "[]\n",
      "{'Reg': 0, 'IRG': 1}\n",
      "['Reg' 'IRG']\n",
      "LandContour **************************************************\n",
      "['Bnk', 'Lvl', 'Low', 'HLS']\n",
      "['Lvl', 'HLS', 'Bnk', 'Low']\n",
      "[]\n",
      "{'Bnk': 0, 'Lvl': 1, 'Low': 2, 'HLS': 3}\n",
      "['Lvl' 'HLS' 'Bnk' 'Low']\n",
      "Utilities **************************************************\n",
      "['NoSeWa', 'AllPub']\n",
      "['AllPub']\n",
      "[]\n",
      "{'NoSeWa': 0, 'AllPub': 1}\n",
      "['AllPub']\n",
      "LotConfig **************************************************\n",
      "['NotCulD', 'CulD']\n",
      "['NotCulD', 'CulD']\n",
      "[]\n",
      "{'NotCulD': 0, 'CulD': 1}\n",
      "['NotCulD' 'CulD']\n",
      "LandSlope **************************************************\n",
      "['Gtl', 'Othr']\n",
      "['Gtl', 'Othr']\n",
      "[]\n",
      "{'Gtl': 0, 'Othr': 1}\n",
      "['Gtl' 'Othr']\n",
      "Neighborhood **************************************************\n",
      "['Lowest', 'Low', 'Med_Low', 'Med', 'True_Med', 'Med_High', 'High', 'Lux']\n",
      "['Med_Low', 'True_Med', 'Lux', 'Lowest', 'Med', 'Med_High', 'High', 'Low']\n",
      "[]\n",
      "{'Lowest': 0, 'Low': 1, 'Med_Low': 2, 'Med': 3, 'True_Med': 4, 'Med_High': 5, 'High': 6, 'Lux': 7}\n",
      "['Med_Low' 'True_Med' 'Lux' 'Lowest' 'Med' 'Med_High' 'High' 'Low']\n",
      "Condition1 **************************************************\n",
      "['Low', 'RRAe', 'Med', 'High']\n",
      "['Low', 'Med', 'High', 'RRAe']\n",
      "[]\n",
      "{'Low': 0, 'RRAe': 1, 'Med': 2, 'High': 3}\n",
      "['Low' 'Med' 'High' 'RRAe']\n",
      "Condition2 **************************************************\n",
      "['RRNn', 'Artery', 'Feedr', 'RRAn', 'Norm', 'RRAe', 'PosA']\n",
      "['Norm', 'Feedr', 'PosA', 'PosN', 'Artery']\n",
      "['PosN']\n",
      "{'RRNn': 0, 'Artery': 1, 'Feedr': 2, 'RRAn': 3, 'Norm': 4, 'RRAe': 5, 'PosA': 6, 'PosN': 3}\n",
      "['Norm' 'Feedr' 'PosA' 'PosN' 'Artery']\n",
      "BldgType **************************************************\n",
      "['fmCon', 'Fam']\n",
      "['Fam', 'fmCon']\n",
      "[]\n",
      "{'fmCon': 0, 'Fam': 1}\n",
      "['Fam' 'fmCon']\n",
      "OverallCond **************************************************\n",
      "['Low', '4', '8', '6', '7', '9', '5']\n",
      "['6', '5', '7', '8', 'Low', '9', '4']\n",
      "[]\n",
      "{'Low': 0, '4': 1, '8': 2, '6': 3, '7': 4, '9': 5, '5': 6}\n",
      "['6' '5' '7' '8' 'Low' '9' '4']\n",
      "RoofStyle **************************************************\n",
      "['Low', 'Med', 'High']\n",
      "['Low', 'Med', 'High']\n",
      "[]\n",
      "{'Low': 0, 'Med': 1, 'High': 2}\n",
      "['Low' 'Med' 'High']\n",
      "RoofMatl **************************************************\n",
      "['Low', 'Med', 'High']\n",
      "['Low', 'Med', 'High']\n",
      "[]\n",
      "{'Low': 0, 'Med': 1, 'High': 2}\n",
      "['Low' 'Med' 'High']\n",
      "Exterior1st **************************************************\n",
      "['Low', 'Med', 'High', 'Highest', 'VinylSd', 'CemntBd', 'Lux']\n",
      "['VinylSd', 'Med', 'High', 'Highest', 'CemntBd', 'Low']\n",
      "[]\n",
      "{'Low': 0, 'Med': 1, 'High': 2, 'Highest': 3, 'VinylSd': 4, 'CemntBd': 5, 'Lux': 6}\n",
      "['VinylSd' 'Med' 'High' 'Highest' 'CemntBd' 'Low']\n",
      "MasVnrType **************************************************\n",
      "['None', 'BrkFace', 'Stone']\n",
      "['None', 'BrkFace', 'Stone']\n",
      "[]\n",
      "{'None': 0, 'BrkFace': 1, 'Stone': 2}\n",
      "['None' 'BrkFace' 'Stone']\n",
      "ExterQual **************************************************\n",
      "['Fa', 'TA', 'Gd', 'Ex']\n",
      "['TA', 'Gd', 'Ex', 'Fa']\n",
      "[]\n",
      "{'Fa': 0, 'TA': 1, 'Gd': 2, 'Ex': 3}\n",
      "['TA' 'Gd' 'Ex' 'Fa']\n",
      "ExterCond **************************************************\n",
      "['Po', 'Gd', 'TA']\n",
      "['TA', 'Gd', 'Po']\n",
      "[]\n",
      "{'Po': 0, 'Gd': 1, 'TA': 2}\n",
      "['TA' 'Gd' 'Po']\n",
      "Foundation **************************************************\n",
      "['Slab', 'BrkTil', 'Stone', 'Other']\n",
      "['Stone', 'Other', 'BrkTil', 'Slab']\n",
      "[]\n",
      "{'Slab': 0, 'BrkTil': 1, 'Stone': 2, 'Other': 3}\n",
      "['Stone' 'Other' 'BrkTil' 'Slab']\n",
      "BsmtQual **************************************************\n",
      "['None', 'TA', 'Gd', 'Ex']\n",
      "['TA', 'Gd', 'Ex', 'None']\n",
      "[]\n",
      "{'None': 0, 'TA': 1, 'Gd': 2, 'Ex': 3}\n",
      "['TA' 'Gd' 'Ex' 'None']\n",
      "BsmtCond **************************************************\n",
      "['Po', 'Med', 'High']\n",
      "['High', 'Po', 'Med']\n",
      "[]\n",
      "{'Po': 0, 'Med': 1, 'High': 2}\n",
      "['High' 'Po' 'Med']\n",
      "BsmtExposure **************************************************\n",
      "['None', 'No', 'Med', 'Gd']\n",
      "['No', 'Gd', 'Med', 'None']\n",
      "[]\n",
      "{'None': 0, 'No': 1, 'Med': 2, 'Gd': 3}\n",
      "['No' 'Gd' 'Med' 'None']\n",
      "BsmtFinType1 **************************************************\n",
      "['None', 'Low', 'Med', 'High']\n",
      "['Low', 'Med', 'High', 'None']\n",
      "[]\n",
      "{'None': 0, 'Low': 1, 'Med': 2, 'High': 3}\n",
      "['Low' 'Med' 'High' 'None']\n",
      "BsmtFinType2 **************************************************\n",
      "['None', 'BLQ', 'Rec', 'LwQ', 'Unf', 'ALQ', 'GLQ']\n",
      "['LwQ', 'Unf', 'Rec', 'BLQ', 'GLQ', 'ALQ', 'None']\n",
      "[]\n",
      "{'None': 0, 'BLQ': 1, 'Rec': 2, 'LwQ': 3, 'Unf': 4, 'ALQ': 5, 'GLQ': 6}\n",
      "['LwQ' 'Unf' 'Rec' 'BLQ' 'GLQ' 'ALQ' 'None']\n",
      "Heating **************************************************\n",
      "['Floor', 'Grav', 'Wall', 'OthW', 'GasW', 'GasA']\n",
      "['GasA', 'GasW', 'Grav', 'Wall']\n",
      "[]\n",
      "{'Floor': 0, 'Grav': 1, 'Wall': 2, 'OthW': 3, 'GasW': 4, 'GasA': 5}\n",
      "['GasA' 'GasW' 'Grav' 'Wall']\n",
      "HeatingQC **************************************************\n",
      "['Po', 'Med', 'Ex']\n",
      "['Med', 'Ex', 'Po']\n",
      "[]\n",
      "{'Po': 0, 'Med': 1, 'Ex': 2}\n",
      "['Med' 'Ex' 'Po']\n",
      "CentralAir **************************************************\n",
      "['N', 'Y']\n",
      "['Y', 'N']\n",
      "[]\n",
      "{'N': 0, 'Y': 1}\n",
      "['Y' 'N']\n",
      "Electrical **************************************************\n",
      "['Low', 'Med', 'High']\n",
      "['High', 'Med', 'Low']\n",
      "[]\n",
      "{'Low': 0, 'Med': 1, 'High': 2}\n",
      "['High' 'Med' 'Low']\n",
      "KitchenQual **************************************************\n",
      "['Fa', 'TA', 'Gd', 'Ex']\n",
      "['TA', 'Gd', 'Ex', 'Fa']\n",
      "[]\n",
      "{'Fa': 0, 'TA': 1, 'Gd': 2, 'Ex': 3}\n",
      "['TA' 'Gd' 'Ex' 'Fa']\n",
      "Functional **************************************************\n",
      "['Low', 'Med', 'High']\n",
      "['High', 'Med', 'Low']\n",
      "[]\n",
      "{'Low': 0, 'Med': 1, 'High': 2}\n",
      "['High' 'Med' 'Low']\n",
      "FireplaceQu **************************************************\n",
      "['Low', 'Fa', 'TA', 'Ex']\n",
      "['Low', 'TA', 'Fa', 'Ex']\n",
      "[]\n",
      "{'Low': 0, 'Fa': 1, 'TA': 2, 'Ex': 3}\n",
      "['Low' 'TA' 'Fa' 'Ex']\n",
      "GarageType **************************************************\n",
      "['Low', 'Med', 'High', 'Highest']\n",
      "['High', 'Med', 'Highest', 'Low']\n",
      "[]\n",
      "{'Low': 0, 'Med': 1, 'High': 2, 'Highest': 3}\n",
      "['High' 'Med' 'Highest' 'Low']\n",
      "PavedDrive **************************************************\n",
      "['N', 'P', 'Y']\n",
      "['Y', 'N', 'P']\n",
      "[]\n",
      "{'N': 0, 'P': 1, 'Y': 2}\n",
      "['Y' 'N' 'P']\n",
      "Fence **************************************************\n",
      "['Low', 'Med', 'High', 'None']\n",
      "['Med', 'None', 'High', 'Low']\n",
      "[]\n",
      "{'Low': 0, 'Med': 1, 'High': 2, 'None': 3}\n",
      "['Med' 'None' 'High' 'Low']\n",
      "MiscFeature **************************************************\n",
      "['Othr', 'Shed', 'None', 'Gar2', 'TenC']\n",
      "['None', 'Gar2', 'Shed', 'Othr']\n",
      "[]\n",
      "{'Othr': 0, 'Shed': 1, 'None': 2, 'Gar2': 3, 'TenC': 4}\n",
      "['None' 'Gar2' 'Shed' 'Othr']\n",
      "SaleType **************************************************\n",
      "['Low', 'Med', 'CWD', 'High']\n",
      "['Med', 'High', 'Low', 'CWD']\n",
      "[]\n",
      "{'Low': 0, 'Med': 1, 'CWD': 2, 'High': 3}\n",
      "['Med' 'High' 'Low' 'CWD']\n",
      "SaleCondition **************************************************\n",
      "['Low', 'Med', 'Med_High', 'High']\n",
      "['Med_High', 'High', 'Med', 'Low']\n",
      "[]\n",
      "{'Low': 0, 'Med': 1, 'Med_High': 2, 'High': 3}\n",
      "['Med_High' 'High' 'Med' 'Low']\n"
     ]
    },
    {
     "name": "stderr",
     "output_type": "stream",
     "text": [
      "C:\\Users\\Olympus\\Project\\machina_ex_kaggle\\modelling\\modelling_functions.py:92: UserWarning: Pandas doesn't allow columns to be created via a new attribute name - see https://pandas.pydata.org/pandas-docs/stable/indexing.html#attribute-access\n",
      "  housing.col, id_dictonary = to_numeric_test(housing, col, dictonary)\n"
     ]
    }
   ],
   "source": [
    "htest_id, htest_features, htest_labels, htest_dictonary = read_and_clean(filepath = \"../data/test_selected_features.csv\", test = True, dictonary = dict_dictonary)"
   ]
  },
  {
   "cell_type": "code",
   "execution_count": 5,
   "metadata": {},
   "outputs": [
    {
     "data": {
      "text/plain": [
       "0       12.247694\n",
       "1       12.109011\n",
       "2       12.317167\n",
       "3       11.849398\n",
       "4       12.429216\n",
       "5       11.870600\n",
       "6       12.634603\n",
       "7       12.206073\n",
       "8       11.774520\n",
       "9       11.678440\n",
       "10      11.771436\n",
       "11      12.751300\n",
       "12      11.877569\n",
       "13      12.540758\n",
       "14      11.964001\n",
       "15      11.790557\n",
       "16      11.911702\n",
       "17      11.407565\n",
       "18      11.976659\n",
       "19      11.842229\n",
       "20      12.692503\n",
       "21      11.845103\n",
       "22      12.345835\n",
       "23      11.774520\n",
       "24      11.944708\n",
       "25      12.454104\n",
       "26      11.811547\n",
       "27      12.631340\n",
       "28      12.242887\n",
       "29      11.134589\n",
       "          ...    \n",
       "1425    12.165980\n",
       "1426    11.875831\n",
       "1427    11.074421\n",
       "1428    12.136187\n",
       "1429    11.982929\n",
       "1430    12.066811\n",
       "1431    11.699405\n",
       "1432    12.885671\n",
       "1433    11.916389\n",
       "1434    12.190959\n",
       "1435    12.160029\n",
       "1436    11.913713\n",
       "1437    12.644328\n",
       "1438    11.703546\n",
       "1439    12.098487\n",
       "1440    11.767568\n",
       "1441    11.969717\n",
       "1442    12.388394\n",
       "1443    11.626254\n",
       "1444    11.429544\n",
       "1445    11.820410\n",
       "1446    12.567551\n",
       "1447    11.884489\n",
       "1448    11.344507\n",
       "1449    12.128111\n",
       "1450    12.072541\n",
       "1451    12.254863\n",
       "1452    12.493130\n",
       "1453    11.864462\n",
       "1454    11.901583\n",
       "Name: saleprice, Length: 1455, dtype: float64"
      ]
     },
     "execution_count": 5,
     "metadata": {},
     "output_type": "execute_result"
    }
   ],
   "source": [
    "housing.saleprice"
   ]
  },
  {
   "cell_type": "code",
   "execution_count": 5,
   "metadata": {},
   "outputs": [],
   "source": [
    "trim = ['miscfeature', 'street', 'condition2', 'utilities', 'roofmatl', 'heating',\n",
    "       'roofstyle', 'bsmtcond', 'bsmtfintype2', 'x3ssnporch']"
   ]
  },
  {
   "cell_type": "code",
   "execution_count": 6,
   "metadata": {},
   "outputs": [],
   "source": [
    "#trim = ['paveddrive', 'miscfeature', 'utilities', 'roofmatl', 'heating', 'street']\n",
    "training = housing_features.drop(trim, axis=1)\n",
    "testing = htest_features.drop(trim, axis=1)"
   ]
  },
  {
   "cell_type": "code",
   "execution_count": 6,
   "metadata": {},
   "outputs": [],
   "source": [
    "training = housing_features\n",
    "testing = htest_features"
   ]
  },
  {
   "cell_type": "code",
   "execution_count": 8,
   "metadata": {},
   "outputs": [
    {
     "name": "stdout",
     "output_type": "stream",
     "text": [
      "(1455, 66)\n",
      "(1459, 66)\n"
     ]
    }
   ],
   "source": [
    "print(training.shape)\n",
    "print(testing.shape)"
   ]
  },
  {
   "cell_type": "code",
   "execution_count": 9,
   "metadata": {},
   "outputs": [],
   "source": [
    "htrain, htest, ptrain, ptest = train_test_split(training, housing.saleprice, test_size = 0.33)"
   ]
  },
  {
   "cell_type": "markdown",
   "metadata": {},
   "source": [
    "## RandomForestRegressor"
   ]
  },
  {
   "cell_type": "code",
   "execution_count": 36,
   "metadata": {},
   "outputs": [
    {
     "name": "stdout",
     "output_type": "stream",
     "text": [
      "{'n_estimators': [200, 1288, 2377, 3466, 4555, 5644, 6733, 7822, 8911, 10000], 'max_features': ['auto', 'sqrt'], 'max_depth': [10, 29, 48, 67, 86, 105, 124, 143, 162, 181, 200, None], 'min_samples_split': [2, 5, 10, 15, 20, 30, 40], 'min_samples_leaf': [1, 2, 4, 8, 16, 32, 64], 'bootstrap': [True, False]}\n"
     ]
    }
   ],
   "source": [
    "n_estimators = [int(x) for x in np.linspace(start = 200, stop = 10000, num = 10)]\n",
    "# Number of features to consider at every split\n",
    "max_features = ['auto', 'sqrt']\n",
    "# Maximum number of levels in tree\n",
    "max_depth = [int(x) for x in np.linspace(10, 200, num = 11)]\n",
    "max_depth.append(None)\n",
    "# Minimum number of samples required to split a node\n",
    "min_samples_split = [2, 5, 10, 15, 20, 30, 40]\n",
    "# Minimum number of samples required at each leaf node\n",
    "min_samples_leaf = [1, 2, 4, 8, 16, 32, 64]\n",
    "# Method of selecting samples for training each tree\n",
    "bootstrap = [True, False]\n",
    "# Create the random grid\n",
    "random_grid = {'n_estimators': n_estimators,\n",
    "               'max_features': max_features,\n",
    "               'max_depth': max_depth,\n",
    "               'min_samples_split': min_samples_split,\n",
    "               'min_samples_leaf': min_samples_leaf,\n",
    "               'bootstrap': bootstrap}\n",
    "\n",
    "print(random_grid)"
   ]
  },
  {
   "cell_type": "code",
   "execution_count": 37,
   "metadata": {
    "scrolled": true
   },
   "outputs": [
    {
     "name": "stdout",
     "output_type": "stream",
     "text": [
      "Fitting 5 folds for each of 100 candidates, totalling 500 fits\n"
     ]
    },
    {
     "name": "stderr",
     "output_type": "stream",
     "text": [
      "[Parallel(n_jobs=-1)]: Using backend LokyBackend with 4 concurrent workers.\n",
      "/home/sama/anaconda3/lib/python3.7/site-packages/sklearn/externals/joblib/externals/loky/process_executor.py:706: UserWarning: A worker stopped while some jobs were given to the executor. This can be caused by a too short worker timeout or by a memory leak.\n",
      "  \"timeout or by a memory leak.\", UserWarning\n"
     ]
    },
    {
     "ename": "KeyboardInterrupt",
     "evalue": "",
     "output_type": "error",
     "traceback": [
      "\u001b[0;31m---------------------------------------------------------------------------\u001b[0m",
      "\u001b[0;31mKeyboardInterrupt\u001b[0m                         Traceback (most recent call last)",
      "\u001b[0;32m<ipython-input-37-ccafde434cdf>\u001b[0m in \u001b[0;36m<module>\u001b[0;34m\u001b[0m\n\u001b[1;32m      6\u001b[0m \u001b[0mrf_random\u001b[0m \u001b[0;34m=\u001b[0m \u001b[0mRandomizedSearchCV\u001b[0m\u001b[0;34m(\u001b[0m\u001b[0mestimator\u001b[0m \u001b[0;34m=\u001b[0m \u001b[0mrf\u001b[0m\u001b[0;34m,\u001b[0m \u001b[0mparam_distributions\u001b[0m \u001b[0;34m=\u001b[0m \u001b[0mrandom_grid\u001b[0m\u001b[0;34m,\u001b[0m \u001b[0mn_iter\u001b[0m \u001b[0;34m=\u001b[0m \u001b[0;36m100\u001b[0m\u001b[0;34m,\u001b[0m \u001b[0mcv\u001b[0m \u001b[0;34m=\u001b[0m \u001b[0;36m5\u001b[0m\u001b[0;34m,\u001b[0m \u001b[0mverbose\u001b[0m\u001b[0;34m=\u001b[0m\u001b[0;36m2\u001b[0m\u001b[0;34m,\u001b[0m \u001b[0mrandom_state\u001b[0m\u001b[0;34m=\u001b[0m\u001b[0;36m0\u001b[0m\u001b[0;34m,\u001b[0m \u001b[0mn_jobs\u001b[0m \u001b[0;34m=\u001b[0m \u001b[0;34m-\u001b[0m\u001b[0;36m1\u001b[0m\u001b[0;34m)\u001b[0m\u001b[0;34m\u001b[0m\u001b[0;34m\u001b[0m\u001b[0m\n\u001b[1;32m      7\u001b[0m \u001b[0;31m# Fit the random search model\u001b[0m\u001b[0;34m\u001b[0m\u001b[0;34m\u001b[0m\u001b[0;34m\u001b[0m\u001b[0m\n\u001b[0;32m----> 8\u001b[0;31m \u001b[0mrf_random\u001b[0m\u001b[0;34m.\u001b[0m\u001b[0mfit\u001b[0m\u001b[0;34m(\u001b[0m\u001b[0mhtrain\u001b[0m\u001b[0;34m,\u001b[0m \u001b[0mptrain\u001b[0m\u001b[0;34m)\u001b[0m\u001b[0;34m\u001b[0m\u001b[0;34m\u001b[0m\u001b[0m\n\u001b[0m",
      "\u001b[0;32m~/anaconda3/lib/python3.7/site-packages/sklearn/model_selection/_search.py\u001b[0m in \u001b[0;36mfit\u001b[0;34m(self, X, y, groups, **fit_params)\u001b[0m\n\u001b[1;32m    720\u001b[0m                 \u001b[0;32mreturn\u001b[0m \u001b[0mresults_container\u001b[0m\u001b[0;34m[\u001b[0m\u001b[0;36m0\u001b[0m\u001b[0;34m]\u001b[0m\u001b[0;34m\u001b[0m\u001b[0;34m\u001b[0m\u001b[0m\n\u001b[1;32m    721\u001b[0m \u001b[0;34m\u001b[0m\u001b[0m\n\u001b[0;32m--> 722\u001b[0;31m             \u001b[0mself\u001b[0m\u001b[0;34m.\u001b[0m\u001b[0m_run_search\u001b[0m\u001b[0;34m(\u001b[0m\u001b[0mevaluate_candidates\u001b[0m\u001b[0;34m)\u001b[0m\u001b[0;34m\u001b[0m\u001b[0;34m\u001b[0m\u001b[0m\n\u001b[0m\u001b[1;32m    723\u001b[0m \u001b[0;34m\u001b[0m\u001b[0m\n\u001b[1;32m    724\u001b[0m         \u001b[0mresults\u001b[0m \u001b[0;34m=\u001b[0m \u001b[0mresults_container\u001b[0m\u001b[0;34m[\u001b[0m\u001b[0;36m0\u001b[0m\u001b[0;34m]\u001b[0m\u001b[0;34m\u001b[0m\u001b[0;34m\u001b[0m\u001b[0m\n",
      "\u001b[0;32m~/anaconda3/lib/python3.7/site-packages/sklearn/model_selection/_search.py\u001b[0m in \u001b[0;36m_run_search\u001b[0;34m(self, evaluate_candidates)\u001b[0m\n\u001b[1;32m   1513\u001b[0m         evaluate_candidates(ParameterSampler(\n\u001b[1;32m   1514\u001b[0m             \u001b[0mself\u001b[0m\u001b[0;34m.\u001b[0m\u001b[0mparam_distributions\u001b[0m\u001b[0;34m,\u001b[0m \u001b[0mself\u001b[0m\u001b[0;34m.\u001b[0m\u001b[0mn_iter\u001b[0m\u001b[0;34m,\u001b[0m\u001b[0;34m\u001b[0m\u001b[0;34m\u001b[0m\u001b[0m\n\u001b[0;32m-> 1515\u001b[0;31m             random_state=self.random_state))\n\u001b[0m",
      "\u001b[0;32m~/anaconda3/lib/python3.7/site-packages/sklearn/model_selection/_search.py\u001b[0m in \u001b[0;36mevaluate_candidates\u001b[0;34m(candidate_params)\u001b[0m\n\u001b[1;32m    709\u001b[0m                                \u001b[0;32mfor\u001b[0m \u001b[0mparameters\u001b[0m\u001b[0;34m,\u001b[0m \u001b[0;34m(\u001b[0m\u001b[0mtrain\u001b[0m\u001b[0;34m,\u001b[0m \u001b[0mtest\u001b[0m\u001b[0;34m)\u001b[0m\u001b[0;34m\u001b[0m\u001b[0;34m\u001b[0m\u001b[0m\n\u001b[1;32m    710\u001b[0m                                in product(candidate_params,\n\u001b[0;32m--> 711\u001b[0;31m                                           cv.split(X, y, groups)))\n\u001b[0m\u001b[1;32m    712\u001b[0m \u001b[0;34m\u001b[0m\u001b[0m\n\u001b[1;32m    713\u001b[0m                 \u001b[0mall_candidate_params\u001b[0m\u001b[0;34m.\u001b[0m\u001b[0mextend\u001b[0m\u001b[0;34m(\u001b[0m\u001b[0mcandidate_params\u001b[0m\u001b[0;34m)\u001b[0m\u001b[0;34m\u001b[0m\u001b[0;34m\u001b[0m\u001b[0m\n",
      "\u001b[0;32m~/anaconda3/lib/python3.7/site-packages/sklearn/externals/joblib/parallel.py\u001b[0m in \u001b[0;36m__call__\u001b[0;34m(self, iterable)\u001b[0m\n\u001b[1;32m    928\u001b[0m \u001b[0;34m\u001b[0m\u001b[0m\n\u001b[1;32m    929\u001b[0m             \u001b[0;32mwith\u001b[0m \u001b[0mself\u001b[0m\u001b[0;34m.\u001b[0m\u001b[0m_backend\u001b[0m\u001b[0;34m.\u001b[0m\u001b[0mretrieval_context\u001b[0m\u001b[0;34m(\u001b[0m\u001b[0;34m)\u001b[0m\u001b[0;34m:\u001b[0m\u001b[0;34m\u001b[0m\u001b[0;34m\u001b[0m\u001b[0m\n\u001b[0;32m--> 930\u001b[0;31m                 \u001b[0mself\u001b[0m\u001b[0;34m.\u001b[0m\u001b[0mretrieve\u001b[0m\u001b[0;34m(\u001b[0m\u001b[0;34m)\u001b[0m\u001b[0;34m\u001b[0m\u001b[0;34m\u001b[0m\u001b[0m\n\u001b[0m\u001b[1;32m    931\u001b[0m             \u001b[0;31m# Make sure that we get a last message telling us we are done\u001b[0m\u001b[0;34m\u001b[0m\u001b[0;34m\u001b[0m\u001b[0;34m\u001b[0m\u001b[0m\n\u001b[1;32m    932\u001b[0m             \u001b[0melapsed_time\u001b[0m \u001b[0;34m=\u001b[0m \u001b[0mtime\u001b[0m\u001b[0;34m.\u001b[0m\u001b[0mtime\u001b[0m\u001b[0;34m(\u001b[0m\u001b[0;34m)\u001b[0m \u001b[0;34m-\u001b[0m \u001b[0mself\u001b[0m\u001b[0;34m.\u001b[0m\u001b[0m_start_time\u001b[0m\u001b[0;34m\u001b[0m\u001b[0;34m\u001b[0m\u001b[0m\n",
      "\u001b[0;32m~/anaconda3/lib/python3.7/site-packages/sklearn/externals/joblib/parallel.py\u001b[0m in \u001b[0;36mretrieve\u001b[0;34m(self)\u001b[0m\n\u001b[1;32m    831\u001b[0m             \u001b[0;32mtry\u001b[0m\u001b[0;34m:\u001b[0m\u001b[0;34m\u001b[0m\u001b[0;34m\u001b[0m\u001b[0m\n\u001b[1;32m    832\u001b[0m                 \u001b[0;32mif\u001b[0m \u001b[0mgetattr\u001b[0m\u001b[0;34m(\u001b[0m\u001b[0mself\u001b[0m\u001b[0;34m.\u001b[0m\u001b[0m_backend\u001b[0m\u001b[0;34m,\u001b[0m \u001b[0;34m'supports_timeout'\u001b[0m\u001b[0;34m,\u001b[0m \u001b[0;32mFalse\u001b[0m\u001b[0;34m)\u001b[0m\u001b[0;34m:\u001b[0m\u001b[0;34m\u001b[0m\u001b[0;34m\u001b[0m\u001b[0m\n\u001b[0;32m--> 833\u001b[0;31m                     \u001b[0mself\u001b[0m\u001b[0;34m.\u001b[0m\u001b[0m_output\u001b[0m\u001b[0;34m.\u001b[0m\u001b[0mextend\u001b[0m\u001b[0;34m(\u001b[0m\u001b[0mjob\u001b[0m\u001b[0;34m.\u001b[0m\u001b[0mget\u001b[0m\u001b[0;34m(\u001b[0m\u001b[0mtimeout\u001b[0m\u001b[0;34m=\u001b[0m\u001b[0mself\u001b[0m\u001b[0;34m.\u001b[0m\u001b[0mtimeout\u001b[0m\u001b[0;34m)\u001b[0m\u001b[0;34m)\u001b[0m\u001b[0;34m\u001b[0m\u001b[0;34m\u001b[0m\u001b[0m\n\u001b[0m\u001b[1;32m    834\u001b[0m                 \u001b[0;32melse\u001b[0m\u001b[0;34m:\u001b[0m\u001b[0;34m\u001b[0m\u001b[0;34m\u001b[0m\u001b[0m\n\u001b[1;32m    835\u001b[0m                     \u001b[0mself\u001b[0m\u001b[0;34m.\u001b[0m\u001b[0m_output\u001b[0m\u001b[0;34m.\u001b[0m\u001b[0mextend\u001b[0m\u001b[0;34m(\u001b[0m\u001b[0mjob\u001b[0m\u001b[0;34m.\u001b[0m\u001b[0mget\u001b[0m\u001b[0;34m(\u001b[0m\u001b[0;34m)\u001b[0m\u001b[0;34m)\u001b[0m\u001b[0;34m\u001b[0m\u001b[0;34m\u001b[0m\u001b[0m\n",
      "\u001b[0;32m~/anaconda3/lib/python3.7/site-packages/sklearn/externals/joblib/_parallel_backends.py\u001b[0m in \u001b[0;36mwrap_future_result\u001b[0;34m(future, timeout)\u001b[0m\n\u001b[1;32m    519\u001b[0m         AsyncResults.get from multiprocessing.\"\"\"\n\u001b[1;32m    520\u001b[0m         \u001b[0;32mtry\u001b[0m\u001b[0;34m:\u001b[0m\u001b[0;34m\u001b[0m\u001b[0;34m\u001b[0m\u001b[0m\n\u001b[0;32m--> 521\u001b[0;31m             \u001b[0;32mreturn\u001b[0m \u001b[0mfuture\u001b[0m\u001b[0;34m.\u001b[0m\u001b[0mresult\u001b[0m\u001b[0;34m(\u001b[0m\u001b[0mtimeout\u001b[0m\u001b[0;34m=\u001b[0m\u001b[0mtimeout\u001b[0m\u001b[0;34m)\u001b[0m\u001b[0;34m\u001b[0m\u001b[0;34m\u001b[0m\u001b[0m\n\u001b[0m\u001b[1;32m    522\u001b[0m         \u001b[0;32mexcept\u001b[0m \u001b[0mLokyTimeoutError\u001b[0m\u001b[0;34m:\u001b[0m\u001b[0;34m\u001b[0m\u001b[0;34m\u001b[0m\u001b[0m\n\u001b[1;32m    523\u001b[0m             \u001b[0;32mraise\u001b[0m \u001b[0mTimeoutError\u001b[0m\u001b[0;34m(\u001b[0m\u001b[0;34m)\u001b[0m\u001b[0;34m\u001b[0m\u001b[0;34m\u001b[0m\u001b[0m\n",
      "\u001b[0;32m~/anaconda3/lib/python3.7/concurrent/futures/_base.py\u001b[0m in \u001b[0;36mresult\u001b[0;34m(self, timeout)\u001b[0m\n\u001b[1;32m    425\u001b[0m                 \u001b[0;32mreturn\u001b[0m \u001b[0mself\u001b[0m\u001b[0;34m.\u001b[0m\u001b[0m__get_result\u001b[0m\u001b[0;34m(\u001b[0m\u001b[0;34m)\u001b[0m\u001b[0;34m\u001b[0m\u001b[0;34m\u001b[0m\u001b[0m\n\u001b[1;32m    426\u001b[0m \u001b[0;34m\u001b[0m\u001b[0m\n\u001b[0;32m--> 427\u001b[0;31m             \u001b[0mself\u001b[0m\u001b[0;34m.\u001b[0m\u001b[0m_condition\u001b[0m\u001b[0;34m.\u001b[0m\u001b[0mwait\u001b[0m\u001b[0;34m(\u001b[0m\u001b[0mtimeout\u001b[0m\u001b[0;34m)\u001b[0m\u001b[0;34m\u001b[0m\u001b[0;34m\u001b[0m\u001b[0m\n\u001b[0m\u001b[1;32m    428\u001b[0m \u001b[0;34m\u001b[0m\u001b[0m\n\u001b[1;32m    429\u001b[0m             \u001b[0;32mif\u001b[0m \u001b[0mself\u001b[0m\u001b[0;34m.\u001b[0m\u001b[0m_state\u001b[0m \u001b[0;32min\u001b[0m \u001b[0;34m[\u001b[0m\u001b[0mCANCELLED\u001b[0m\u001b[0;34m,\u001b[0m \u001b[0mCANCELLED_AND_NOTIFIED\u001b[0m\u001b[0;34m]\u001b[0m\u001b[0;34m:\u001b[0m\u001b[0;34m\u001b[0m\u001b[0;34m\u001b[0m\u001b[0m\n",
      "\u001b[0;32m~/anaconda3/lib/python3.7/threading.py\u001b[0m in \u001b[0;36mwait\u001b[0;34m(self, timeout)\u001b[0m\n\u001b[1;32m    294\u001b[0m         \u001b[0;32mtry\u001b[0m\u001b[0;34m:\u001b[0m    \u001b[0;31m# restore state no matter what (e.g., KeyboardInterrupt)\u001b[0m\u001b[0;34m\u001b[0m\u001b[0;34m\u001b[0m\u001b[0m\n\u001b[1;32m    295\u001b[0m             \u001b[0;32mif\u001b[0m \u001b[0mtimeout\u001b[0m \u001b[0;32mis\u001b[0m \u001b[0;32mNone\u001b[0m\u001b[0;34m:\u001b[0m\u001b[0;34m\u001b[0m\u001b[0;34m\u001b[0m\u001b[0m\n\u001b[0;32m--> 296\u001b[0;31m                 \u001b[0mwaiter\u001b[0m\u001b[0;34m.\u001b[0m\u001b[0macquire\u001b[0m\u001b[0;34m(\u001b[0m\u001b[0;34m)\u001b[0m\u001b[0;34m\u001b[0m\u001b[0;34m\u001b[0m\u001b[0m\n\u001b[0m\u001b[1;32m    297\u001b[0m                 \u001b[0mgotit\u001b[0m \u001b[0;34m=\u001b[0m \u001b[0;32mTrue\u001b[0m\u001b[0;34m\u001b[0m\u001b[0;34m\u001b[0m\u001b[0m\n\u001b[1;32m    298\u001b[0m             \u001b[0;32melse\u001b[0m\u001b[0;34m:\u001b[0m\u001b[0;34m\u001b[0m\u001b[0;34m\u001b[0m\u001b[0m\n",
      "\u001b[0;31mKeyboardInterrupt\u001b[0m: "
     ]
    }
   ],
   "source": [
    "# Use the random grid to search for best hyperparameters\n",
    "# First create the base model to tune\n",
    "rf = RandomForestRegressor()\n",
    "# Random search of parameters, using 3 fold cross validation, \n",
    "# search across 100 different combinations, and use all available cores\n",
    "rf_random = RandomizedSearchCV(estimator = rf, param_distributions = random_grid, n_iter = 100, cv = 5, verbose=2, random_state=0, n_jobs = -1)\n",
    "# Fit the random search model\n",
    "rf_random.fit(htrain, ptrain)"
   ]
  },
  {
   "cell_type": "code",
   "execution_count": 9,
   "metadata": {},
   "outputs": [
    {
     "data": {
      "text/plain": [
       "{'n_estimators': 4555,\n",
       " 'min_samples_split': 2,\n",
       " 'min_samples_leaf': 1,\n",
       " 'max_features': 'sqrt',\n",
       " 'max_depth': 162,\n",
       " 'bootstrap': False}"
      ]
     },
     "execution_count": 9,
     "metadata": {},
     "output_type": "execute_result"
    }
   ],
   "source": [
    "rf_random.best_params_"
   ]
  },
  {
   "cell_type": "code",
   "execution_count": 17,
   "metadata": {},
   "outputs": [],
   "source": [
    "clf = RandomForestRegressor(n_estimators=4555, \n",
    "                            random_state=9, \n",
    "                            n_jobs=-1, \n",
    "                            min_samples_split = 2, \n",
    "                            min_samples_leaf = 1, \n",
    "                            max_features = 'sqrt', \n",
    "                            max_depth = 162,\n",
    "                            bootstrap = False)\n",
    "#sfm = SelectFromModel(clf, threshold = 0.01)\n",
    "#sfm.fit(htrain, ptrain)\n",
    "# ## Not Finished\n",
    "# # Measure Feature Importance\n",
    "#feature_selected = []\n",
    "#for feature_list_index in sfm.get_support(indices=True):\n",
    "#     feature_selected.append(feat_labels[feature_list_index])\n",
    "#proxy = feature_selected\n",
    "#trimmed = ['x1stflrsf', 'x2ndflrsf', 'garagecars', 'overallcond', 'saleprice', 'Unnamed: 0', 'bsmtfinsf1']\n",
    "#testing = testing[proxy]\n",
    "#housing_features = housing_features[trimmed_features]\n",
    "#print(feature_selected)"
   ]
  },
  {
   "cell_type": "code",
   "execution_count": 18,
   "metadata": {},
   "outputs": [
    {
     "data": {
      "text/plain": [
       "0.8562974417955274"
      ]
     },
     "execution_count": 18,
     "metadata": {},
     "output_type": "execute_result"
    }
   ],
   "source": [
    "clf.fit(htrain, ptrain)\n",
    "\n",
    "clf.score(htest, ptest)"
   ]
  },
  {
   "cell_type": "code",
   "execution_count": 19,
   "metadata": {},
   "outputs": [
    {
     "data": {
      "text/plain": [
       "0.022411580487852308"
      ]
     },
     "execution_count": 19,
     "metadata": {},
     "output_type": "execute_result"
    }
   ],
   "source": [
    "nice = clf.predict(htest)\n",
    "mean_squared_error(nice, ptest)"
   ]
  },
  {
   "cell_type": "code",
   "execution_count": 140,
   "metadata": {},
   "outputs": [],
   "source": [
    "pred = np.exp(clf.predict(htest_features))\n",
    "Submission(htest_id, pred)"
   ]
  },
  {
   "cell_type": "markdown",
   "metadata": {},
   "source": [
    "## Lasso"
   ]
  },
  {
   "cell_type": "code",
   "execution_count": 13,
   "metadata": {},
   "outputs": [
    {
     "data": {
      "image/png": "[encoded data removed]",
      "text/plain": [
       "<Figure size 432x288 with 1 Axes>"
      ]
     },
     "metadata": {},
     "output_type": "display_data"
    }
   ],
   "source": [
    "alp = optimize_penalty(htrain, ptrain, model=Lasso, min_=1e-7, max_=1, step=0.0001, plot=True)"
   ]
  },
  {
   "cell_type": "code",
   "execution_count": 14,
   "metadata": {},
   "outputs": [
    {
     "ename": "AttributeError",
     "evalue": "'tuple' object has no attribute 'best_params_'",
     "output_type": "error",
     "traceback": [
      "\u001b[1;31m---------------------------------------------------------------------------\u001b[0m",
      "\u001b[1;31mAttributeError\u001b[0m                            Traceback (most recent call last)",
      "\u001b[1;32m<ipython-input-14-c95a61e64271>\u001b[0m in \u001b[0;36m<module>\u001b[1;34m\u001b[0m\n\u001b[1;32m----> 1\u001b[1;33m \u001b[0malp\u001b[0m\u001b[1;33m.\u001b[0m\u001b[0mbest_params_\u001b[0m\u001b[1;33m\u001b[0m\u001b[1;33m\u001b[0m\u001b[0m\n\u001b[0m",
      "\u001b[1;31mAttributeError\u001b[0m: 'tuple' object has no attribute 'best_params_'"
     ]
    }
   ],
   "source": [
    "alp.best_params_"
   ]
  },
  {
   "cell_type": "code",
   "execution_count": 10,
   "metadata": {},
   "outputs": [
    {
     "name": "stdout",
     "output_type": "stream",
     "text": [
      "0.9215826410957992\n",
      "0.8925906462144002\n"
     ]
    }
   ],
   "source": [
    "lasso = Lasso(normalize=True)\n",
    "lasso.set_params(alpha = 1e-7)\n",
    "lasso.fit(htrain, ptrain)\n",
    "\n",
    "print(lasso.score(htrain, ptrain))\n",
    "print(lasso.score(htest, ptest))\n",
    "#print(selected_coefs)\n",
    "pred = lasso.predict(htest)"
   ]
  },
  {
   "cell_type": "code",
   "execution_count": 11,
   "metadata": {},
   "outputs": [
    {
     "data": {
      "text/plain": [
       "0.016079964304549214"
      ]
     },
     "execution_count": 11,
     "metadata": {},
     "output_type": "execute_result"
    }
   ],
   "source": [
    "mean_squared_error(pred, ptest)"
   ]
  },
  {
   "cell_type": "code",
   "execution_count": 31,
   "metadata": {},
   "outputs": [
    {
     "data": {
      "text/plain": [
       "Index(['mssubclass', 'mszoning', 'lotarea', 'street', 'alley', 'lotshape',\n",
       "       'landcontour', 'utilities', 'lotconfig', 'landslope', 'neighborhood',\n",
       "       'condition1', 'condition2', 'bldgtype', 'overallqual', 'overallcond',\n",
       "       'yearbuilt', 'yearremodadd', 'roofstyle', 'roofmatl', 'exterior1st',\n",
       "       'masvnrtype', 'masvnrarea', 'exterqual', 'extercond', 'foundation',\n",
       "       'bsmtqual', 'bsmtcond', 'bsmtexposure', 'bsmtfintype1', 'bsmtfintype2',\n",
       "       'bsmtunfsf', 'totalbsmtsf', 'heating', 'heatingqc', 'centralair',\n",
       "       'electrical', 'lowqualfinsf', 'grlivarea', 'bsmtfullbath',\n",
       "       'bsmthalfbath', 'fullbath', 'halfbath', 'bedroomabvgr', 'kitchenabvgr',\n",
       "       'kitchenqual', 'totrmsabvgrd', 'functional', 'fireplaces',\n",
       "       'fireplacequ', 'garagetype', 'garageyrblt', 'garagearea', 'paveddrive',\n",
       "       'wooddecksf', 'openporchsf', 'enclosedporch', 'x3ssnporch',\n",
       "       'screenporch', 'poolarea', 'fence', 'miscfeature', 'mosold', 'yrsold',\n",
       "       'saletype', 'salecondition'],\n",
       "      dtype='object')"
      ]
     },
     "execution_count": 31,
     "metadata": {},
     "output_type": "execute_result"
    }
   ],
   "source": [
    "testing.columns"
   ]
  },
  {
   "cell_type": "code",
   "execution_count": 32,
   "metadata": {},
   "outputs": [
    {
     "data": {
      "text/plain": [
       "Index(['mssubclass', 'mszoning', 'lotarea', 'street', 'alley', 'lotshape',\n",
       "       'landcontour', 'utilities', 'lotconfig', 'landslope', 'neighborhood',\n",
       "       'condition1', 'condition2', 'bldgtype', 'overallqual', 'overallcond',\n",
       "       'yearbuilt', 'yearremodadd', 'roofstyle', 'roofmatl', 'exterior1st',\n",
       "       'masvnrtype', 'masvnrarea', 'exterqual', 'extercond', 'foundation',\n",
       "       'bsmtqual', 'bsmtcond', 'bsmtexposure', 'bsmtfintype1', 'bsmtfintype2',\n",
       "       'bsmtunfsf', 'totalbsmtsf', 'heating', 'heatingqc', 'centralair',\n",
       "       'electrical', 'lowqualfinsf', 'grlivarea', 'bsmtfullbath',\n",
       "       'bsmthalfbath', 'fullbath', 'halfbath', 'bedroomabvgr', 'kitchenabvgr',\n",
       "       'kitchenqual', 'totrmsabvgrd', 'functional', 'fireplaces',\n",
       "       'fireplacequ', 'garagetype', 'garageyrblt', 'garagearea', 'paveddrive',\n",
       "       'wooddecksf', 'openporchsf', 'enclosedporch', 'x3ssnporch',\n",
       "       'screenporch', 'poolarea', 'fence', 'miscfeature', 'mosold', 'yrsold',\n",
       "       'saletype', 'salecondition'],\n",
       "      dtype='object')"
      ]
     },
     "execution_count": 32,
     "metadata": {},
     "output_type": "execute_result"
    }
   ],
   "source": [
    "htrain.columns"
   ]
  },
  {
   "cell_type": "code",
   "execution_count": 14,
   "metadata": {},
   "outputs": [],
   "source": [
    "pred = (lasso.predict(testing))"
   ]
  },
  {
   "cell_type": "code",
   "execution_count": 13,
   "metadata": {},
   "outputs": [
    {
     "data": {
      "text/plain": [
       "array([42.51412387, 42.76610533, 43.14914014, 43.09026955, 42.6404297 ,\n",
       "       42.8575196 , 42.63976209, 42.7198058 , 42.54812415])"
      ]
     },
     "execution_count": 13,
     "metadata": {},
     "output_type": "execute_result"
    }
   ],
   "source": [
    "pred[1:10]"
   ]
  },
  {
   "cell_type": "code",
   "execution_count": 319,
   "metadata": {},
   "outputs": [],
   "source": [
    "Submission(htest_id, pred)"
   ]
  }
 ],
 "metadata": {
  "kernelspec": {
   "display_name": "Python 3",
   "language": "python",
   "name": "python3"
  },
  "language_info": {
   "codemirror_mode": {
    "name": "ipython",
    "version": 3
   },
   "file_extension": ".py",
   "mimetype": "text/x-python",
   "name": "python",
   "nbconvert_exporter": "python",
   "pygments_lexer": "ipython3",
   "version": "3.7.3"
  }
 },
 "nbformat": 4,
 "nbformat_minor": 2
}
