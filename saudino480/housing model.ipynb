{
 "cells": [
  {
   "cell_type": "code",
   "execution_count": 1,
   "metadata": {},
   "outputs": [],
   "source": [
    "%matplotlib inline\n",
    "import matplotlib.pyplot as plt\n",
    "plt.style.use('ggplot')\n",
    "import pandas as pd\n",
    "import numpy as np\n",
    "from sklearn.linear_model import LinearRegression\n",
    "from sklearn.ensemble import RandomForestRegressor\n",
    "from sklearn import datasets\n",
    "from sklearn.model_selection import train_test_split, cross_val_score\n",
    "from sklearn.feature_selection import SelectFromModel\n",
    "from sklearn.metrics import accuracy_score, mean_squared_error"
   ]
  },
  {
   "cell_type": "code",
   "execution_count": 2,
   "metadata": {},
   "outputs": [],
   "source": [
    "def to_numeric(df, col, target=\"\", test = False):\n",
    "\n",
    "    group = df.groupby(col)\n",
    "    group = group.aggregate({ target :'median'})\n",
    "    group = group.sort_values(target)\n",
    "\n",
    "    names = list(group.index)\n",
    "    #print(names)\n",
    "    id_dict = {}\n",
    "    i = 0\n",
    "    for name in names:\n",
    "        #print(name)\n",
    "        id_dict.update({name: i})\n",
    "        i += 1\n",
    "    print(\"Encoded values for: \", col)\n",
    "    print(id_dict)\n",
    "    #print(df[col].unique())\n",
    "    df[col] = [id_dict[x] for x in df[col]]\n",
    "\n",
    "    return df, id_dict"
   ]
  },
  {
   "cell_type": "code",
   "execution_count": 3,
   "metadata": {},
   "outputs": [],
   "source": [
    "def to_numeric_test(df, col, id_dict):\n",
    "    \n",
    "    dict_keys = list(id_dict.keys())\n",
    "    \n",
    "    names = list(df[col].unique())\n",
    "    #print(col, \"*\"*50)\n",
    "    #print(dict_keys)\n",
    "    #print(names)\n",
    "    missing_values = [x for x in names if x not in dict_keys]\n",
    "    \n",
    "    #print(missing_values)\n",
    "    i = len(dict_keys) // 2\n",
    "    for name in missing_values:\n",
    "        #print(name)\n",
    "        id_dict.update({name: i})\n",
    "    #print(\"Encoded values for: \", col)\n",
    "    #print(id_dict)\n",
    "    #print(df[col].unique())\n",
    "    df[col] = [id_dict[x] for x in df[col]]\n",
    "\n",
    "    return df, id_dict"
   ]
  },
  {
   "cell_type": "code",
   "execution_count": 4,
   "metadata": {},
   "outputs": [],
   "source": [
    "housing = pd.read_csv('../data/clean_train.csv')"
   ]
  },
  {
   "cell_type": "code",
   "execution_count": 5,
   "metadata": {},
   "outputs": [],
   "source": [
    "housing.drop('Id', axis=1, inplace=True)"
   ]
  },
  {
   "cell_type": "code",
   "execution_count": 6,
   "metadata": {},
   "outputs": [],
   "source": [
    "needs_numeric = housing.loc[:, housing.dtypes == \"object\"]\n",
    "needs_numeric_names = needs_numeric.columns"
   ]
  },
  {
   "cell_type": "code",
   "execution_count": 7,
   "metadata": {},
   "outputs": [
    {
     "name": "stdout",
     "output_type": "stream",
     "text": [
      "Encoded values for:  MSZoning\n",
      "{'C (all)': 0, 'RM': 1, 'RH': 2, 'RL': 3, 'FV': 4}\n",
      "Encoded values for:  Street\n",
      "{'Grvl': 0, 'Pave': 1}\n",
      "Encoded values for:  Alley\n",
      "{'Grvl': 0, 'None': 1, 'Pave': 2}\n",
      "Encoded values for:  LotShape\n",
      "{'Reg': 0, 'IR1': 1, 'IR3': 2, 'IR2': 3}\n",
      "Encoded values for:  LandContour\n",
      "{'Bnk': 0, 'Lvl': 1, 'Low': 2, 'HLS': 3}\n",
      "Encoded values for:  Utilities\n",
      "{'NoSeWa': 0, 'AllPub': 1}\n",
      "Encoded values for:  LotConfig\n",
      "{'Inside': 0, 'Corner': 1, 'FR2': 2, 'FR3': 3, 'CulDSac': 4}\n",
      "Encoded values for:  LandSlope\n",
      "{'Gtl': 0, 'Sev': 1, 'Mod': 2}\n",
      "Encoded values for:  Neighborhood\n",
      "{'MeadowV': 0, 'IDOTRR': 1, 'BrDale': 2, 'OldTown': 3, 'Edwards': 4, 'BrkSide': 5, 'Sawyer': 6, 'Blueste': 7, 'SWISU': 8, 'NAmes': 9, 'NPkVill': 10, 'Mitchel': 11, 'SawyerW': 12, 'Gilbert': 13, 'NWAmes': 14, 'Blmngtn': 15, 'CollgCr': 16, 'ClearCr': 17, 'Crawfor': 18, 'Veenker': 19, 'Somerst': 20, 'Timber': 21, 'StoneBr': 22, 'NoRidge': 23, 'NridgHt': 24}\n",
      "Encoded values for:  Condition1\n",
      "{'Artery': 0, 'Feedr': 1, 'RRAe': 2, 'Norm': 3, 'RRAn': 4, 'RRNe': 5, 'PosN': 6, 'PosA': 7, 'RRNn': 8}\n",
      "Encoded values for:  Condition2\n",
      "{'RRNn': 0, 'Artery': 1, 'Feedr': 2, 'RRAn': 3, 'Norm': 4, 'RRAe': 5, 'PosN': 6, 'PosA': 7}\n",
      "Encoded values for:  BldgType\n",
      "{'2fmCon': 0, 'Duplex': 1, 'Twnhs': 2, '1Fam': 3, 'TwnhsE': 4}\n",
      "Encoded values for:  HouseStyle\n",
      "{'1.5Unf': 0, '1.5Fin': 1, '2.5Unf': 2, 'SFoyer': 3, '1Story': 4, 'SLvl': 5, '2Story': 6, '2.5Fin': 7}\n",
      "Encoded values for:  RoofStyle\n",
      "{'Gambrel': 0, 'Gable': 1, 'Mansard': 2, 'Hip': 3, 'Flat': 4, 'Shed': 5}\n",
      "Encoded values for:  RoofMatl\n",
      "{'Roll': 0, 'ClyTile': 1, 'CompShg': 2, 'Tar&Grv': 3, 'Metal': 4, 'Membran': 5, 'WdShake': 6, 'WdShngl': 7}\n",
      "Encoded values for:  Exterior1st\n",
      "{'BrkComm': 0, 'AsphShn': 1, 'CBlock': 2, 'AsbShng': 3, 'WdShing': 4, 'Wd Sdng': 5, 'MetalSd': 6, 'Stucco': 7, 'HdBoard': 8, 'BrkFace': 9, 'Plywood': 10, 'VinylSd': 11, 'CemntBd': 12, 'Stone': 13, 'ImStucc': 14}\n",
      "Encoded values for:  Exterior2nd\n",
      "{'CBlock': 0, 'AsbShng': 1, 'Wd Sdng': 2, 'Wd Shng': 3, 'MetalSd': 4, 'AsphShn': 5, 'Stucco': 6, 'Brk Cmn': 7, 'HdBoard': 8, 'BrkFace': 9, 'Plywood': 10, 'Stone': 11, 'ImStucc': 12, 'VinylSd': 13, 'CmentBd': 14, 'Other': 15}\n",
      "Encoded values for:  MasVnrType\n",
      "{'BrkCmn': 0, 'None': 1, 'BrkFace': 2, 'Stone': 3}\n",
      "Encoded values for:  ExterQual\n",
      "{'Fa': 0, 'TA': 1, 'Gd': 2, 'Ex': 3}\n",
      "Encoded values for:  ExterCond\n",
      "{'Po': 0, 'Fa': 1, 'Gd': 2, 'Ex': 3, 'TA': 4}\n",
      "Encoded values for:  Foundation\n",
      "{'Slab': 0, 'BrkTil': 1, 'Stone': 2, 'CBlock': 3, 'Wood': 4, 'PConc': 5}\n",
      "Encoded values for:  BsmtQual\n",
      "{'None': 0, 'Fa': 1, 'TA': 2, 'Gd': 3, 'Ex': 4}\n",
      "Encoded values for:  BsmtCond\n",
      "{'Po': 0, 'None': 1, 'Fa': 2, 'TA': 3, 'Gd': 4}\n",
      "Encoded values for:  BsmtExposure\n",
      "{'None': 0, 'No': 1, 'Mn': 2, 'Av': 3, 'Gd': 4}\n",
      "Encoded values for:  BsmtFinType1\n",
      "{'None': 0, 'LwQ': 1, 'BLQ': 2, 'Rec': 3, 'ALQ': 4, 'Unf': 5, 'GLQ': 6}\n",
      "Encoded values for:  BsmtFinType2\n",
      "{'None': 0, 'BLQ': 1, 'Rec': 2, 'LwQ': 3, 'Unf': 4, 'ALQ': 5, 'GLQ': 6}\n",
      "Encoded values for:  Heating\n",
      "{'Floor': 0, 'Grav': 1, 'Wall': 2, 'OthW': 3, 'GasW': 4, 'GasA': 5}\n",
      "Encoded values for:  HeatingQC\n",
      "{'Po': 0, 'Fa': 1, 'TA': 2, 'Gd': 3, 'Ex': 4}\n",
      "Encoded values for:  CentralAir\n",
      "{'N': 0, 'Y': 1}\n",
      "Encoded values for:  Electrical\n",
      "{'Mix': 0, 'FuseP': 1, 'FuseF': 2, 'FuseA': 3, 'SBrkr': 4}\n",
      "Encoded values for:  KitchenQual\n",
      "{'Fa': 0, 'TA': 1, 'Gd': 2, 'Ex': 3}\n",
      "Encoded values for:  Functional\n",
      "{'Maj2': 0, 'Sev': 1, 'Mod': 2, 'Min1': 3, 'Min2': 4, 'Maj1': 5, 'Typ': 6}\n",
      "Encoded values for:  FireplaceQu\n",
      "{'Po': 0, 'None': 1, 'Fa': 2, 'TA': 3, 'Gd': 4, 'Ex': 5}\n"
     ]
    },
    {
     "name": "stderr",
     "output_type": "stream",
     "text": [
      "/home/sama/anaconda3/lib/python3.7/site-packages/ipykernel_launcher.py:6: UserWarning: Pandas doesn't allow columns to be created via a new attribute name - see https://pandas.pydata.org/pandas-docs/stable/indexing.html#attribute-access\n",
      "  \n"
     ]
    },
    {
     "name": "stdout",
     "output_type": "stream",
     "text": [
      "Encoded values for:  GarageType\n",
      "{'None': 0, 'CarPort': 1, 'Detchd': 2, 'Basment': 3, '2Types': 4, 'Attchd': 5, 'BuiltIn': 6}\n",
      "Encoded values for:  GarageFinish\n",
      "{'None': 0, 'Unf': 1, 'RFn': 2, 'Fin': 3}\n",
      "Encoded values for:  GarageQual\n",
      "{'Po': 0, 'None': 1, 'Fa': 2, 'Ex': 3, 'TA': 4, 'Gd': 5}\n",
      "Encoded values for:  GarageCond\n",
      "{'None': 0, 'Po': 1, 'Fa': 2, 'Ex': 3, 'Gd': 4, 'TA': 5}\n",
      "Encoded values for:  PavedDrive\n",
      "{'N': 0, 'P': 1, 'Y': 2}\n",
      "Encoded values for:  PoolQC\n",
      "{'None': 0, 'Gd': 1, 'Fa': 2, 'Ex': 3}\n",
      "Encoded values for:  Fence\n",
      "{'MnWw': 0, 'MnPrv': 1, 'GdWo': 2, 'GdPrv': 3, 'None': 4}\n",
      "Encoded values for:  MiscFeature\n",
      "{'Othr': 0, 'Shed': 1, 'None': 2, 'Gar2': 3, 'TenC': 4}\n",
      "Encoded values for:  SaleType\n",
      "{'Oth': 0, 'ConLI': 1, 'COD': 2, 'ConLD': 3, 'ConLw': 4, 'WD': 5, 'CWD': 6, 'New': 7, 'Con': 8}\n",
      "Encoded values for:  SaleCondition\n",
      "{'AdjLand': 0, 'Abnorml': 1, 'Family': 2, 'Alloca': 3, 'Normal': 4, 'Partial': 5}\n"
     ]
    },
    {
     "data": {
      "text/html": [
       "<div>\n",
       "<style scoped>\n",
       "    .dataframe tbody tr th:only-of-type {\n",
       "        vertical-align: middle;\n",
       "    }\n",
       "\n",
       "    .dataframe tbody tr th {\n",
       "        vertical-align: top;\n",
       "    }\n",
       "\n",
       "    .dataframe thead th {\n",
       "        text-align: right;\n",
       "    }\n",
       "</style>\n",
       "<table border=\"1\" class=\"dataframe\">\n",
       "  <thead>\n",
       "    <tr style=\"text-align: right;\">\n",
       "      <th></th>\n",
       "      <th>MSSubClass</th>\n",
       "      <th>MSZoning</th>\n",
       "      <th>LotFrontage</th>\n",
       "      <th>LotArea</th>\n",
       "      <th>Street</th>\n",
       "      <th>Alley</th>\n",
       "      <th>LotShape</th>\n",
       "      <th>LandContour</th>\n",
       "      <th>Utilities</th>\n",
       "      <th>LotConfig</th>\n",
       "      <th>...</th>\n",
       "      <th>PoolArea</th>\n",
       "      <th>PoolQC</th>\n",
       "      <th>Fence</th>\n",
       "      <th>MiscFeature</th>\n",
       "      <th>MiscVal</th>\n",
       "      <th>MoSold</th>\n",
       "      <th>YrSold</th>\n",
       "      <th>SaleType</th>\n",
       "      <th>SaleCondition</th>\n",
       "      <th>SalePrice</th>\n",
       "    </tr>\n",
       "  </thead>\n",
       "  <tbody>\n",
       "    <tr>\n",
       "      <th>0</th>\n",
       "      <td>60</td>\n",
       "      <td>3</td>\n",
       "      <td>65.0</td>\n",
       "      <td>8450</td>\n",
       "      <td>1</td>\n",
       "      <td>1</td>\n",
       "      <td>0</td>\n",
       "      <td>1</td>\n",
       "      <td>1</td>\n",
       "      <td>0</td>\n",
       "      <td>...</td>\n",
       "      <td>0</td>\n",
       "      <td>0</td>\n",
       "      <td>4</td>\n",
       "      <td>2</td>\n",
       "      <td>0</td>\n",
       "      <td>2</td>\n",
       "      <td>2008</td>\n",
       "      <td>5</td>\n",
       "      <td>4</td>\n",
       "      <td>208500</td>\n",
       "    </tr>\n",
       "    <tr>\n",
       "      <th>1</th>\n",
       "      <td>20</td>\n",
       "      <td>3</td>\n",
       "      <td>80.0</td>\n",
       "      <td>9600</td>\n",
       "      <td>1</td>\n",
       "      <td>1</td>\n",
       "      <td>0</td>\n",
       "      <td>1</td>\n",
       "      <td>1</td>\n",
       "      <td>2</td>\n",
       "      <td>...</td>\n",
       "      <td>0</td>\n",
       "      <td>0</td>\n",
       "      <td>4</td>\n",
       "      <td>2</td>\n",
       "      <td>0</td>\n",
       "      <td>5</td>\n",
       "      <td>2007</td>\n",
       "      <td>5</td>\n",
       "      <td>4</td>\n",
       "      <td>181500</td>\n",
       "    </tr>\n",
       "    <tr>\n",
       "      <th>2</th>\n",
       "      <td>60</td>\n",
       "      <td>3</td>\n",
       "      <td>68.0</td>\n",
       "      <td>11250</td>\n",
       "      <td>1</td>\n",
       "      <td>1</td>\n",
       "      <td>1</td>\n",
       "      <td>1</td>\n",
       "      <td>1</td>\n",
       "      <td>0</td>\n",
       "      <td>...</td>\n",
       "      <td>0</td>\n",
       "      <td>0</td>\n",
       "      <td>4</td>\n",
       "      <td>2</td>\n",
       "      <td>0</td>\n",
       "      <td>9</td>\n",
       "      <td>2008</td>\n",
       "      <td>5</td>\n",
       "      <td>4</td>\n",
       "      <td>223500</td>\n",
       "    </tr>\n",
       "    <tr>\n",
       "      <th>3</th>\n",
       "      <td>70</td>\n",
       "      <td>3</td>\n",
       "      <td>60.0</td>\n",
       "      <td>9550</td>\n",
       "      <td>1</td>\n",
       "      <td>1</td>\n",
       "      <td>1</td>\n",
       "      <td>1</td>\n",
       "      <td>1</td>\n",
       "      <td>1</td>\n",
       "      <td>...</td>\n",
       "      <td>0</td>\n",
       "      <td>0</td>\n",
       "      <td>4</td>\n",
       "      <td>2</td>\n",
       "      <td>0</td>\n",
       "      <td>2</td>\n",
       "      <td>2006</td>\n",
       "      <td>5</td>\n",
       "      <td>1</td>\n",
       "      <td>140000</td>\n",
       "    </tr>\n",
       "    <tr>\n",
       "      <th>4</th>\n",
       "      <td>60</td>\n",
       "      <td>3</td>\n",
       "      <td>84.0</td>\n",
       "      <td>14260</td>\n",
       "      <td>1</td>\n",
       "      <td>1</td>\n",
       "      <td>1</td>\n",
       "      <td>1</td>\n",
       "      <td>1</td>\n",
       "      <td>2</td>\n",
       "      <td>...</td>\n",
       "      <td>0</td>\n",
       "      <td>0</td>\n",
       "      <td>4</td>\n",
       "      <td>2</td>\n",
       "      <td>0</td>\n",
       "      <td>12</td>\n",
       "      <td>2008</td>\n",
       "      <td>5</td>\n",
       "      <td>4</td>\n",
       "      <td>250000</td>\n",
       "    </tr>\n",
       "  </tbody>\n",
       "</table>\n",
       "<p>5 rows × 80 columns</p>\n",
       "</div>"
      ],
      "text/plain": [
       "   MSSubClass  MSZoning  LotFrontage  LotArea  Street  Alley  LotShape  \\\n",
       "0          60         3         65.0     8450       1      1         0   \n",
       "1          20         3         80.0     9600       1      1         0   \n",
       "2          60         3         68.0    11250       1      1         1   \n",
       "3          70         3         60.0     9550       1      1         1   \n",
       "4          60         3         84.0    14260       1      1         1   \n",
       "\n",
       "   LandContour  Utilities  LotConfig  ...  PoolArea  PoolQC  Fence  \\\n",
       "0            1          1          0  ...         0       0      4   \n",
       "1            1          1          2  ...         0       0      4   \n",
       "2            1          1          0  ...         0       0      4   \n",
       "3            1          1          1  ...         0       0      4   \n",
       "4            1          1          2  ...         0       0      4   \n",
       "\n",
       "   MiscFeature  MiscVal  MoSold  YrSold  SaleType  SaleCondition  SalePrice  \n",
       "0            2        0       2    2008         5              4     208500  \n",
       "1            2        0       5    2007         5              4     181500  \n",
       "2            2        0       9    2008         5              4     223500  \n",
       "3            2        0       2    2006         5              1     140000  \n",
       "4            2        0      12    2008         5              4     250000  \n",
       "\n",
       "[5 rows x 80 columns]"
      ]
     },
     "execution_count": 7,
     "metadata": {},
     "output_type": "execute_result"
    }
   ],
   "source": [
    "colname = list(needs_numeric_names)\n",
    "#print(colname)\n",
    "dict_dictonary = {}\n",
    "\n",
    "for col in colname:\n",
    "    housing.col, id_dictonary = to_numeric(housing, col, 'SalePrice')\n",
    "    dict_dictonary.update({col : id_dictonary})\n",
    "#print(dict_dictonary)\n",
    "housing.head()"
   ]
  },
  {
   "cell_type": "code",
   "execution_count": 8,
   "metadata": {},
   "outputs": [],
   "source": [
    "housing.columns = housing.columns.str.lower()\n",
    "# housing.dtypes"
   ]
  },
  {
   "cell_type": "code",
   "execution_count": 9,
   "metadata": {},
   "outputs": [
    {
     "name": "stdout",
     "output_type": "stream",
     "text": [
      "Index(['mssubclass', 'mszoning', 'lotfrontage', 'lotarea', 'street', 'alley',\n",
      "       'lotshape', 'landcontour', 'utilities', 'lotconfig', 'landslope',\n",
      "       'neighborhood', 'condition1', 'condition2', 'bldgtype', 'housestyle',\n",
      "       'overallqual', 'overallcond', 'yearbuilt', 'yearremodadd', 'roofstyle',\n",
      "       'roofmatl', 'exterior1st', 'exterior2nd', 'masvnrtype', 'masvnrarea',\n",
      "       'exterqual', 'extercond', 'foundation', 'bsmtqual', 'bsmtcond',\n",
      "       'bsmtexposure', 'bsmtfintype1', 'bsmtfinsf1', 'bsmtfintype2',\n",
      "       'bsmtfinsf2', 'bsmtunfsf', 'totalbsmtsf', 'heating', 'heatingqc',\n",
      "       'centralair', 'electrical', 'x1stflrsf', 'x2ndflrsf', 'lowqualfinsf',\n",
      "       'grlivarea', 'bsmtfullbath', 'bsmthalfbath', 'fullbath', 'halfbath',\n",
      "       'bedroomabvgr', 'kitchenabvgr', 'kitchenqual', 'totrmsabvgrd',\n",
      "       'functional', 'fireplaces', 'fireplacequ', 'garagetype', 'garageyrblt',\n",
      "       'garagefinish', 'garagecars', 'garagearea', 'garagequal', 'garagecond',\n",
      "       'paveddrive', 'wooddecksf', 'openporchsf', 'enclosedporch',\n",
      "       'x3ssnporch', 'screenporch', 'poolarea', 'poolqc', 'fence',\n",
      "       'miscfeature', 'miscval', 'mosold', 'yrsold', 'saletype',\n",
      "       'salecondition'],\n",
      "      dtype='object')\n"
     ]
    }
   ],
   "source": [
    "housing_features = housing.drop(['saleprice'], axis=1)\n",
    "# housing_features.neighborhood = [str(x) for x in housing_features.neighborhood]\n",
    "# housing_features.mssubclass = [str(x) for x in housing_features.mssubclass]\n",
    "# housing_features = pd.get_dummies(housing_features, prefix=['nbhood', 'msclass'], \n",
    "#                                   columns = ['neighborhood', 'mssubclass'], \n",
    "#                                   drop_first = True)\n",
    "feat_labels = housing_features.columns\n",
    "print(feat_labels)\n",
    "\n",
    "prices = [np.log(x) for x in housing.saleprice]"
   ]
  },
  {
   "cell_type": "code",
   "execution_count": 10,
   "metadata": {},
   "outputs": [],
   "source": [
    "# Split into training and test set\n",
    "features_train, features_test, price_train, price_test = train_test_split(housing_features, prices, test_size = 0.33)"
   ]
  },
  {
   "cell_type": "code",
   "execution_count": 11,
   "metadata": {},
   "outputs": [
    {
     "data": {
      "text/plain": [
       "SelectFromModel(estimator=RandomForestRegressor(bootstrap=True, criterion='mse', max_depth=None,\n",
       "           max_features='auto', max_leaf_nodes=None,\n",
       "           min_impurity_decrease=0.0, min_impurity_split=None,\n",
       "           min_samples_leaf=1, min_samples_split=10,\n",
       "           min_weight_fraction_leaf=0.0, n_estimators=10000, n_jobs=-1,\n",
       "           oob_score=False, random_state=0, verbose=0, warm_start=False),\n",
       "        max_features=None, norm_order=1, prefit=False, threshold=0.005)"
      ]
     },
     "execution_count": 11,
     "metadata": {},
     "output_type": "execute_result"
    }
   ],
   "source": [
    "clf = RandomForestRegressor(n_estimators=10000, random_state=0, n_jobs=-1, min_samples_split = 10)\n",
    "\n",
    "sfm = SelectFromModel(clf, threshold = 0.005)\n",
    "\n",
    "sfm.fit(features_train, price_train)"
   ]
  },
  {
   "cell_type": "code",
   "execution_count": 12,
   "metadata": {},
   "outputs": [
    {
     "name": "stdout",
     "output_type": "stream",
     "text": [
      "['lotfrontage']\n",
      "['lotfrontage', 'lotarea']\n",
      "['lotfrontage', 'lotarea', 'neighborhood']\n",
      "['lotfrontage', 'lotarea', 'neighborhood', 'overallqual']\n",
      "['lotfrontage', 'lotarea', 'neighborhood', 'overallqual', 'overallcond']\n",
      "['lotfrontage', 'lotarea', 'neighborhood', 'overallqual', 'overallcond', 'yearbuilt']\n",
      "['lotfrontage', 'lotarea', 'neighborhood', 'overallqual', 'overallcond', 'yearbuilt', 'bsmtfinsf1']\n",
      "['lotfrontage', 'lotarea', 'neighborhood', 'overallqual', 'overallcond', 'yearbuilt', 'bsmtfinsf1', 'totalbsmtsf']\n",
      "['lotfrontage', 'lotarea', 'neighborhood', 'overallqual', 'overallcond', 'yearbuilt', 'bsmtfinsf1', 'totalbsmtsf', 'x1stflrsf']\n",
      "['lotfrontage', 'lotarea', 'neighborhood', 'overallqual', 'overallcond', 'yearbuilt', 'bsmtfinsf1', 'totalbsmtsf', 'x1stflrsf', 'grlivarea']\n",
      "['lotfrontage', 'lotarea', 'neighborhood', 'overallqual', 'overallcond', 'yearbuilt', 'bsmtfinsf1', 'totalbsmtsf', 'x1stflrsf', 'grlivarea', 'fullbath']\n",
      "['lotfrontage', 'lotarea', 'neighborhood', 'overallqual', 'overallcond', 'yearbuilt', 'bsmtfinsf1', 'totalbsmtsf', 'x1stflrsf', 'grlivarea', 'fullbath', 'garagetype']\n",
      "['lotfrontage', 'lotarea', 'neighborhood', 'overallqual', 'overallcond', 'yearbuilt', 'bsmtfinsf1', 'totalbsmtsf', 'x1stflrsf', 'grlivarea', 'fullbath', 'garagetype', 'garagecars']\n",
      "['lotfrontage', 'lotarea', 'neighborhood', 'overallqual', 'overallcond', 'yearbuilt', 'bsmtfinsf1', 'totalbsmtsf', 'x1stflrsf', 'grlivarea', 'fullbath', 'garagetype', 'garagecars', 'garagearea']\n"
     ]
    }
   ],
   "source": [
    "feature_selected = []\n",
    "for feature_list_index in sfm.get_support(indices=True):\n",
    "    feature_selected.append(feat_labels[feature_list_index])\n",
    "    print(feature_selected)"
   ]
  },
  {
   "cell_type": "code",
   "execution_count": 13,
   "metadata": {},
   "outputs": [],
   "source": [
    "proxy = feature_selected"
   ]
  },
  {
   "cell_type": "code",
   "execution_count": 14,
   "metadata": {},
   "outputs": [
    {
     "name": "stdout",
     "output_type": "stream",
     "text": [
      "['lotfrontage', 'lotarea', 'neighborhood', 'overallqual', 'yearbuilt', 'totalbsmtsf', 'grlivarea', 'fullbath', 'garagetype', 'garagearea']\n",
      "Index(['lotfrontage', 'lotarea', 'neighborhood', 'overallqual', 'yearbuilt',\n",
      "       'totalbsmtsf', 'grlivarea', 'fullbath', 'garagetype', 'garagearea'],\n",
      "      dtype='object')\n"
     ]
    }
   ],
   "source": [
    "trimmed = ['x1stflrsf', 'x2ndflrsf', 'garagecars', 'overallcond', 'saleprice', 'Unnamed: 0', 'bsmtfinsf1']\n",
    "\n",
    "# proxy.append(\"neighborhood\")\n",
    "# proxy.append(\"mssubclass\")\n",
    "\n",
    "housing_features = housing.drop('saleprice', axis=1)\n",
    "housing_features = housing_features[proxy]\n",
    "\n",
    "trimmed_features = [x for x in housing_features.columns if (x not in trimmed)]\n",
    "\n",
    "print(trimmed_features)\n",
    "\n",
    "housing_features = housing_features[trimmed_features]\n",
    "\n",
    "# housing_features.neighborhood = [str(x) for x in housing_features.neighborhood]\n",
    "# housing_features.mssubclass = [str(x) for x in housing_features.mssubclass]\n",
    "# housing_features = pd.get_dummies(housing_features, prefix=['nbhood', 'msclass'], \n",
    "#                                   columns = ['neighborhood', 'mssubclass'], \n",
    "#                                   drop_first = True)\n",
    "\n",
    "# housing_features['mssubclass_150'] = 0\n",
    "\n",
    "feat_labels = housing_features.columns\n",
    "print(feat_labels)\n",
    "\n",
    "prices = [np.log(x) for x in housing.saleprice]"
   ]
  },
  {
   "cell_type": "code",
   "execution_count": 15,
   "metadata": {},
   "outputs": [],
   "source": [
    "features_train, features_test, price_train, price_test = train_test_split(housing_features, prices, test_size = 0.33)"
   ]
  },
  {
   "cell_type": "code",
   "execution_count": 16,
   "metadata": {},
   "outputs": [
    {
     "name": "stdout",
     "output_type": "stream",
     "text": [
      "0.8573443405471034\n",
      "0.03163316248776302\n"
     ]
    }
   ],
   "source": [
    "linear = LinearRegression()\n",
    "\n",
    "print(np.mean(cross_val_score(linear, features_train, price_train, cv=5)))\n",
    "\n",
    "linear.fit(housing_features, prices)\n",
    "\n",
    "price_pred = linear.predict(features_test)\n",
    "\n",
    "\n",
    "print(mean_squared_error(price_test, price_pred))"
   ]
  },
  {
   "cell_type": "code",
   "execution_count": 17,
   "metadata": {},
   "outputs": [],
   "source": [
    "housing_test = pd.read_csv('../data/clean_test.csv')"
   ]
  },
  {
   "cell_type": "code",
   "execution_count": 18,
   "metadata": {},
   "outputs": [],
   "source": [
    "needs_numeric2 = housing_test.loc[:, housing_test.dtypes == \"object\"]\n",
    "needs_numeric_names2 = needs_numeric2.columns"
   ]
  },
  {
   "cell_type": "code",
   "execution_count": 19,
   "metadata": {},
   "outputs": [
    {
     "name": "stdout",
     "output_type": "stream",
     "text": [
      "['MSZoning', 'Street', 'Alley', 'LotShape', 'LandContour', 'Utilities', 'LotConfig', 'LandSlope', 'Neighborhood', 'Condition1', 'Condition2', 'BldgType', 'HouseStyle', 'RoofStyle', 'RoofMatl', 'Exterior1st', 'Exterior2nd', 'MasVnrType', 'ExterQual', 'ExterCond', 'Foundation', 'BsmtQual', 'BsmtCond', 'BsmtExposure', 'BsmtFinType1', 'BsmtFinType2', 'Heating', 'HeatingQC', 'CentralAir', 'Electrical', 'KitchenQual', 'Functional', 'FireplaceQu', 'GarageType', 'GarageFinish', 'GarageQual', 'GarageCond', 'PavedDrive', 'PoolQC', 'Fence', 'MiscFeature', 'SaleType', 'SaleCondition']\n",
      "[]\n",
      "[]\n",
      "[]\n",
      "[]\n",
      "[]\n",
      "[]\n",
      "[]\n",
      "[]\n",
      "[]\n",
      "[]\n",
      "[]\n",
      "[]\n",
      "[]\n",
      "[]\n",
      "[]\n",
      "[]\n",
      "[]\n",
      "[]\n",
      "[]\n",
      "[]\n",
      "[]\n",
      "[]\n",
      "[]\n",
      "[]\n",
      "[]\n",
      "[]\n",
      "[]\n",
      "[]\n",
      "[]\n",
      "[]\n",
      "[]\n",
      "[]\n",
      "[]\n",
      "[]\n",
      "[]\n",
      "[]\n",
      "[]\n",
      "[]\n",
      "[]\n",
      "[]\n",
      "[]\n",
      "[]\n",
      "[]\n",
      "\n"
     ]
    },
    {
     "name": "stderr",
     "output_type": "stream",
     "text": [
      "/home/sama/anaconda3/lib/python3.7/site-packages/ipykernel_launcher.py:6: UserWarning: Pandas doesn't allow columns to be created via a new attribute name - see https://pandas.pydata.org/pandas-docs/stable/indexing.html#attribute-access\n",
      "  \n"
     ]
    }
   ],
   "source": [
    "colname2 = list(needs_numeric_names2)\n",
    "print(colname2)\n",
    "dict_dictonary2 = {}\n",
    "\n",
    "for col in colname2:\n",
    "    housing_test.col, id_dictonary = to_numeric_test(housing_test, col, dict_dictonary[col])\n",
    "    dict_dictonary2.update({col : id_dictonary})\n",
    "# print(dict_dictonary)\n",
    "# housing_test.head()\n",
    "print(\"\")"
   ]
  },
  {
   "cell_type": "code",
   "execution_count": 21,
   "metadata": {},
   "outputs": [],
   "source": [
    "housing_test.columns = housing_test.columns.str.lower()"
   ]
  },
  {
   "cell_type": "code",
   "execution_count": 22,
   "metadata": {},
   "outputs": [
    {
     "name": "stdout",
     "output_type": "stream",
     "text": [
      "Index(['lotfrontage', 'lotarea', 'neighborhood', 'overallqual', 'yearbuilt',\n",
      "       'totalbsmtsf', 'grlivarea', 'fullbath', 'garagetype', 'garagearea'],\n",
      "      dtype='object')\n"
     ]
    }
   ],
   "source": [
    "trimmed = ['x1stflrsf', 'x2ndflrsf', 'garagecars', 'overallcond', 'saleprice', 'Unnamed: 0', 'bsmtfinsf1']\n",
    "trimmed_features = [x for x in feature_selected if (x not in trimmed)]\n",
    "\n",
    "housing_featuresT = housing_test.drop(['id'], axis=1)\n",
    "housing_featuresT = housing_featuresT[housing_features.columns]\n",
    "# housing_features['neighborhood'] = [str(x) for x in housing_test.neighborhood]\n",
    "# housing_features['mssubclass'] = [str(x) for x in housing_test.mssubclass]\n",
    "# housing_features = pd.get_dummies(housing_features, prefix=['nbhood', 'msclass'], \n",
    "#                                   columns = ['neighborhood', 'mssubclass'], \n",
    "#                                   drop_first = True)\n",
    "feat_labels = housing_features.columns\n",
    "print(feat_labels)"
   ]
  },
  {
   "cell_type": "code",
   "execution_count": 29,
   "metadata": {},
   "outputs": [],
   "source": [
    "price_pred = linear.predict(housing_featuresT)"
   ]
  },
  {
   "cell_type": "code",
   "execution_count": null,
   "metadata": {},
   "outputs": [],
   "source": []
  },
  {
   "cell_type": "code",
   "execution_count": 30,
   "metadata": {},
   "outputs": [],
   "source": [
    "results = np.exp(price_pred)"
   ]
  },
  {
   "cell_type": "code",
   "execution_count": 31,
   "metadata": {
    "scrolled": true
   },
   "outputs": [
    {
     "data": {
      "text/plain": [
       "1459"
      ]
     },
     "execution_count": 31,
     "metadata": {},
     "output_type": "execute_result"
    }
   ],
   "source": [
    "len(results)"
   ]
  },
  {
   "cell_type": "code",
   "execution_count": 32,
   "metadata": {},
   "outputs": [],
   "source": [
    "submission = pd.DataFrame(columns = ['Id', 'SalePrice'])\n",
    "submission['Id'] = housing_test.id"
   ]
  },
  {
   "cell_type": "code",
   "execution_count": 33,
   "metadata": {},
   "outputs": [
    {
     "data": {
      "text/plain": [
       "1459"
      ]
     },
     "execution_count": 33,
     "metadata": {},
     "output_type": "execute_result"
    }
   ],
   "source": [
    "len(submission['Id'])"
   ]
  },
  {
   "cell_type": "code",
   "execution_count": 34,
   "metadata": {},
   "outputs": [],
   "source": [
    "submission['SalePrice'] = results"
   ]
  },
  {
   "cell_type": "code",
   "execution_count": 35,
   "metadata": {},
   "outputs": [
    {
     "data": {
      "text/html": [
       "<div>\n",
       "<style scoped>\n",
       "    .dataframe tbody tr th:only-of-type {\n",
       "        vertical-align: middle;\n",
       "    }\n",
       "\n",
       "    .dataframe tbody tr th {\n",
       "        vertical-align: top;\n",
       "    }\n",
       "\n",
       "    .dataframe thead th {\n",
       "        text-align: right;\n",
       "    }\n",
       "</style>\n",
       "<table border=\"1\" class=\"dataframe\">\n",
       "  <thead>\n",
       "    <tr style=\"text-align: right;\">\n",
       "      <th></th>\n",
       "      <th>Id</th>\n",
       "      <th>SalePrice</th>\n",
       "    </tr>\n",
       "  </thead>\n",
       "  <tbody>\n",
       "    <tr>\n",
       "      <th>0</th>\n",
       "      <td>1461</td>\n",
       "      <td>133638.113734</td>\n",
       "    </tr>\n",
       "    <tr>\n",
       "      <th>1</th>\n",
       "      <td>1462</td>\n",
       "      <td>155425.454683</td>\n",
       "    </tr>\n",
       "    <tr>\n",
       "      <th>2</th>\n",
       "      <td>1463</td>\n",
       "      <td>164200.932929</td>\n",
       "    </tr>\n",
       "    <tr>\n",
       "      <th>3</th>\n",
       "      <td>1464</td>\n",
       "      <td>176230.557655</td>\n",
       "    </tr>\n",
       "    <tr>\n",
       "      <th>4</th>\n",
       "      <td>1465</td>\n",
       "      <td>226650.694028</td>\n",
       "    </tr>\n",
       "  </tbody>\n",
       "</table>\n",
       "</div>"
      ],
      "text/plain": [
       "     Id      SalePrice\n",
       "0  1461  133638.113734\n",
       "1  1462  155425.454683\n",
       "2  1463  164200.932929\n",
       "3  1464  176230.557655\n",
       "4  1465  226650.694028"
      ]
     },
     "execution_count": 35,
     "metadata": {},
     "output_type": "execute_result"
    }
   ],
   "source": [
    "submission.head()"
   ]
  },
  {
   "cell_type": "code",
   "execution_count": 36,
   "metadata": {},
   "outputs": [],
   "source": [
    "submission.to_csv('submission.csv', index=False)"
   ]
  }
 ],
 "metadata": {
  "kernelspec": {
   "display_name": "Python 3",
   "language": "python",
   "name": "python3"
  },
  "language_info": {
   "codemirror_mode": {
    "name": "ipython",
    "version": 3
   },
   "file_extension": ".py",
   "mimetype": "text/x-python",
   "name": "python",
   "nbconvert_exporter": "python",
   "pygments_lexer": "ipython3",
   "version": "3.7.3"
  }
 },
 "nbformat": 4,
 "nbformat_minor": 2
}
